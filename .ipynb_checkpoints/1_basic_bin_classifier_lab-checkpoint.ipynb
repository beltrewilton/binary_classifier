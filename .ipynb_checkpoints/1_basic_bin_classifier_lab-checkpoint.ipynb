{
 "cells": [
  {
   "cell_type": "code",
   "execution_count": 427,
   "id": "e12ef41a",
   "metadata": {
    "scrolled": false
   },
   "outputs": [],
   "source": [
    "import numpy as np\n",
    "import pandas as pd\n",
    "from classifiers import Classifier\n",
    "from string import punctuation, digits\n",
    "from tqdm.notebook import tqdm_notebook\n",
    "\n",
    "pd.plotting.register_matplotlib_converters()\n",
    "import matplotlib.pyplot as plt\n",
    "import seaborn as sns\n",
    "import utils\n",
    "%matplotlib inline"
   ]
  },
  {
   "cell_type": "code",
   "execution_count": 399,
   "id": "5807f030",
   "metadata": {},
   "outputs": [],
   "source": [
    "file_path = './data/Big_AHR.csv'\n",
    "df = pd.read_csv(file_path, usecols=['rating', 'review_text'])"
   ]
  },
  {
   "cell_type": "code",
   "execution_count": 407,
   "id": "aba4521a",
   "metadata": {},
   "outputs": [
    {
     "data": {
      "text/html": [
       "<div>\n",
       "<style scoped>\n",
       "    .dataframe tbody tr th:only-of-type {\n",
       "        vertical-align: middle;\n",
       "    }\n",
       "\n",
       "    .dataframe tbody tr th {\n",
       "        vertical-align: top;\n",
       "    }\n",
       "\n",
       "    .dataframe thead th {\n",
       "        text-align: right;\n",
       "    }\n",
       "</style>\n",
       "<table border=\"1\" class=\"dataframe\">\n",
       "  <thead>\n",
       "    <tr style=\"text-align: right;\">\n",
       "      <th></th>\n",
       "      <th>rating</th>\n",
       "      <th>review_text</th>\n",
       "    </tr>\n",
       "  </thead>\n",
       "  <tbody>\n",
       "    <tr>\n",
       "      <th>2032</th>\n",
       "      <td>4</td>\n",
       "      <td>Buscábamos mi pareja y yo un hotel intimo y que estuviera cerca de la zona del casco antigüo para poder movernos sin...</td>\n",
       "    </tr>\n",
       "    <tr>\n",
       "      <th>5394</th>\n",
       "      <td>5</td>\n",
       "      <td>Un establecimiento agradable con una muy buena relación calidad precio. Limpio discreto y tranquilo. El personal muy...</td>\n",
       "    </tr>\n",
       "    <tr>\n",
       "      <th>1721</th>\n",
       "      <td>2</td>\n",
       "      <td>La habitación tenia hormigas, cosa que no es nada agradable....lo de que te envíen a la calle de detrás, es lo de me...</td>\n",
       "    </tr>\n",
       "    <tr>\n",
       "      <th>17486</th>\n",
       "      <td>1</td>\n",
       "      <td>Esta habitación era caro para el alojamiento que proporcionaron. La habitación en sí estaba bien, pero la cama era e...</td>\n",
       "    </tr>\n",
       "    <tr>\n",
       "      <th>8238</th>\n",
       "      <td>5</td>\n",
       "      <td>Todo perfecto, la ubicación genial, puedes ir andando a cualquier sitio y si quieres bus para subir a sacromonte o a...</td>\n",
       "    </tr>\n",
       "    <tr>\n",
       "      <th>2264</th>\n",
       "      <td>2</td>\n",
       "      <td>La habitación olía a humedad, y mal toalla roida , había pelos de mujer por las sábanas las habitaciones no estan bi...</td>\n",
       "    </tr>\n",
       "    <tr>\n",
       "      <th>12303</th>\n",
       "      <td>5</td>\n",
       "      <td>Bed and Be fue el mejor hostel que quedé en mi viaje por Andalucia. El personal es muy atento y te proporcionan buen...</td>\n",
       "    </tr>\n",
       "    <tr>\n",
       "      <th>3644</th>\n",
       "      <td>4</td>\n",
       "      <td>Buen hotel en primerísima línea de playa, aunque en una urbanización a las afueras de Málaga. Habitaciones muy grand...</td>\n",
       "    </tr>\n",
       "    <tr>\n",
       "      <th>12301</th>\n",
       "      <td>4</td>\n",
       "      <td>Hostel muy bien ubicado. Limpio y con un ambiente super agradable. Muy buena sangria preparan los chicos que toda la...</td>\n",
       "    </tr>\n",
       "    <tr>\n",
       "      <th>10327</th>\n",
       "      <td>4</td>\n",
       "      <td>La ubicación es muy buena, a 15 minutos andando de casi todo lo que hay que ver en Córdoba. Fácil acceso desde la au...</td>\n",
       "    </tr>\n",
       "  </tbody>\n",
       "</table>\n",
       "</div>"
      ],
      "text/plain": [
       "       rating  \\\n",
       "2032        4   \n",
       "5394        5   \n",
       "1721        2   \n",
       "17486       1   \n",
       "8238        5   \n",
       "2264        2   \n",
       "12303       5   \n",
       "3644        4   \n",
       "12301       4   \n",
       "10327       4   \n",
       "\n",
       "                                                                                                                   review_text  \n",
       "2032   Buscábamos mi pareja y yo un hotel intimo y que estuviera cerca de la zona del casco antigüo para poder movernos sin...  \n",
       "5394   Un establecimiento agradable con una muy buena relación calidad precio. Limpio discreto y tranquilo. El personal muy...  \n",
       "1721   La habitación tenia hormigas, cosa que no es nada agradable....lo de que te envíen a la calle de detrás, es lo de me...  \n",
       "17486  Esta habitación era caro para el alojamiento que proporcionaron. La habitación en sí estaba bien, pero la cama era e...  \n",
       "8238   Todo perfecto, la ubicación genial, puedes ir andando a cualquier sitio y si quieres bus para subir a sacromonte o a...  \n",
       "2264   La habitación olía a humedad, y mal toalla roida , había pelos de mujer por las sábanas las habitaciones no estan bi...  \n",
       "12303  Bed and Be fue el mejor hostel que quedé en mi viaje por Andalucia. El personal es muy atento y te proporcionan buen...  \n",
       "3644   Buen hotel en primerísima línea de playa, aunque en una urbanización a las afueras de Málaga. Habitaciones muy grand...  \n",
       "12301  Hostel muy bien ubicado. Limpio y con un ambiente super agradable. Muy buena sangria preparan los chicos que toda la...  \n",
       "10327  La ubicación es muy buena, a 15 minutos andando de casi todo lo que hay que ver en Córdoba. Fácil acceso desde la au...  "
      ]
     },
     "execution_count": 407,
     "metadata": {},
     "output_type": "execute_result"
    }
   ],
   "source": [
    "pd.set_option('max_colwidth', 120)\n",
    "df.sample(frac=1).head(10)"
   ]
  },
  {
   "cell_type": "code",
   "execution_count": 402,
   "id": "c9c55bb1",
   "metadata": {},
   "outputs": [
    {
     "data": {
      "text/markdown": [
       "The file './data/Big_AHR.csv' has 18,172 comments as rows and 2 columns, yes rating and review_text columns."
      ],
      "text/plain": [
       "<IPython.core.display.Markdown object>"
      ]
     },
     "metadata": {},
     "output_type": "display_data"
    }
   ],
   "source": [
    "comments, cols = df.shape\n",
    "display(Markdown('The file \\'{}\\' has {:,} comments as rows and {} columns, yes rating and review_text columns.'.format(file_path, comments, cols)))"
   ]
  },
  {
   "cell_type": "markdown",
   "id": "cc1fbe65",
   "metadata": {},
   "source": [
    "The beauty of ```np.split```"
   ]
  },
  {
   "cell_type": "code",
   "execution_count": 403,
   "id": "ef3f7a31",
   "metadata": {},
   "outputs": [],
   "source": [
    "train_data, validate_data, test_data = np.split(df.sample(frac=1).values,  # random_state=42  # https://www.youtube.com/watch?v=5ZLtcTZP2js&t=83s\n",
    "                                                [int(.6*len(df)), int(.8*len(df))])"
   ]
  },
  {
   "cell_type": "code",
   "execution_count": 408,
   "id": "82246a1f",
   "metadata": {},
   "outputs": [
    {
     "data": {
      "text/plain": [
       "((10903, 2), (3634, 2), (3635, 2))"
      ]
     },
     "execution_count": 408,
     "metadata": {},
     "output_type": "execute_result"
    }
   ],
   "source": [
    "train_data.shape, validate_data.shape, test_data.shape"
   ]
  },
  {
   "cell_type": "markdown",
   "id": "00c530a1",
   "metadata": {},
   "source": [
    "We will focus on algorithms, then the we will use [util function](./utils.py) for extract unigram worlds and convert to vector representation."
   ]
  },
  {
   "cell_type": "code",
   "execution_count": 410,
   "id": "faa8ba99",
   "metadata": {},
   "outputs": [
    {
     "name": "stdout",
     "output_type": "stream",
     "text": [
      "['hello', 'my', 'friend']\n",
      "{'this': 0, 'is': 1, 'the': 2, 'first': 3, 'comment': 4, 'another': 5}\n"
     ]
    }
   ],
   "source": [
    "print(utils.extract_words('Hello my friend'))\n",
    "print(utils.unigram_words(['this is the first comment', 'this another comment']))\n",
    "\n",
    "dictionary = utils.unigram_words(train_data[:, 1])\n",
    "break_point = 3"
   ]
  },
  {
   "cell_type": "code",
   "execution_count": 411,
   "id": "2988bb22",
   "metadata": {},
   "outputs": [
    {
     "data": {
      "text/plain": [
       "((10903, 27243), (3634, 27243), (3635, 27243))"
      ]
     },
     "execution_count": 411,
     "metadata": {},
     "output_type": "execute_result"
    }
   ],
   "source": [
    "X_train.shape, X_validate.shape, X_test.shape\n"
   ]
  },
  {
   "cell_type": "code",
   "execution_count": 412,
   "id": "d5414fd6",
   "metadata": {},
   "outputs": [],
   "source": [
    "X_train = utils.extract_unigram_vectors(train_data[:, 1], dictionary)\n",
    "X_validate = utils.extract_unigram_vectors(validate_data[:, 1], dictionary)\n",
    "X_test = utils.extract_unigram_vectors(test_data[:, 1], dictionary)"
   ]
  },
  {
   "cell_type": "code",
   "execution_count": 413,
   "id": "41ce6b45",
   "metadata": {},
   "outputs": [
    {
     "data": {
      "text/plain": [
       "((10903,), (3634,), (3635,))"
      ]
     },
     "execution_count": 413,
     "metadata": {},
     "output_type": "execute_result"
    }
   ],
   "source": [
    "Y_train.shape, Y_validate.shape, Y_test.shape"
   ]
  },
  {
   "cell_type": "code",
   "execution_count": 414,
   "id": "2e0883d3",
   "metadata": {},
   "outputs": [],
   "source": [
    "Y_train = train_data[:, 0]\n",
    "Y_validate = validate_data[:, 0]\n",
    "Y_test = test_data[:, 0]"
   ]
  },
  {
   "cell_type": "code",
   "execution_count": 417,
   "id": "324558a7",
   "metadata": {},
   "outputs": [
    {
     "data": {
      "text/plain": [
       "array([1, 1, 1, ..., 1, 1, -1], dtype=object)"
      ]
     },
     "execution_count": 417,
     "metadata": {},
     "output_type": "execute_result"
    }
   ],
   "source": [
    "Y_train"
   ]
  },
  {
   "cell_type": "code",
   "execution_count": 416,
   "id": "d241265f",
   "metadata": {},
   "outputs": [],
   "source": [
    "for Y in [Y_train, Y_validate, Y_test]:\n",
    "    Y[Y <= break_point] = -1\n",
    "    Y[Y > break_point] = 1"
   ]
  },
  {
   "cell_type": "code",
   "execution_count": 443,
   "id": "6466c3a4",
   "metadata": {},
   "outputs": [],
   "source": [
    "class PerceptronClassifier:\n",
    "    def __init__(self):\n",
    "        pass\n",
    "\n",
    "    def __perceptron_one_step(self, x, y, current_theta, current_theta_0) -> (np.ndarray, float):\n",
    "        if y * (np.dot(current_theta, x) + current_theta_0) <= 0:\n",
    "            current_theta = current_theta + (y * x)\n",
    "            current_theta_0 = current_theta_0 + y\n",
    "\n",
    "        return current_theta, current_theta_0\n",
    "\n",
    "    def perceptron(self, X, Y, T) -> (np.ndarray, float):\n",
    "        n, f = X.shape\n",
    "        theta = np.zeros(f)\n",
    "        theta_0 = 0\n",
    "        for t in range(T):\n",
    "            order = np.arange(n)\n",
    "            np.random.shuffle(order)\n",
    "            for i in tqdm_notebook(order, desc = 'Iteration T: {}'.format(t)):\n",
    "            # for i in self.get_order(n):\n",
    "                theta, theta_0 = self.__perceptron_one_step(X[i], Y[i], theta, theta_0)\n",
    "\n",
    "        return theta, theta_0\n",
    "\n",
    "    def average_perceptron(self, X, Y, T) -> (np.ndarray, float):\n",
    "        n, f = X.shape\n",
    "        theta = np.zeros(f)\n",
    "        theta_s = np.zeros(f)\n",
    "        theta_0 = 0\n",
    "        theta_0_s = 0\n",
    "        for t in range(T):\n",
    "            order = np.arange(n)\n",
    "            np.random.shuffle(order)\n",
    "            for i in tqdm_notebook(order, desc = 'Iteration T: {}'.format(t)):\n",
    "            # for i in self.get_order(n):\n",
    "                theta, theta_0 = self.__perceptron_one_step(X[i], Y[i], theta, theta_0)\n",
    "                theta_s += theta\n",
    "                theta_0_s += theta_0\n",
    "\n",
    "        return theta_s / (n * T), theta_0_s / (n * T)"
   ]
  },
  {
   "cell_type": "code",
   "execution_count": 442,
   "id": "9d6b71a7",
   "metadata": {},
   "outputs": [],
   "source": [
    "class PegasosClassifier:\n",
    "    def __init__(self):\n",
    "        pass\n",
    "\n",
    "    def __pegasos_one_step(self, x, y, L, eta, current_theta, current_theta_0) -> (np.ndarray, float):\n",
    "        # current_theta = current_theta + (label * feature_vector)\n",
    "        # current_theta_0 = current_theta_0 + label\n",
    "        if y * (np.dot(current_theta, x) + current_theta_0) <= 1:\n",
    "            current_theta = ((1 - (eta * L)) * current_theta) + (eta * y * x)\n",
    "            # [optional]\n",
    "            # current_theta = min(1, (1/np.sqrt(L)) / np.linalg.norm(current_theta)) * current_theta\n",
    "            current_theta_0 = current_theta_0 + (eta * y)\n",
    "        else:\n",
    "            current_theta = (1 - (eta * L)) * current_theta\n",
    "\n",
    "        return current_theta, current_theta_0\n",
    "\n",
    "    def pegasos(self, X, Y, T, L) -> (np.ndarray, float):\n",
    "        n, f = X.shape\n",
    "        theta = np.zeros(f)\n",
    "        theta_0 = 0\n",
    "        counter = 1\n",
    "        eta = 1 / np.sqrt(counter)\n",
    "        for t in range(T):\n",
    "            order = np.arange(n)\n",
    "            np.random.shuffle(order)\n",
    "            for i in tqdm_notebook(order, desc = 'Iteration T: {}'.format(t)):\n",
    "            # for i in self.get_order(n):\n",
    "                theta, theta_0 = self.__pegasos_one_step(X[i], Y[i], L, eta, theta, theta_0)\n",
    "                counter += 1\n",
    "                eta = 1 / np.sqrt(counter)\n",
    "\n",
    "        return theta, theta_0"
   ]
  },
  {
   "cell_type": "code",
   "execution_count": 444,
   "id": "d3466088",
   "metadata": {},
   "outputs": [],
   "source": [
    "class Classifier(PerceptronClassifier, PegasosClassifier):\n",
    "    def __init__(self, X_train, X_val, Y_train, Y_val, T):\n",
    "        self.X_train = X_train\n",
    "        self.X_val = X_val\n",
    "        self.Y_train = Y_train\n",
    "        self.Y_val = Y_val\n",
    "        self.T = T\n",
    "\n",
    "    def get_order(self, n_samples):\n",
    "        try:\n",
    "            with open(str(n_samples) + '.txt') as fp:\n",
    "                line = fp.readline()\n",
    "                return list(map(int, line.split(',')))\n",
    "        except FileNotFoundError:\n",
    "            random.seed(1)\n",
    "            indices = list(range(n_samples))\n",
    "            random.shuffle(indices)\n",
    "            return indices\n",
    "\n",
    "    def accuracy(self, preds, targets) -> float:\n",
    "        \"\"\"\n",
    "        Given length-N vectors containing predicted and target labels,\n",
    "        returns the percentage and number of correct predictions.\n",
    "        \"\"\"\n",
    "        return (preds == targets).mean()\n",
    "\n",
    "    def classify(self, X, theta, theta_0) -> np.ndarray:\n",
    "        preds = (np.dot(X, theta.T)) + theta_0\n",
    "        preds[preds > 0] = 1\n",
    "        preds[preds <= 0] = -1\n",
    "        return preds\n",
    "\n",
    "    def classifier_accuracy(self, classifier, L=None) -> (float, float):\n",
    "        print(\"{} -> T: {}, L: {}\".format(classifier, self.T, L))\n",
    "        if self.T and L:\n",
    "            theta, theta_0 = classifier(self.X_train, self.Y_train, self.T, L)\n",
    "        elif self.T:\n",
    "            theta, theta_0 = classifier(self.X_train, self.Y_train, self.T)\n",
    "\n",
    "        Y_train_predicted = self.classify(self.X_train, theta, theta_0)\n",
    "        X_val_predicted = self.classify(self.X_val, theta, theta_0)\n",
    "\n",
    "        accuracy_train = self.accuracy(Y_train_predicted, self.Y_train)\n",
    "        accuracy_val = self.accuracy(X_val_predicted, self.Y_val)\n",
    "\n",
    "        return accuracy_train, accuracy_val\n",
    "\n",
    "    def tune(self, train_fn, param_vals, train_feats, train_labels, val_feats, val_labels):\n",
    "        train_accs = np.ndarray(len(param_vals))\n",
    "        val_accs = np.ndarray(len(param_vals))\n",
    "\n",
    "        for i, val in enumerate(param_vals):\n",
    "            theta, theta_0 = train_fn(train_feats, train_labels, val)\n",
    "\n",
    "            train_preds = self.classify(train_feats, theta, theta_0)\n",
    "            train_accs[i] = self.accuracy(train_preds, train_labels)\n",
    "\n",
    "            val_preds = self.classify(val_feats, theta, theta_0)\n",
    "            val_accs[i] = self.accuracy(val_preds, val_labels)\n",
    "\n",
    "        return train_accs, val_accs\n",
    "\n",
    "    def tune_perceptron(self, *args):\n",
    "        return self.tune(self.perceptron, *args)\n",
    "\n",
    "    def tune_avg_perceptron(self, *args):\n",
    "        return self.tune(self.average_perceptron, *args)\n",
    "\n",
    "    def tune_pegasos_T(self, best_L, *args):\n",
    "        def train_fn(features, labels, T):\n",
    "            return self.pegasos(features, labels, T, best_L)\n",
    "\n",
    "        return self.tune(train_fn, *args)\n",
    "\n",
    "    def tune_pegasos_L(self, best_T, *args):\n",
    "        def train_fn(features, labels, L):\n",
    "            return self.pegasos(features, labels, best_T, L)\n",
    "\n",
    "        return self.tune(train_fn, *args)\n",
    "\n",
    "    def most_explanatory_word(self, theta, wordlist):\n",
    "        \"\"\"Returns the word associated with the bag-of-words feature having largest weight.\"\"\"\n",
    "        # theta(i) mientras mas grande es es mas explanatory_word / positive,\n",
    "        # el indice asociado theta[i], wordlist[i] se mueve en par cuando se hace sort.\n",
    "        return [word for (theta_i, word) in sorted(zip(theta, wordlist))[::-1]]"
   ]
  },
  {
   "cell_type": "code",
   "execution_count": 445,
   "id": "3230a450",
   "metadata": {},
   "outputs": [],
   "source": [
    "T = 10\n",
    "L = 0.01\n",
    "clf = Classifier(X_train, X_validate, Y_train, Y_validate, T=T)"
   ]
  },
  {
   "cell_type": "code",
   "execution_count": 446,
   "id": "ee61912f",
   "metadata": {},
   "outputs": [
    {
     "name": "stdout",
     "output_type": "stream",
     "text": [
      "<bound method PerceptronClassifier.perceptron of <__main__.Classifier object at 0x0000022E0C99E490>> -> T: 10, L: None\n"
     ]
    },
    {
     "data": {
      "application/vnd.jupyter.widget-view+json": {
       "model_id": "57f4c771a04043fc85dc9a9998015b58",
       "version_major": 2,
       "version_minor": 0
      },
      "text/plain": [
       "Iteration T: 0:   0%|          | 0/10903 [00:00<?, ?it/s]"
      ]
     },
     "metadata": {},
     "output_type": "display_data"
    },
    {
     "data": {
      "application/vnd.jupyter.widget-view+json": {
       "model_id": "9a8dc6340a6b44d28c7c8a6647bb19d8",
       "version_major": 2,
       "version_minor": 0
      },
      "text/plain": [
       "Iteration T: 1:   0%|          | 0/10903 [00:00<?, ?it/s]"
      ]
     },
     "metadata": {},
     "output_type": "display_data"
    },
    {
     "data": {
      "application/vnd.jupyter.widget-view+json": {
       "model_id": "1406ba2b3a764425b953c560ae2e1687",
       "version_major": 2,
       "version_minor": 0
      },
      "text/plain": [
       "Iteration T: 2:   0%|          | 0/10903 [00:00<?, ?it/s]"
      ]
     },
     "metadata": {},
     "output_type": "display_data"
    },
    {
     "data": {
      "application/vnd.jupyter.widget-view+json": {
       "model_id": "f948869c120549f5b997116d722a1c4a",
       "version_major": 2,
       "version_minor": 0
      },
      "text/plain": [
       "Iteration T: 3:   0%|          | 0/10903 [00:00<?, ?it/s]"
      ]
     },
     "metadata": {},
     "output_type": "display_data"
    },
    {
     "data": {
      "application/vnd.jupyter.widget-view+json": {
       "model_id": "6b038699981c42c59cc2ac2246c2525f",
       "version_major": 2,
       "version_minor": 0
      },
      "text/plain": [
       "Iteration T: 4:   0%|          | 0/10903 [00:00<?, ?it/s]"
      ]
     },
     "metadata": {},
     "output_type": "display_data"
    },
    {
     "data": {
      "application/vnd.jupyter.widget-view+json": {
       "model_id": "e7babe26b6574f1290239709e7789a0b",
       "version_major": 2,
       "version_minor": 0
      },
      "text/plain": [
       "Iteration T: 5:   0%|          | 0/10903 [00:00<?, ?it/s]"
      ]
     },
     "metadata": {},
     "output_type": "display_data"
    },
    {
     "data": {
      "application/vnd.jupyter.widget-view+json": {
       "model_id": "c0cd813dfed74a00bad6218e2f681240",
       "version_major": 2,
       "version_minor": 0
      },
      "text/plain": [
       "Iteration T: 6:   0%|          | 0/10903 [00:00<?, ?it/s]"
      ]
     },
     "metadata": {},
     "output_type": "display_data"
    },
    {
     "data": {
      "application/vnd.jupyter.widget-view+json": {
       "model_id": "6af158b35f7b49b9a3f0b4b06f3df7c1",
       "version_major": 2,
       "version_minor": 0
      },
      "text/plain": [
       "Iteration T: 7:   0%|          | 0/10903 [00:00<?, ?it/s]"
      ]
     },
     "metadata": {},
     "output_type": "display_data"
    },
    {
     "data": {
      "application/vnd.jupyter.widget-view+json": {
       "model_id": "ec658714524d45308fbe9eaebf17ecf5",
       "version_major": 2,
       "version_minor": 0
      },
      "text/plain": [
       "Iteration T: 8:   0%|          | 0/10903 [00:00<?, ?it/s]"
      ]
     },
     "metadata": {},
     "output_type": "display_data"
    },
    {
     "data": {
      "application/vnd.jupyter.widget-view+json": {
       "model_id": "1c97bab9b6914f7b84f619b77f66f975",
       "version_major": 2,
       "version_minor": 0
      },
      "text/plain": [
       "Iteration T: 9:   0%|          | 0/10903 [00:00<?, ?it/s]"
      ]
     },
     "metadata": {},
     "output_type": "display_data"
    },
    {
     "name": "stdout",
     "output_type": "stream",
     "text": [
      "Training accuracy for perceptron:   0.9673\n",
      "Validation accuracy for perceptron: 0.8910\n",
      "<bound method PerceptronClassifier.average_perceptron of <__main__.Classifier object at 0x0000022E0C99E490>> -> T: 10, L: None\n"
     ]
    },
    {
     "data": {
      "application/vnd.jupyter.widget-view+json": {
       "model_id": "7ddaff29efb94027948c7f7ed57a0a16",
       "version_major": 2,
       "version_minor": 0
      },
      "text/plain": [
       "Iteration T: 0:   0%|          | 0/10903 [00:00<?, ?it/s]"
      ]
     },
     "metadata": {},
     "output_type": "display_data"
    },
    {
     "data": {
      "application/vnd.jupyter.widget-view+json": {
       "model_id": "ef529b1542434a37b9ed8002a200af4f",
       "version_major": 2,
       "version_minor": 0
      },
      "text/plain": [
       "Iteration T: 1:   0%|          | 0/10903 [00:00<?, ?it/s]"
      ]
     },
     "metadata": {},
     "output_type": "display_data"
    },
    {
     "data": {
      "application/vnd.jupyter.widget-view+json": {
       "model_id": "0a3b52b870a1480b81ca1ddac118ac86",
       "version_major": 2,
       "version_minor": 0
      },
      "text/plain": [
       "Iteration T: 2:   0%|          | 0/10903 [00:00<?, ?it/s]"
      ]
     },
     "metadata": {},
     "output_type": "display_data"
    },
    {
     "data": {
      "application/vnd.jupyter.widget-view+json": {
       "model_id": "2b5f97484cb848dba416fc1aff8bced6",
       "version_major": 2,
       "version_minor": 0
      },
      "text/plain": [
       "Iteration T: 3:   0%|          | 0/10903 [00:00<?, ?it/s]"
      ]
     },
     "metadata": {},
     "output_type": "display_data"
    },
    {
     "data": {
      "application/vnd.jupyter.widget-view+json": {
       "model_id": "aa274b0b58aa4d948a114735b66cc41c",
       "version_major": 2,
       "version_minor": 0
      },
      "text/plain": [
       "Iteration T: 4:   0%|          | 0/10903 [00:00<?, ?it/s]"
      ]
     },
     "metadata": {},
     "output_type": "display_data"
    },
    {
     "data": {
      "application/vnd.jupyter.widget-view+json": {
       "model_id": "6a178316065f4df4b5056efb5a26c5c2",
       "version_major": 2,
       "version_minor": 0
      },
      "text/plain": [
       "Iteration T: 5:   0%|          | 0/10903 [00:00<?, ?it/s]"
      ]
     },
     "metadata": {},
     "output_type": "display_data"
    },
    {
     "data": {
      "application/vnd.jupyter.widget-view+json": {
       "model_id": "600518f020e54a1e9cbdf25765d14516",
       "version_major": 2,
       "version_minor": 0
      },
      "text/plain": [
       "Iteration T: 6:   0%|          | 0/10903 [00:00<?, ?it/s]"
      ]
     },
     "metadata": {},
     "output_type": "display_data"
    },
    {
     "data": {
      "application/vnd.jupyter.widget-view+json": {
       "model_id": "b04683fb4a324d0b935f78e52441d0b1",
       "version_major": 2,
       "version_minor": 0
      },
      "text/plain": [
       "Iteration T: 7:   0%|          | 0/10903 [00:00<?, ?it/s]"
      ]
     },
     "metadata": {},
     "output_type": "display_data"
    },
    {
     "data": {
      "application/vnd.jupyter.widget-view+json": {
       "model_id": "3ec50e4824eb4c02bcb3231e986856bd",
       "version_major": 2,
       "version_minor": 0
      },
      "text/plain": [
       "Iteration T: 8:   0%|          | 0/10903 [00:00<?, ?it/s]"
      ]
     },
     "metadata": {},
     "output_type": "display_data"
    },
    {
     "data": {
      "application/vnd.jupyter.widget-view+json": {
       "model_id": "3610cac6b20843078525976cc96168fc",
       "version_major": 2,
       "version_minor": 0
      },
      "text/plain": [
       "Iteration T: 9:   0%|          | 0/10903 [00:00<?, ?it/s]"
      ]
     },
     "metadata": {},
     "output_type": "display_data"
    },
    {
     "name": "stdout",
     "output_type": "stream",
     "text": [
      "Training accuracy for average perceptron:   0.9893\n",
      "Validation accuracy for average perceptron: 0.9235\n",
      "<bound method PegasosClassifier.pegasos of <__main__.Classifier object at 0x0000022E0C99E490>> -> T: 10, L: 0.01\n"
     ]
    },
    {
     "data": {
      "application/vnd.jupyter.widget-view+json": {
       "model_id": "b8e56a5932ee4a9aaca3123f308bcd97",
       "version_major": 2,
       "version_minor": 0
      },
      "text/plain": [
       "Iteration T: 0:   0%|          | 0/10903 [00:00<?, ?it/s]"
      ]
     },
     "metadata": {},
     "output_type": "display_data"
    },
    {
     "data": {
      "application/vnd.jupyter.widget-view+json": {
       "model_id": "c7af216430304d3d89e6e9a8309d364f",
       "version_major": 2,
       "version_minor": 0
      },
      "text/plain": [
       "Iteration T: 1:   0%|          | 0/10903 [00:00<?, ?it/s]"
      ]
     },
     "metadata": {},
     "output_type": "display_data"
    },
    {
     "data": {
      "application/vnd.jupyter.widget-view+json": {
       "model_id": "6066956ac0c545b7908b6ed30a0f766f",
       "version_major": 2,
       "version_minor": 0
      },
      "text/plain": [
       "Iteration T: 2:   0%|          | 0/10903 [00:00<?, ?it/s]"
      ]
     },
     "metadata": {},
     "output_type": "display_data"
    },
    {
     "data": {
      "application/vnd.jupyter.widget-view+json": {
       "model_id": "8da80ac66fb44ee1a16d43062001d54b",
       "version_major": 2,
       "version_minor": 0
      },
      "text/plain": [
       "Iteration T: 3:   0%|          | 0/10903 [00:00<?, ?it/s]"
      ]
     },
     "metadata": {},
     "output_type": "display_data"
    },
    {
     "data": {
      "application/vnd.jupyter.widget-view+json": {
       "model_id": "e675081b7ec94f9abb574aa4fe7dfc6b",
       "version_major": 2,
       "version_minor": 0
      },
      "text/plain": [
       "Iteration T: 4:   0%|          | 0/10903 [00:00<?, ?it/s]"
      ]
     },
     "metadata": {},
     "output_type": "display_data"
    },
    {
     "data": {
      "application/vnd.jupyter.widget-view+json": {
       "model_id": "1055b8e03cab4bbeb8243284f33e9a3b",
       "version_major": 2,
       "version_minor": 0
      },
      "text/plain": [
       "Iteration T: 5:   0%|          | 0/10903 [00:00<?, ?it/s]"
      ]
     },
     "metadata": {},
     "output_type": "display_data"
    },
    {
     "data": {
      "application/vnd.jupyter.widget-view+json": {
       "model_id": "7b56993ab6ae447684b178b09b165322",
       "version_major": 2,
       "version_minor": 0
      },
      "text/plain": [
       "Iteration T: 6:   0%|          | 0/10903 [00:00<?, ?it/s]"
      ]
     },
     "metadata": {},
     "output_type": "display_data"
    },
    {
     "data": {
      "application/vnd.jupyter.widget-view+json": {
       "model_id": "7805835f3224483190684ea95698fa09",
       "version_major": 2,
       "version_minor": 0
      },
      "text/plain": [
       "Iteration T: 7:   0%|          | 0/10903 [00:00<?, ?it/s]"
      ]
     },
     "metadata": {},
     "output_type": "display_data"
    },
    {
     "data": {
      "application/vnd.jupyter.widget-view+json": {
       "model_id": "3f7ab39088b94d70a1cf86a4aaa7f5cf",
       "version_major": 2,
       "version_minor": 0
      },
      "text/plain": [
       "Iteration T: 8:   0%|          | 0/10903 [00:00<?, ?it/s]"
      ]
     },
     "metadata": {},
     "output_type": "display_data"
    },
    {
     "data": {
      "application/vnd.jupyter.widget-view+json": {
       "model_id": "c1e9d5cc53134dc4964eabf593e8e15b",
       "version_major": 2,
       "version_minor": 0
      },
      "text/plain": [
       "Iteration T: 9:   0%|          | 0/10903 [00:00<?, ?it/s]"
      ]
     },
     "metadata": {},
     "output_type": "display_data"
    },
    {
     "name": "stdout",
     "output_type": "stream",
     "text": [
      "Training accuracy for Pegasos:                     0.9293\n",
      "Validation accuracy for Pegasos:                   0.9048\n"
     ]
    }
   ],
   "source": [
    "pct_train_accuracy, pct_val_accuracy = clf.classifier_accuracy(clf.perceptron)\n",
    "print(\"{:35} {:.4f}\".format(\"Training accuracy for perceptron:\", pct_train_accuracy))\n",
    "print(\"{:35} {:.4f}\".format(\"Validation accuracy for perceptron:\", pct_val_accuracy))\n",
    "\n",
    "avg_pct_train_accuracy, avg_pct_val_accuracy =  clf.classifier_accuracy(clf.average_perceptron)\n",
    "print(\"{:43} {:.4f}\".format(\"Training accuracy for average perceptron:\", avg_pct_train_accuracy))\n",
    "print(\"{:43} {:.4f}\".format(\"Validation accuracy for average perceptron:\", avg_pct_val_accuracy))\n",
    "\n",
    "avg_peg_train_accuracy, avg_peg_val_accuracy =  clf.classifier_accuracy(clf.pegasos, L=L)\n",
    "print(\"{:50} {:.4f}\".format(\"Training accuracy for Pegasos:\", avg_peg_train_accuracy))\n",
    "print(\"{:50} {:.4f}\".format(\"Validation accuracy for Pegasos:\", avg_peg_val_accuracy))"
   ]
  },
  {
   "cell_type": "markdown",
   "id": "e75b0475",
   "metadata": {},
   "source": [
    "The following lines show how the analisys for chose the best hyperparameters."
   ]
  },
  {
   "cell_type": "code",
   "execution_count": 447,
   "id": "24d1c80e",
   "metadata": {},
   "outputs": [
    {
     "data": {
      "application/vnd.jupyter.widget-view+json": {
       "model_id": "4b30164097c240cfa3e47e35fc1b4fc8",
       "version_major": 2,
       "version_minor": 0
      },
      "text/plain": [
       "Iteration T: 0:   0%|          | 0/10903 [00:00<?, ?it/s]"
      ]
     },
     "metadata": {},
     "output_type": "display_data"
    },
    {
     "data": {
      "application/vnd.jupyter.widget-view+json": {
       "model_id": "cd6ad443dd2f46f39879a74dcd0823a7",
       "version_major": 2,
       "version_minor": 0
      },
      "text/plain": [
       "Iteration T: 0:   0%|          | 0/10903 [00:00<?, ?it/s]"
      ]
     },
     "metadata": {},
     "output_type": "display_data"
    },
    {
     "data": {
      "application/vnd.jupyter.widget-view+json": {
       "model_id": "bcc38be4765a4a509dc6397aec99a1b4",
       "version_major": 2,
       "version_minor": 0
      },
      "text/plain": [
       "Iteration T: 1:   0%|          | 0/10903 [00:00<?, ?it/s]"
      ]
     },
     "metadata": {},
     "output_type": "display_data"
    },
    {
     "data": {
      "application/vnd.jupyter.widget-view+json": {
       "model_id": "9f44042e7ef7473489df04553ac9c1ae",
       "version_major": 2,
       "version_minor": 0
      },
      "text/plain": [
       "Iteration T: 2:   0%|          | 0/10903 [00:00<?, ?it/s]"
      ]
     },
     "metadata": {},
     "output_type": "display_data"
    },
    {
     "data": {
      "application/vnd.jupyter.widget-view+json": {
       "model_id": "367c871ed624419f9695ce9dd4713ef8",
       "version_major": 2,
       "version_minor": 0
      },
      "text/plain": [
       "Iteration T: 3:   0%|          | 0/10903 [00:00<?, ?it/s]"
      ]
     },
     "metadata": {},
     "output_type": "display_data"
    },
    {
     "data": {
      "application/vnd.jupyter.widget-view+json": {
       "model_id": "f8b4a7904eb94e7297c835d98d0631e5",
       "version_major": 2,
       "version_minor": 0
      },
      "text/plain": [
       "Iteration T: 4:   0%|          | 0/10903 [00:00<?, ?it/s]"
      ]
     },
     "metadata": {},
     "output_type": "display_data"
    },
    {
     "data": {
      "application/vnd.jupyter.widget-view+json": {
       "model_id": "5a195828c5cf4844a884eac44d792eed",
       "version_major": 2,
       "version_minor": 0
      },
      "text/plain": [
       "Iteration T: 0:   0%|          | 0/10903 [00:00<?, ?it/s]"
      ]
     },
     "metadata": {},
     "output_type": "display_data"
    },
    {
     "data": {
      "application/vnd.jupyter.widget-view+json": {
       "model_id": "3ef826fc19824ab78ff94b092d03fba0",
       "version_major": 2,
       "version_minor": 0
      },
      "text/plain": [
       "Iteration T: 1:   0%|          | 0/10903 [00:00<?, ?it/s]"
      ]
     },
     "metadata": {},
     "output_type": "display_data"
    },
    {
     "data": {
      "application/vnd.jupyter.widget-view+json": {
       "model_id": "b9c201a25f38409c86efe793e146dd5c",
       "version_major": 2,
       "version_minor": 0
      },
      "text/plain": [
       "Iteration T: 2:   0%|          | 0/10903 [00:00<?, ?it/s]"
      ]
     },
     "metadata": {},
     "output_type": "display_data"
    },
    {
     "data": {
      "application/vnd.jupyter.widget-view+json": {
       "model_id": "7caccabfe311477fa533b57fc51fae5a",
       "version_major": 2,
       "version_minor": 0
      },
      "text/plain": [
       "Iteration T: 3:   0%|          | 0/10903 [00:00<?, ?it/s]"
      ]
     },
     "metadata": {},
     "output_type": "display_data"
    },
    {
     "data": {
      "application/vnd.jupyter.widget-view+json": {
       "model_id": "cab453162b8d403d9385806864d5babd",
       "version_major": 2,
       "version_minor": 0
      },
      "text/plain": [
       "Iteration T: 4:   0%|          | 0/10903 [00:00<?, ?it/s]"
      ]
     },
     "metadata": {},
     "output_type": "display_data"
    },
    {
     "data": {
      "application/vnd.jupyter.widget-view+json": {
       "model_id": "789be3e6bf1540c3b094ad5b74d50c7a",
       "version_major": 2,
       "version_minor": 0
      },
      "text/plain": [
       "Iteration T: 5:   0%|          | 0/10903 [00:00<?, ?it/s]"
      ]
     },
     "metadata": {},
     "output_type": "display_data"
    },
    {
     "data": {
      "application/vnd.jupyter.widget-view+json": {
       "model_id": "2a0a82fb7ba34ba8adf883387435ec75",
       "version_major": 2,
       "version_minor": 0
      },
      "text/plain": [
       "Iteration T: 6:   0%|          | 0/10903 [00:00<?, ?it/s]"
      ]
     },
     "metadata": {},
     "output_type": "display_data"
    },
    {
     "data": {
      "application/vnd.jupyter.widget-view+json": {
       "model_id": "85b44b883d2a4dba9d6c37e8d37ded3c",
       "version_major": 2,
       "version_minor": 0
      },
      "text/plain": [
       "Iteration T: 7:   0%|          | 0/10903 [00:00<?, ?it/s]"
      ]
     },
     "metadata": {},
     "output_type": "display_data"
    },
    {
     "data": {
      "application/vnd.jupyter.widget-view+json": {
       "model_id": "9bff98cc428c48e4b51aca09a519acd6",
       "version_major": 2,
       "version_minor": 0
      },
      "text/plain": [
       "Iteration T: 8:   0%|          | 0/10903 [00:00<?, ?it/s]"
      ]
     },
     "metadata": {},
     "output_type": "display_data"
    },
    {
     "data": {
      "application/vnd.jupyter.widget-view+json": {
       "model_id": "2a954239f83441f1a8893ff18bf1b95d",
       "version_major": 2,
       "version_minor": 0
      },
      "text/plain": [
       "Iteration T: 9:   0%|          | 0/10903 [00:00<?, ?it/s]"
      ]
     },
     "metadata": {},
     "output_type": "display_data"
    },
    {
     "data": {
      "application/vnd.jupyter.widget-view+json": {
       "model_id": "6d0fbde16a924f9f8e16fe56a0c5f0d7",
       "version_major": 2,
       "version_minor": 0
      },
      "text/plain": [
       "Iteration T: 0:   0%|          | 0/10903 [00:00<?, ?it/s]"
      ]
     },
     "metadata": {},
     "output_type": "display_data"
    },
    {
     "data": {
      "application/vnd.jupyter.widget-view+json": {
       "model_id": "09a2ec6a4fd94951b860188d0ded2492",
       "version_major": 2,
       "version_minor": 0
      },
      "text/plain": [
       "Iteration T: 1:   0%|          | 0/10903 [00:00<?, ?it/s]"
      ]
     },
     "metadata": {},
     "output_type": "display_data"
    },
    {
     "data": {
      "application/vnd.jupyter.widget-view+json": {
       "model_id": "93ee0acd28494a2d96970f3776ba0417",
       "version_major": 2,
       "version_minor": 0
      },
      "text/plain": [
       "Iteration T: 2:   0%|          | 0/10903 [00:00<?, ?it/s]"
      ]
     },
     "metadata": {},
     "output_type": "display_data"
    },
    {
     "data": {
      "application/vnd.jupyter.widget-view+json": {
       "model_id": "df4aaead7c144b2495b5267755163590",
       "version_major": 2,
       "version_minor": 0
      },
      "text/plain": [
       "Iteration T: 3:   0%|          | 0/10903 [00:00<?, ?it/s]"
      ]
     },
     "metadata": {},
     "output_type": "display_data"
    },
    {
     "data": {
      "application/vnd.jupyter.widget-view+json": {
       "model_id": "aadc269e41654731806b617528ffca83",
       "version_major": 2,
       "version_minor": 0
      },
      "text/plain": [
       "Iteration T: 4:   0%|          | 0/10903 [00:00<?, ?it/s]"
      ]
     },
     "metadata": {},
     "output_type": "display_data"
    },
    {
     "data": {
      "application/vnd.jupyter.widget-view+json": {
       "model_id": "5c8ef378328a4312b651e1571113fd30",
       "version_major": 2,
       "version_minor": 0
      },
      "text/plain": [
       "Iteration T: 5:   0%|          | 0/10903 [00:00<?, ?it/s]"
      ]
     },
     "metadata": {},
     "output_type": "display_data"
    },
    {
     "data": {
      "application/vnd.jupyter.widget-view+json": {
       "model_id": "17e3c96609ec457b959c0b5a7584e352",
       "version_major": 2,
       "version_minor": 0
      },
      "text/plain": [
       "Iteration T: 6:   0%|          | 0/10903 [00:00<?, ?it/s]"
      ]
     },
     "metadata": {},
     "output_type": "display_data"
    },
    {
     "data": {
      "application/vnd.jupyter.widget-view+json": {
       "model_id": "ba72a1e479cf4105a9eff89277077534",
       "version_major": 2,
       "version_minor": 0
      },
      "text/plain": [
       "Iteration T: 7:   0%|          | 0/10903 [00:00<?, ?it/s]"
      ]
     },
     "metadata": {},
     "output_type": "display_data"
    },
    {
     "data": {
      "application/vnd.jupyter.widget-view+json": {
       "model_id": "93e4297f1c5547e48c8bfbf60f42f422",
       "version_major": 2,
       "version_minor": 0
      },
      "text/plain": [
       "Iteration T: 8:   0%|          | 0/10903 [00:00<?, ?it/s]"
      ]
     },
     "metadata": {},
     "output_type": "display_data"
    },
    {
     "data": {
      "application/vnd.jupyter.widget-view+json": {
       "model_id": "2c2719a7d117434fbc3f096275111cb4",
       "version_major": 2,
       "version_minor": 0
      },
      "text/plain": [
       "Iteration T: 9:   0%|          | 0/10903 [00:00<?, ?it/s]"
      ]
     },
     "metadata": {},
     "output_type": "display_data"
    },
    {
     "data": {
      "application/vnd.jupyter.widget-view+json": {
       "model_id": "88bff10515e74e15bfbfbda9c60b3d42",
       "version_major": 2,
       "version_minor": 0
      },
      "text/plain": [
       "Iteration T: 10:   0%|          | 0/10903 [00:00<?, ?it/s]"
      ]
     },
     "metadata": {},
     "output_type": "display_data"
    },
    {
     "data": {
      "application/vnd.jupyter.widget-view+json": {
       "model_id": "1bd069bbc186486bbcd724e1b6d9455f",
       "version_major": 2,
       "version_minor": 0
      },
      "text/plain": [
       "Iteration T: 11:   0%|          | 0/10903 [00:00<?, ?it/s]"
      ]
     },
     "metadata": {},
     "output_type": "display_data"
    },
    {
     "data": {
      "application/vnd.jupyter.widget-view+json": {
       "model_id": "4f0861d3feac4936954addb57e2c4352",
       "version_major": 2,
       "version_minor": 0
      },
      "text/plain": [
       "Iteration T: 12:   0%|          | 0/10903 [00:00<?, ?it/s]"
      ]
     },
     "metadata": {},
     "output_type": "display_data"
    },
    {
     "data": {
      "application/vnd.jupyter.widget-view+json": {
       "model_id": "64cf274f82a9434b97764363be2f0934",
       "version_major": 2,
       "version_minor": 0
      },
      "text/plain": [
       "Iteration T: 13:   0%|          | 0/10903 [00:00<?, ?it/s]"
      ]
     },
     "metadata": {},
     "output_type": "display_data"
    },
    {
     "data": {
      "application/vnd.jupyter.widget-view+json": {
       "model_id": "666bdb3426194bb6a623e0d4b47b920d",
       "version_major": 2,
       "version_minor": 0
      },
      "text/plain": [
       "Iteration T: 14:   0%|          | 0/10903 [00:00<?, ?it/s]"
      ]
     },
     "metadata": {},
     "output_type": "display_data"
    },
    {
     "data": {
      "application/vnd.jupyter.widget-view+json": {
       "model_id": "da17317a170642b0a11d4b8396f4f007",
       "version_major": 2,
       "version_minor": 0
      },
      "text/plain": [
       "Iteration T: 0:   0%|          | 0/10903 [00:00<?, ?it/s]"
      ]
     },
     "metadata": {},
     "output_type": "display_data"
    },
    {
     "data": {
      "application/vnd.jupyter.widget-view+json": {
       "model_id": "09e657f1136f46bfa86d2f3d3e5314a9",
       "version_major": 2,
       "version_minor": 0
      },
      "text/plain": [
       "Iteration T: 1:   0%|          | 0/10903 [00:00<?, ?it/s]"
      ]
     },
     "metadata": {},
     "output_type": "display_data"
    },
    {
     "data": {
      "application/vnd.jupyter.widget-view+json": {
       "model_id": "196dcf66ae3b4f02b452d329399dd68b",
       "version_major": 2,
       "version_minor": 0
      },
      "text/plain": [
       "Iteration T: 2:   0%|          | 0/10903 [00:00<?, ?it/s]"
      ]
     },
     "metadata": {},
     "output_type": "display_data"
    },
    {
     "data": {
      "application/vnd.jupyter.widget-view+json": {
       "model_id": "4338e010b4194914890bb5a848ac767c",
       "version_major": 2,
       "version_minor": 0
      },
      "text/plain": [
       "Iteration T: 3:   0%|          | 0/10903 [00:00<?, ?it/s]"
      ]
     },
     "metadata": {},
     "output_type": "display_data"
    },
    {
     "data": {
      "application/vnd.jupyter.widget-view+json": {
       "model_id": "2057257377cb41c9851f7ef67c5c3057",
       "version_major": 2,
       "version_minor": 0
      },
      "text/plain": [
       "Iteration T: 4:   0%|          | 0/10903 [00:00<?, ?it/s]"
      ]
     },
     "metadata": {},
     "output_type": "display_data"
    },
    {
     "data": {
      "application/vnd.jupyter.widget-view+json": {
       "model_id": "f038985252e6465892f5c5e7729a6468",
       "version_major": 2,
       "version_minor": 0
      },
      "text/plain": [
       "Iteration T: 5:   0%|          | 0/10903 [00:00<?, ?it/s]"
      ]
     },
     "metadata": {},
     "output_type": "display_data"
    },
    {
     "data": {
      "application/vnd.jupyter.widget-view+json": {
       "model_id": "7abed533ab4e4162a8e3c8b1358f5d73",
       "version_major": 2,
       "version_minor": 0
      },
      "text/plain": [
       "Iteration T: 6:   0%|          | 0/10903 [00:00<?, ?it/s]"
      ]
     },
     "metadata": {},
     "output_type": "display_data"
    },
    {
     "data": {
      "application/vnd.jupyter.widget-view+json": {
       "model_id": "9026a350ab6f49f3bfe315b6dbe6474c",
       "version_major": 2,
       "version_minor": 0
      },
      "text/plain": [
       "Iteration T: 7:   0%|          | 0/10903 [00:00<?, ?it/s]"
      ]
     },
     "metadata": {},
     "output_type": "display_data"
    },
    {
     "data": {
      "application/vnd.jupyter.widget-view+json": {
       "model_id": "3ca47669891c4ee4a2ebd2fc4d5e28ac",
       "version_major": 2,
       "version_minor": 0
      },
      "text/plain": [
       "Iteration T: 8:   0%|          | 0/10903 [00:00<?, ?it/s]"
      ]
     },
     "metadata": {},
     "output_type": "display_data"
    },
    {
     "data": {
      "application/vnd.jupyter.widget-view+json": {
       "model_id": "6bbab47347fc494a8329269003d347b9",
       "version_major": 2,
       "version_minor": 0
      },
      "text/plain": [
       "Iteration T: 9:   0%|          | 0/10903 [00:00<?, ?it/s]"
      ]
     },
     "metadata": {},
     "output_type": "display_data"
    },
    {
     "data": {
      "application/vnd.jupyter.widget-view+json": {
       "model_id": "4459b37a67fe43e198b605c3c27379eb",
       "version_major": 2,
       "version_minor": 0
      },
      "text/plain": [
       "Iteration T: 10:   0%|          | 0/10903 [00:00<?, ?it/s]"
      ]
     },
     "metadata": {},
     "output_type": "display_data"
    },
    {
     "data": {
      "application/vnd.jupyter.widget-view+json": {
       "model_id": "79555aa07dfc430eb7e55cef063ffecf",
       "version_major": 2,
       "version_minor": 0
      },
      "text/plain": [
       "Iteration T: 11:   0%|          | 0/10903 [00:00<?, ?it/s]"
      ]
     },
     "metadata": {},
     "output_type": "display_data"
    },
    {
     "data": {
      "application/vnd.jupyter.widget-view+json": {
       "model_id": "647a49d83c8e404faef83b3358212aac",
       "version_major": 2,
       "version_minor": 0
      },
      "text/plain": [
       "Iteration T: 12:   0%|          | 0/10903 [00:00<?, ?it/s]"
      ]
     },
     "metadata": {},
     "output_type": "display_data"
    },
    {
     "data": {
      "application/vnd.jupyter.widget-view+json": {
       "model_id": "388cd323415847cb8762067d75a35338",
       "version_major": 2,
       "version_minor": 0
      },
      "text/plain": [
       "Iteration T: 13:   0%|          | 0/10903 [00:00<?, ?it/s]"
      ]
     },
     "metadata": {},
     "output_type": "display_data"
    },
    {
     "data": {
      "application/vnd.jupyter.widget-view+json": {
       "model_id": "97e194fdf460468a91f9fb822e9ca11f",
       "version_major": 2,
       "version_minor": 0
      },
      "text/plain": [
       "Iteration T: 14:   0%|          | 0/10903 [00:00<?, ?it/s]"
      ]
     },
     "metadata": {},
     "output_type": "display_data"
    },
    {
     "data": {
      "application/vnd.jupyter.widget-view+json": {
       "model_id": "972f2cb7436145f48674eb9df9d9cc1e",
       "version_major": 2,
       "version_minor": 0
      },
      "text/plain": [
       "Iteration T: 15:   0%|          | 0/10903 [00:00<?, ?it/s]"
      ]
     },
     "metadata": {},
     "output_type": "display_data"
    },
    {
     "data": {
      "application/vnd.jupyter.widget-view+json": {
       "model_id": "064b9d9f421e445a93589558d7017dcb",
       "version_major": 2,
       "version_minor": 0
      },
      "text/plain": [
       "Iteration T: 16:   0%|          | 0/10903 [00:00<?, ?it/s]"
      ]
     },
     "metadata": {},
     "output_type": "display_data"
    },
    {
     "data": {
      "application/vnd.jupyter.widget-view+json": {
       "model_id": "a7039828dc21401c9fe1c744114792b8",
       "version_major": 2,
       "version_minor": 0
      },
      "text/plain": [
       "Iteration T: 17:   0%|          | 0/10903 [00:00<?, ?it/s]"
      ]
     },
     "metadata": {},
     "output_type": "display_data"
    },
    {
     "data": {
      "application/vnd.jupyter.widget-view+json": {
       "model_id": "d25bf6e48e024629b6eaaa97747fc605",
       "version_major": 2,
       "version_minor": 0
      },
      "text/plain": [
       "Iteration T: 18:   0%|          | 0/10903 [00:00<?, ?it/s]"
      ]
     },
     "metadata": {},
     "output_type": "display_data"
    },
    {
     "data": {
      "application/vnd.jupyter.widget-view+json": {
       "model_id": "2e9f3fea7220408498d3c9e9e24515cb",
       "version_major": 2,
       "version_minor": 0
      },
      "text/plain": [
       "Iteration T: 19:   0%|          | 0/10903 [00:00<?, ?it/s]"
      ]
     },
     "metadata": {},
     "output_type": "display_data"
    },
    {
     "data": {
      "application/vnd.jupyter.widget-view+json": {
       "model_id": "f8a0f74181564d53b93bb8e0d8ff7180",
       "version_major": 2,
       "version_minor": 0
      },
      "text/plain": [
       "Iteration T: 20:   0%|          | 0/10903 [00:00<?, ?it/s]"
      ]
     },
     "metadata": {},
     "output_type": "display_data"
    },
    {
     "data": {
      "application/vnd.jupyter.widget-view+json": {
       "model_id": "2fcb7fa2fced431eb5121cc2d8e03faf",
       "version_major": 2,
       "version_minor": 0
      },
      "text/plain": [
       "Iteration T: 21:   0%|          | 0/10903 [00:00<?, ?it/s]"
      ]
     },
     "metadata": {},
     "output_type": "display_data"
    },
    {
     "data": {
      "application/vnd.jupyter.widget-view+json": {
       "model_id": "184a662aa8b843c1b945a925d67ba83d",
       "version_major": 2,
       "version_minor": 0
      },
      "text/plain": [
       "Iteration T: 22:   0%|          | 0/10903 [00:00<?, ?it/s]"
      ]
     },
     "metadata": {},
     "output_type": "display_data"
    },
    {
     "data": {
      "application/vnd.jupyter.widget-view+json": {
       "model_id": "0393f5defeaa4069b2c7b57b0994b0d1",
       "version_major": 2,
       "version_minor": 0
      },
      "text/plain": [
       "Iteration T: 23:   0%|          | 0/10903 [00:00<?, ?it/s]"
      ]
     },
     "metadata": {},
     "output_type": "display_data"
    },
    {
     "data": {
      "application/vnd.jupyter.widget-view+json": {
       "model_id": "a355cd72b8d447a3a88390aa6f7c3d5f",
       "version_major": 2,
       "version_minor": 0
      },
      "text/plain": [
       "Iteration T: 24:   0%|          | 0/10903 [00:00<?, ?it/s]"
      ]
     },
     "metadata": {},
     "output_type": "display_data"
    },
    {
     "data": {
      "application/vnd.jupyter.widget-view+json": {
       "model_id": "2df22cbde47749da9491290eb22132c7",
       "version_major": 2,
       "version_minor": 0
      },
      "text/plain": [
       "Iteration T: 0:   0%|          | 0/10903 [00:00<?, ?it/s]"
      ]
     },
     "metadata": {},
     "output_type": "display_data"
    },
    {
     "data": {
      "application/vnd.jupyter.widget-view+json": {
       "model_id": "66851b5b4aa14dad8197cad5824b8b89",
       "version_major": 2,
       "version_minor": 0
      },
      "text/plain": [
       "Iteration T: 1:   0%|          | 0/10903 [00:00<?, ?it/s]"
      ]
     },
     "metadata": {},
     "output_type": "display_data"
    },
    {
     "data": {
      "application/vnd.jupyter.widget-view+json": {
       "model_id": "4eaf5e5f02544a33b15a9abe6c5d4a0b",
       "version_major": 2,
       "version_minor": 0
      },
      "text/plain": [
       "Iteration T: 2:   0%|          | 0/10903 [00:00<?, ?it/s]"
      ]
     },
     "metadata": {},
     "output_type": "display_data"
    },
    {
     "data": {
      "application/vnd.jupyter.widget-view+json": {
       "model_id": "694f1ffdca6d40a4905347c71b7cbbc8",
       "version_major": 2,
       "version_minor": 0
      },
      "text/plain": [
       "Iteration T: 3:   0%|          | 0/10903 [00:00<?, ?it/s]"
      ]
     },
     "metadata": {},
     "output_type": "display_data"
    },
    {
     "data": {
      "application/vnd.jupyter.widget-view+json": {
       "model_id": "20d9950a6d4b44f7959a022ad9d639f0",
       "version_major": 2,
       "version_minor": 0
      },
      "text/plain": [
       "Iteration T: 4:   0%|          | 0/10903 [00:00<?, ?it/s]"
      ]
     },
     "metadata": {},
     "output_type": "display_data"
    },
    {
     "data": {
      "application/vnd.jupyter.widget-view+json": {
       "model_id": "ab3af1eaa8b84b3094ca851b34b455d4",
       "version_major": 2,
       "version_minor": 0
      },
      "text/plain": [
       "Iteration T: 5:   0%|          | 0/10903 [00:00<?, ?it/s]"
      ]
     },
     "metadata": {},
     "output_type": "display_data"
    },
    {
     "data": {
      "application/vnd.jupyter.widget-view+json": {
       "model_id": "2a20ceb89e6549f0aa486faf44531ec9",
       "version_major": 2,
       "version_minor": 0
      },
      "text/plain": [
       "Iteration T: 6:   0%|          | 0/10903 [00:00<?, ?it/s]"
      ]
     },
     "metadata": {},
     "output_type": "display_data"
    },
    {
     "data": {
      "application/vnd.jupyter.widget-view+json": {
       "model_id": "c61cfa3b0d1b4dfea6fce8461cae15b4",
       "version_major": 2,
       "version_minor": 0
      },
      "text/plain": [
       "Iteration T: 7:   0%|          | 0/10903 [00:00<?, ?it/s]"
      ]
     },
     "metadata": {},
     "output_type": "display_data"
    },
    {
     "data": {
      "application/vnd.jupyter.widget-view+json": {
       "model_id": "762486d7abae42a69de0d5fbe3813a18",
       "version_major": 2,
       "version_minor": 0
      },
      "text/plain": [
       "Iteration T: 8:   0%|          | 0/10903 [00:00<?, ?it/s]"
      ]
     },
     "metadata": {},
     "output_type": "display_data"
    },
    {
     "data": {
      "application/vnd.jupyter.widget-view+json": {
       "model_id": "d31c8c0c2d5d40929737b26a00ff726d",
       "version_major": 2,
       "version_minor": 0
      },
      "text/plain": [
       "Iteration T: 9:   0%|          | 0/10903 [00:00<?, ?it/s]"
      ]
     },
     "metadata": {},
     "output_type": "display_data"
    },
    {
     "data": {
      "application/vnd.jupyter.widget-view+json": {
       "model_id": "11d9712e3ffd4321b7c40d8db191509e",
       "version_major": 2,
       "version_minor": 0
      },
      "text/plain": [
       "Iteration T: 10:   0%|          | 0/10903 [00:00<?, ?it/s]"
      ]
     },
     "metadata": {},
     "output_type": "display_data"
    },
    {
     "data": {
      "application/vnd.jupyter.widget-view+json": {
       "model_id": "c646de38591a4e2cbba7840588172877",
       "version_major": 2,
       "version_minor": 0
      },
      "text/plain": [
       "Iteration T: 11:   0%|          | 0/10903 [00:00<?, ?it/s]"
      ]
     },
     "metadata": {},
     "output_type": "display_data"
    },
    {
     "data": {
      "application/vnd.jupyter.widget-view+json": {
       "model_id": "cf54fae89b41430bad05b5b8962506f6",
       "version_major": 2,
       "version_minor": 0
      },
      "text/plain": [
       "Iteration T: 12:   0%|          | 0/10903 [00:00<?, ?it/s]"
      ]
     },
     "metadata": {},
     "output_type": "display_data"
    },
    {
     "data": {
      "application/vnd.jupyter.widget-view+json": {
       "model_id": "2ce48670d4754f56a68eafb2f6d72409",
       "version_major": 2,
       "version_minor": 0
      },
      "text/plain": [
       "Iteration T: 13:   0%|          | 0/10903 [00:00<?, ?it/s]"
      ]
     },
     "metadata": {},
     "output_type": "display_data"
    },
    {
     "data": {
      "application/vnd.jupyter.widget-view+json": {
       "model_id": "5d3496c3b8224091abade5c933b2229d",
       "version_major": 2,
       "version_minor": 0
      },
      "text/plain": [
       "Iteration T: 14:   0%|          | 0/10903 [00:00<?, ?it/s]"
      ]
     },
     "metadata": {},
     "output_type": "display_data"
    },
    {
     "data": {
      "application/vnd.jupyter.widget-view+json": {
       "model_id": "47a1b6540ffc455082793a8a80a981b0",
       "version_major": 2,
       "version_minor": 0
      },
      "text/plain": [
       "Iteration T: 15:   0%|          | 0/10903 [00:00<?, ?it/s]"
      ]
     },
     "metadata": {},
     "output_type": "display_data"
    },
    {
     "data": {
      "application/vnd.jupyter.widget-view+json": {
       "model_id": "9ad5a4eb69e44c9e9197abfa9132cd79",
       "version_major": 2,
       "version_minor": 0
      },
      "text/plain": [
       "Iteration T: 16:   0%|          | 0/10903 [00:00<?, ?it/s]"
      ]
     },
     "metadata": {},
     "output_type": "display_data"
    },
    {
     "data": {
      "application/vnd.jupyter.widget-view+json": {
       "model_id": "d6ae9b9c22494ca09be18348ef84ca43",
       "version_major": 2,
       "version_minor": 0
      },
      "text/plain": [
       "Iteration T: 17:   0%|          | 0/10903 [00:00<?, ?it/s]"
      ]
     },
     "metadata": {},
     "output_type": "display_data"
    },
    {
     "data": {
      "application/vnd.jupyter.widget-view+json": {
       "model_id": "fcb220b87c6143d190e21aab21edd456",
       "version_major": 2,
       "version_minor": 0
      },
      "text/plain": [
       "Iteration T: 18:   0%|          | 0/10903 [00:00<?, ?it/s]"
      ]
     },
     "metadata": {},
     "output_type": "display_data"
    },
    {
     "data": {
      "application/vnd.jupyter.widget-view+json": {
       "model_id": "60dbbc87152049ab9f36769c01c5591f",
       "version_major": 2,
       "version_minor": 0
      },
      "text/plain": [
       "Iteration T: 19:   0%|          | 0/10903 [00:00<?, ?it/s]"
      ]
     },
     "metadata": {},
     "output_type": "display_data"
    },
    {
     "data": {
      "application/vnd.jupyter.widget-view+json": {
       "model_id": "bdfe5b3532794a219ea544c5f4594409",
       "version_major": 2,
       "version_minor": 0
      },
      "text/plain": [
       "Iteration T: 20:   0%|          | 0/10903 [00:00<?, ?it/s]"
      ]
     },
     "metadata": {},
     "output_type": "display_data"
    },
    {
     "data": {
      "application/vnd.jupyter.widget-view+json": {
       "model_id": "a6316225a943463ba7da82e8d0744d05",
       "version_major": 2,
       "version_minor": 0
      },
      "text/plain": [
       "Iteration T: 21:   0%|          | 0/10903 [00:00<?, ?it/s]"
      ]
     },
     "metadata": {},
     "output_type": "display_data"
    },
    {
     "data": {
      "application/vnd.jupyter.widget-view+json": {
       "model_id": "629002a3a89340a4ab17efdaad0fc1f9",
       "version_major": 2,
       "version_minor": 0
      },
      "text/plain": [
       "Iteration T: 22:   0%|          | 0/10903 [00:00<?, ?it/s]"
      ]
     },
     "metadata": {},
     "output_type": "display_data"
    },
    {
     "data": {
      "application/vnd.jupyter.widget-view+json": {
       "model_id": "c316b0be5e684a12bc30cacca1a216fb",
       "version_major": 2,
       "version_minor": 0
      },
      "text/plain": [
       "Iteration T: 23:   0%|          | 0/10903 [00:00<?, ?it/s]"
      ]
     },
     "metadata": {},
     "output_type": "display_data"
    },
    {
     "data": {
      "application/vnd.jupyter.widget-view+json": {
       "model_id": "99bd0020b6eb4943817479eabaedb90b",
       "version_major": 2,
       "version_minor": 0
      },
      "text/plain": [
       "Iteration T: 24:   0%|          | 0/10903 [00:00<?, ?it/s]"
      ]
     },
     "metadata": {},
     "output_type": "display_data"
    },
    {
     "data": {
      "application/vnd.jupyter.widget-view+json": {
       "model_id": "9d737f83a42d4f8187cb642c02f38865",
       "version_major": 2,
       "version_minor": 0
      },
      "text/plain": [
       "Iteration T: 25:   0%|          | 0/10903 [00:00<?, ?it/s]"
      ]
     },
     "metadata": {},
     "output_type": "display_data"
    },
    {
     "data": {
      "application/vnd.jupyter.widget-view+json": {
       "model_id": "f1b2ab882964484289feb49ae31c45b2",
       "version_major": 2,
       "version_minor": 0
      },
      "text/plain": [
       "Iteration T: 26:   0%|          | 0/10903 [00:00<?, ?it/s]"
      ]
     },
     "metadata": {},
     "output_type": "display_data"
    },
    {
     "data": {
      "application/vnd.jupyter.widget-view+json": {
       "model_id": "8f2a31dde1654770801817f0e23535e6",
       "version_major": 2,
       "version_minor": 0
      },
      "text/plain": [
       "Iteration T: 27:   0%|          | 0/10903 [00:00<?, ?it/s]"
      ]
     },
     "metadata": {},
     "output_type": "display_data"
    },
    {
     "data": {
      "application/vnd.jupyter.widget-view+json": {
       "model_id": "175b001ec8ea493185000c321a208ab8",
       "version_major": 2,
       "version_minor": 0
      },
      "text/plain": [
       "Iteration T: 28:   0%|          | 0/10903 [00:00<?, ?it/s]"
      ]
     },
     "metadata": {},
     "output_type": "display_data"
    },
    {
     "data": {
      "application/vnd.jupyter.widget-view+json": {
       "model_id": "a68e45930f4d45bd8e8ec603d7d6b0e2",
       "version_major": 2,
       "version_minor": 0
      },
      "text/plain": [
       "Iteration T: 29:   0%|          | 0/10903 [00:00<?, ?it/s]"
      ]
     },
     "metadata": {},
     "output_type": "display_data"
    },
    {
     "data": {
      "application/vnd.jupyter.widget-view+json": {
       "model_id": "f20dab85527043a7b3bbf4b2c0ad7b7a",
       "version_major": 2,
       "version_minor": 0
      },
      "text/plain": [
       "Iteration T: 30:   0%|          | 0/10903 [00:00<?, ?it/s]"
      ]
     },
     "metadata": {},
     "output_type": "display_data"
    },
    {
     "data": {
      "application/vnd.jupyter.widget-view+json": {
       "model_id": "5e84d641a7bc43179f94734e65f1e637",
       "version_major": 2,
       "version_minor": 0
      },
      "text/plain": [
       "Iteration T: 31:   0%|          | 0/10903 [00:00<?, ?it/s]"
      ]
     },
     "metadata": {},
     "output_type": "display_data"
    },
    {
     "data": {
      "application/vnd.jupyter.widget-view+json": {
       "model_id": "29ae6d41dedc455481e8a786d62a8c69",
       "version_major": 2,
       "version_minor": 0
      },
      "text/plain": [
       "Iteration T: 32:   0%|          | 0/10903 [00:00<?, ?it/s]"
      ]
     },
     "metadata": {},
     "output_type": "display_data"
    },
    {
     "data": {
      "application/vnd.jupyter.widget-view+json": {
       "model_id": "2cc72fafc9454728a80378a34b67b061",
       "version_major": 2,
       "version_minor": 0
      },
      "text/plain": [
       "Iteration T: 33:   0%|          | 0/10903 [00:00<?, ?it/s]"
      ]
     },
     "metadata": {},
     "output_type": "display_data"
    },
    {
     "data": {
      "application/vnd.jupyter.widget-view+json": {
       "model_id": "7d2619f5bb774ebd98fa7bc5f25fe4bc",
       "version_major": 2,
       "version_minor": 0
      },
      "text/plain": [
       "Iteration T: 34:   0%|          | 0/10903 [00:00<?, ?it/s]"
      ]
     },
     "metadata": {},
     "output_type": "display_data"
    },
    {
     "data": {
      "application/vnd.jupyter.widget-view+json": {
       "model_id": "91ba9c49c9c94f89ab6ecd95235e0105",
       "version_major": 2,
       "version_minor": 0
      },
      "text/plain": [
       "Iteration T: 35:   0%|          | 0/10903 [00:00<?, ?it/s]"
      ]
     },
     "metadata": {},
     "output_type": "display_data"
    },
    {
     "data": {
      "application/vnd.jupyter.widget-view+json": {
       "model_id": "8ca62c4500e6471aacfeaba435e8e76d",
       "version_major": 2,
       "version_minor": 0
      },
      "text/plain": [
       "Iteration T: 36:   0%|          | 0/10903 [00:00<?, ?it/s]"
      ]
     },
     "metadata": {},
     "output_type": "display_data"
    },
    {
     "data": {
      "application/vnd.jupyter.widget-view+json": {
       "model_id": "d86a7082c6b745119eef8db47e8d9f06",
       "version_major": 2,
       "version_minor": 0
      },
      "text/plain": [
       "Iteration T: 37:   0%|          | 0/10903 [00:00<?, ?it/s]"
      ]
     },
     "metadata": {},
     "output_type": "display_data"
    },
    {
     "data": {
      "application/vnd.jupyter.widget-view+json": {
       "model_id": "f031374fda4445f9a41c47049a1a0d1a",
       "version_major": 2,
       "version_minor": 0
      },
      "text/plain": [
       "Iteration T: 38:   0%|          | 0/10903 [00:00<?, ?it/s]"
      ]
     },
     "metadata": {},
     "output_type": "display_data"
    },
    {
     "data": {
      "application/vnd.jupyter.widget-view+json": {
       "model_id": "3b0ca7025c3342cf89f9f16ee929c6cb",
       "version_major": 2,
       "version_minor": 0
      },
      "text/plain": [
       "Iteration T: 39:   0%|          | 0/10903 [00:00<?, ?it/s]"
      ]
     },
     "metadata": {},
     "output_type": "display_data"
    },
    {
     "data": {
      "application/vnd.jupyter.widget-view+json": {
       "model_id": "2689a982e4964daab88073f8b9fdedcc",
       "version_major": 2,
       "version_minor": 0
      },
      "text/plain": [
       "Iteration T: 40:   0%|          | 0/10903 [00:00<?, ?it/s]"
      ]
     },
     "metadata": {},
     "output_type": "display_data"
    },
    {
     "data": {
      "application/vnd.jupyter.widget-view+json": {
       "model_id": "0bc4b92d8a0d487e92dff93fd41d752b",
       "version_major": 2,
       "version_minor": 0
      },
      "text/plain": [
       "Iteration T: 41:   0%|          | 0/10903 [00:00<?, ?it/s]"
      ]
     },
     "metadata": {},
     "output_type": "display_data"
    },
    {
     "data": {
      "application/vnd.jupyter.widget-view+json": {
       "model_id": "b4d107424ae44dbd9ea6eb969a97497f",
       "version_major": 2,
       "version_minor": 0
      },
      "text/plain": [
       "Iteration T: 42:   0%|          | 0/10903 [00:00<?, ?it/s]"
      ]
     },
     "metadata": {},
     "output_type": "display_data"
    },
    {
     "data": {
      "application/vnd.jupyter.widget-view+json": {
       "model_id": "e596f36b86d94a2891853716e1aa4dd2",
       "version_major": 2,
       "version_minor": 0
      },
      "text/plain": [
       "Iteration T: 43:   0%|          | 0/10903 [00:00<?, ?it/s]"
      ]
     },
     "metadata": {},
     "output_type": "display_data"
    },
    {
     "data": {
      "application/vnd.jupyter.widget-view+json": {
       "model_id": "d54bb4097e6847a4b3a13b54093c9c57",
       "version_major": 2,
       "version_minor": 0
      },
      "text/plain": [
       "Iteration T: 44:   0%|          | 0/10903 [00:00<?, ?it/s]"
      ]
     },
     "metadata": {},
     "output_type": "display_data"
    },
    {
     "data": {
      "application/vnd.jupyter.widget-view+json": {
       "model_id": "f899518b192643dab978fa349639ea6b",
       "version_major": 2,
       "version_minor": 0
      },
      "text/plain": [
       "Iteration T: 45:   0%|          | 0/10903 [00:00<?, ?it/s]"
      ]
     },
     "metadata": {},
     "output_type": "display_data"
    },
    {
     "data": {
      "application/vnd.jupyter.widget-view+json": {
       "model_id": "722541b050924d148715394ecdef6213",
       "version_major": 2,
       "version_minor": 0
      },
      "text/plain": [
       "Iteration T: 46:   0%|          | 0/10903 [00:00<?, ?it/s]"
      ]
     },
     "metadata": {},
     "output_type": "display_data"
    },
    {
     "data": {
      "application/vnd.jupyter.widget-view+json": {
       "model_id": "b6e10844c9ef4617b12dfd85f34a1973",
       "version_major": 2,
       "version_minor": 0
      },
      "text/plain": [
       "Iteration T: 47:   0%|          | 0/10903 [00:00<?, ?it/s]"
      ]
     },
     "metadata": {},
     "output_type": "display_data"
    },
    {
     "data": {
      "application/vnd.jupyter.widget-view+json": {
       "model_id": "4908da1288994e44b85859f84f385414",
       "version_major": 2,
       "version_minor": 0
      },
      "text/plain": [
       "Iteration T: 48:   0%|          | 0/10903 [00:00<?, ?it/s]"
      ]
     },
     "metadata": {},
     "output_type": "display_data"
    },
    {
     "data": {
      "application/vnd.jupyter.widget-view+json": {
       "model_id": "a7421471030848c2a6fbac1e33ad4e0a",
       "version_major": 2,
       "version_minor": 0
      },
      "text/plain": [
       "Iteration T: 49:   0%|          | 0/10903 [00:00<?, ?it/s]"
      ]
     },
     "metadata": {},
     "output_type": "display_data"
    },
    {
     "name": "stdout",
     "output_type": "stream",
     "text": [
      "perceptron valid: [(1, 0.860484314804623), (5, 0.8874518436984039), (10, 0.9078150798018713), (15, 0.907264722069345), (25, 0.9116675839295542), (50, 0.9097413318657127)]\n",
      "best = 0.9117, T=25.0000\n"
     ]
    },
    {
     "data": {
      "application/vnd.jupyter.widget-view+json": {
       "model_id": "7b6499333cd04005ac1d59e75c10bccd",
       "version_major": 2,
       "version_minor": 0
      },
      "text/plain": [
       "Iteration T: 0:   0%|          | 0/10903 [00:00<?, ?it/s]"
      ]
     },
     "metadata": {},
     "output_type": "display_data"
    },
    {
     "data": {
      "application/vnd.jupyter.widget-view+json": {
       "model_id": "66c55869ed4c4d16932d1489e8978bdf",
       "version_major": 2,
       "version_minor": 0
      },
      "text/plain": [
       "Iteration T: 0:   0%|          | 0/10903 [00:00<?, ?it/s]"
      ]
     },
     "metadata": {},
     "output_type": "display_data"
    },
    {
     "data": {
      "application/vnd.jupyter.widget-view+json": {
       "model_id": "cce8b4daa3d64e0bafc906bd6415dcc7",
       "version_major": 2,
       "version_minor": 0
      },
      "text/plain": [
       "Iteration T: 1:   0%|          | 0/10903 [00:00<?, ?it/s]"
      ]
     },
     "metadata": {},
     "output_type": "display_data"
    },
    {
     "data": {
      "application/vnd.jupyter.widget-view+json": {
       "model_id": "97fb60f2484f4e3db05da7e739351da7",
       "version_major": 2,
       "version_minor": 0
      },
      "text/plain": [
       "Iteration T: 2:   0%|          | 0/10903 [00:00<?, ?it/s]"
      ]
     },
     "metadata": {},
     "output_type": "display_data"
    },
    {
     "data": {
      "application/vnd.jupyter.widget-view+json": {
       "model_id": "9c69df731b5348a0af2606133480027c",
       "version_major": 2,
       "version_minor": 0
      },
      "text/plain": [
       "Iteration T: 3:   0%|          | 0/10903 [00:00<?, ?it/s]"
      ]
     },
     "metadata": {},
     "output_type": "display_data"
    },
    {
     "data": {
      "application/vnd.jupyter.widget-view+json": {
       "model_id": "5663cb566fd7409398d7cb4a2f76a3d4",
       "version_major": 2,
       "version_minor": 0
      },
      "text/plain": [
       "Iteration T: 4:   0%|          | 0/10903 [00:00<?, ?it/s]"
      ]
     },
     "metadata": {},
     "output_type": "display_data"
    },
    {
     "data": {
      "application/vnd.jupyter.widget-view+json": {
       "model_id": "842657cb74694516872aa06bf75a681d",
       "version_major": 2,
       "version_minor": 0
      },
      "text/plain": [
       "Iteration T: 0:   0%|          | 0/10903 [00:00<?, ?it/s]"
      ]
     },
     "metadata": {},
     "output_type": "display_data"
    },
    {
     "data": {
      "application/vnd.jupyter.widget-view+json": {
       "model_id": "dbabaef74df74dd0992fe7846b9e1dd6",
       "version_major": 2,
       "version_minor": 0
      },
      "text/plain": [
       "Iteration T: 1:   0%|          | 0/10903 [00:00<?, ?it/s]"
      ]
     },
     "metadata": {},
     "output_type": "display_data"
    },
    {
     "data": {
      "application/vnd.jupyter.widget-view+json": {
       "model_id": "1f4b98a553414ddeb02551731d96734b",
       "version_major": 2,
       "version_minor": 0
      },
      "text/plain": [
       "Iteration T: 2:   0%|          | 0/10903 [00:00<?, ?it/s]"
      ]
     },
     "metadata": {},
     "output_type": "display_data"
    },
    {
     "data": {
      "application/vnd.jupyter.widget-view+json": {
       "model_id": "74f91f9ab81a42cc88f5e0bebe079910",
       "version_major": 2,
       "version_minor": 0
      },
      "text/plain": [
       "Iteration T: 3:   0%|          | 0/10903 [00:00<?, ?it/s]"
      ]
     },
     "metadata": {},
     "output_type": "display_data"
    },
    {
     "data": {
      "application/vnd.jupyter.widget-view+json": {
       "model_id": "1a8d4a437787420bacf20685fa72ed76",
       "version_major": 2,
       "version_minor": 0
      },
      "text/plain": [
       "Iteration T: 4:   0%|          | 0/10903 [00:00<?, ?it/s]"
      ]
     },
     "metadata": {},
     "output_type": "display_data"
    },
    {
     "data": {
      "application/vnd.jupyter.widget-view+json": {
       "model_id": "dce87e7142154a8eb70246a13f2cd722",
       "version_major": 2,
       "version_minor": 0
      },
      "text/plain": [
       "Iteration T: 5:   0%|          | 0/10903 [00:00<?, ?it/s]"
      ]
     },
     "metadata": {},
     "output_type": "display_data"
    },
    {
     "data": {
      "application/vnd.jupyter.widget-view+json": {
       "model_id": "350c76290ab245788d44db3dffdd5c8b",
       "version_major": 2,
       "version_minor": 0
      },
      "text/plain": [
       "Iteration T: 6:   0%|          | 0/10903 [00:00<?, ?it/s]"
      ]
     },
     "metadata": {},
     "output_type": "display_data"
    },
    {
     "data": {
      "application/vnd.jupyter.widget-view+json": {
       "model_id": "805d1f6b293f4a88a0de1534eaefd5f1",
       "version_major": 2,
       "version_minor": 0
      },
      "text/plain": [
       "Iteration T: 7:   0%|          | 0/10903 [00:00<?, ?it/s]"
      ]
     },
     "metadata": {},
     "output_type": "display_data"
    },
    {
     "data": {
      "application/vnd.jupyter.widget-view+json": {
       "model_id": "c60616b266c843cea33235accd21d8be",
       "version_major": 2,
       "version_minor": 0
      },
      "text/plain": [
       "Iteration T: 8:   0%|          | 0/10903 [00:00<?, ?it/s]"
      ]
     },
     "metadata": {},
     "output_type": "display_data"
    },
    {
     "data": {
      "application/vnd.jupyter.widget-view+json": {
       "model_id": "fb05ae0980fd431cb6911a9482e23875",
       "version_major": 2,
       "version_minor": 0
      },
      "text/plain": [
       "Iteration T: 9:   0%|          | 0/10903 [00:00<?, ?it/s]"
      ]
     },
     "metadata": {},
     "output_type": "display_data"
    },
    {
     "data": {
      "application/vnd.jupyter.widget-view+json": {
       "model_id": "b87c687cfbf94d92a256cb840b4da163",
       "version_major": 2,
       "version_minor": 0
      },
      "text/plain": [
       "Iteration T: 0:   0%|          | 0/10903 [00:00<?, ?it/s]"
      ]
     },
     "metadata": {},
     "output_type": "display_data"
    },
    {
     "data": {
      "application/vnd.jupyter.widget-view+json": {
       "model_id": "f3ec6a93f7a748a8a885987196605e45",
       "version_major": 2,
       "version_minor": 0
      },
      "text/plain": [
       "Iteration T: 1:   0%|          | 0/10903 [00:00<?, ?it/s]"
      ]
     },
     "metadata": {},
     "output_type": "display_data"
    },
    {
     "data": {
      "application/vnd.jupyter.widget-view+json": {
       "model_id": "f60e5a961bae48788a60c702a1fb6ee2",
       "version_major": 2,
       "version_minor": 0
      },
      "text/plain": [
       "Iteration T: 2:   0%|          | 0/10903 [00:00<?, ?it/s]"
      ]
     },
     "metadata": {},
     "output_type": "display_data"
    },
    {
     "data": {
      "application/vnd.jupyter.widget-view+json": {
       "model_id": "d43163f641e34e15be4ce96c47d726cf",
       "version_major": 2,
       "version_minor": 0
      },
      "text/plain": [
       "Iteration T: 3:   0%|          | 0/10903 [00:00<?, ?it/s]"
      ]
     },
     "metadata": {},
     "output_type": "display_data"
    },
    {
     "data": {
      "application/vnd.jupyter.widget-view+json": {
       "model_id": "77266b2871a946b398f1784ea6f8957d",
       "version_major": 2,
       "version_minor": 0
      },
      "text/plain": [
       "Iteration T: 4:   0%|          | 0/10903 [00:00<?, ?it/s]"
      ]
     },
     "metadata": {},
     "output_type": "display_data"
    },
    {
     "data": {
      "application/vnd.jupyter.widget-view+json": {
       "model_id": "6a2a545b602d491cb17e7f36aa814702",
       "version_major": 2,
       "version_minor": 0
      },
      "text/plain": [
       "Iteration T: 5:   0%|          | 0/10903 [00:00<?, ?it/s]"
      ]
     },
     "metadata": {},
     "output_type": "display_data"
    },
    {
     "data": {
      "application/vnd.jupyter.widget-view+json": {
       "model_id": "25ed76808132479994e5c38832dcf212",
       "version_major": 2,
       "version_minor": 0
      },
      "text/plain": [
       "Iteration T: 6:   0%|          | 0/10903 [00:00<?, ?it/s]"
      ]
     },
     "metadata": {},
     "output_type": "display_data"
    },
    {
     "data": {
      "application/vnd.jupyter.widget-view+json": {
       "model_id": "80d78b7dc5724ca6aff93630849914f2",
       "version_major": 2,
       "version_minor": 0
      },
      "text/plain": [
       "Iteration T: 7:   0%|          | 0/10903 [00:00<?, ?it/s]"
      ]
     },
     "metadata": {},
     "output_type": "display_data"
    },
    {
     "data": {
      "application/vnd.jupyter.widget-view+json": {
       "model_id": "b020f0a79ddc40809fefcbcbd54f59a4",
       "version_major": 2,
       "version_minor": 0
      },
      "text/plain": [
       "Iteration T: 8:   0%|          | 0/10903 [00:00<?, ?it/s]"
      ]
     },
     "metadata": {},
     "output_type": "display_data"
    },
    {
     "data": {
      "application/vnd.jupyter.widget-view+json": {
       "model_id": "66194f5b848e4cfbbd9a8f2c8a298195",
       "version_major": 2,
       "version_minor": 0
      },
      "text/plain": [
       "Iteration T: 9:   0%|          | 0/10903 [00:00<?, ?it/s]"
      ]
     },
     "metadata": {},
     "output_type": "display_data"
    },
    {
     "data": {
      "application/vnd.jupyter.widget-view+json": {
       "model_id": "42d9c3b424664cbcb9a8fe1f3aa05c34",
       "version_major": 2,
       "version_minor": 0
      },
      "text/plain": [
       "Iteration T: 10:   0%|          | 0/10903 [00:00<?, ?it/s]"
      ]
     },
     "metadata": {},
     "output_type": "display_data"
    },
    {
     "data": {
      "application/vnd.jupyter.widget-view+json": {
       "model_id": "d6bcb58b4b9d4b2682b0ac7bc454681b",
       "version_major": 2,
       "version_minor": 0
      },
      "text/plain": [
       "Iteration T: 11:   0%|          | 0/10903 [00:00<?, ?it/s]"
      ]
     },
     "metadata": {},
     "output_type": "display_data"
    },
    {
     "data": {
      "application/vnd.jupyter.widget-view+json": {
       "model_id": "0c0824360d40459e9b824d458da75245",
       "version_major": 2,
       "version_minor": 0
      },
      "text/plain": [
       "Iteration T: 12:   0%|          | 0/10903 [00:00<?, ?it/s]"
      ]
     },
     "metadata": {},
     "output_type": "display_data"
    },
    {
     "data": {
      "application/vnd.jupyter.widget-view+json": {
       "model_id": "2b0f3b025d254c7baaecfdda791e4318",
       "version_major": 2,
       "version_minor": 0
      },
      "text/plain": [
       "Iteration T: 13:   0%|          | 0/10903 [00:00<?, ?it/s]"
      ]
     },
     "metadata": {},
     "output_type": "display_data"
    },
    {
     "data": {
      "application/vnd.jupyter.widget-view+json": {
       "model_id": "adb5165af2714d7b953e1254cfc03697",
       "version_major": 2,
       "version_minor": 0
      },
      "text/plain": [
       "Iteration T: 14:   0%|          | 0/10903 [00:00<?, ?it/s]"
      ]
     },
     "metadata": {},
     "output_type": "display_data"
    },
    {
     "data": {
      "application/vnd.jupyter.widget-view+json": {
       "model_id": "860804c97f704a0e9478c8757da8a192",
       "version_major": 2,
       "version_minor": 0
      },
      "text/plain": [
       "Iteration T: 0:   0%|          | 0/10903 [00:00<?, ?it/s]"
      ]
     },
     "metadata": {},
     "output_type": "display_data"
    },
    {
     "data": {
      "application/vnd.jupyter.widget-view+json": {
       "model_id": "41775134f3d241638eef0fe49baf1813",
       "version_major": 2,
       "version_minor": 0
      },
      "text/plain": [
       "Iteration T: 1:   0%|          | 0/10903 [00:00<?, ?it/s]"
      ]
     },
     "metadata": {},
     "output_type": "display_data"
    },
    {
     "data": {
      "application/vnd.jupyter.widget-view+json": {
       "model_id": "c04b099e42f140ceb082a8079bc24fc4",
       "version_major": 2,
       "version_minor": 0
      },
      "text/plain": [
       "Iteration T: 2:   0%|          | 0/10903 [00:00<?, ?it/s]"
      ]
     },
     "metadata": {},
     "output_type": "display_data"
    },
    {
     "data": {
      "application/vnd.jupyter.widget-view+json": {
       "model_id": "f775bde5c3914774b4de77c98bbe0e7b",
       "version_major": 2,
       "version_minor": 0
      },
      "text/plain": [
       "Iteration T: 3:   0%|          | 0/10903 [00:00<?, ?it/s]"
      ]
     },
     "metadata": {},
     "output_type": "display_data"
    },
    {
     "data": {
      "application/vnd.jupyter.widget-view+json": {
       "model_id": "4f87b6ee9ed74e72b91da00f83a5bb37",
       "version_major": 2,
       "version_minor": 0
      },
      "text/plain": [
       "Iteration T: 4:   0%|          | 0/10903 [00:00<?, ?it/s]"
      ]
     },
     "metadata": {},
     "output_type": "display_data"
    },
    {
     "data": {
      "application/vnd.jupyter.widget-view+json": {
       "model_id": "a3997214af9a440591bcd728b31ffed3",
       "version_major": 2,
       "version_minor": 0
      },
      "text/plain": [
       "Iteration T: 5:   0%|          | 0/10903 [00:00<?, ?it/s]"
      ]
     },
     "metadata": {},
     "output_type": "display_data"
    },
    {
     "data": {
      "application/vnd.jupyter.widget-view+json": {
       "model_id": "628b365748404fd3b6f57c875586d4e6",
       "version_major": 2,
       "version_minor": 0
      },
      "text/plain": [
       "Iteration T: 6:   0%|          | 0/10903 [00:00<?, ?it/s]"
      ]
     },
     "metadata": {},
     "output_type": "display_data"
    },
    {
     "data": {
      "application/vnd.jupyter.widget-view+json": {
       "model_id": "afe568b689854abcaa4489a3ebb35eb3",
       "version_major": 2,
       "version_minor": 0
      },
      "text/plain": [
       "Iteration T: 7:   0%|          | 0/10903 [00:00<?, ?it/s]"
      ]
     },
     "metadata": {},
     "output_type": "display_data"
    },
    {
     "data": {
      "application/vnd.jupyter.widget-view+json": {
       "model_id": "14a62a76b8714d5f816b8474a20dc552",
       "version_major": 2,
       "version_minor": 0
      },
      "text/plain": [
       "Iteration T: 8:   0%|          | 0/10903 [00:00<?, ?it/s]"
      ]
     },
     "metadata": {},
     "output_type": "display_data"
    },
    {
     "data": {
      "application/vnd.jupyter.widget-view+json": {
       "model_id": "86311484295a471f9f302549405568f4",
       "version_major": 2,
       "version_minor": 0
      },
      "text/plain": [
       "Iteration T: 9:   0%|          | 0/10903 [00:00<?, ?it/s]"
      ]
     },
     "metadata": {},
     "output_type": "display_data"
    },
    {
     "data": {
      "application/vnd.jupyter.widget-view+json": {
       "model_id": "fc6e55a500fd4b0a8a6318281245c237",
       "version_major": 2,
       "version_minor": 0
      },
      "text/plain": [
       "Iteration T: 10:   0%|          | 0/10903 [00:00<?, ?it/s]"
      ]
     },
     "metadata": {},
     "output_type": "display_data"
    },
    {
     "data": {
      "application/vnd.jupyter.widget-view+json": {
       "model_id": "d68fc9dfddd74c9bb0ab7d578b70e59b",
       "version_major": 2,
       "version_minor": 0
      },
      "text/plain": [
       "Iteration T: 11:   0%|          | 0/10903 [00:00<?, ?it/s]"
      ]
     },
     "metadata": {},
     "output_type": "display_data"
    },
    {
     "data": {
      "application/vnd.jupyter.widget-view+json": {
       "model_id": "318643b2f2f844cbb4417e7c3121ff08",
       "version_major": 2,
       "version_minor": 0
      },
      "text/plain": [
       "Iteration T: 12:   0%|          | 0/10903 [00:00<?, ?it/s]"
      ]
     },
     "metadata": {},
     "output_type": "display_data"
    },
    {
     "data": {
      "application/vnd.jupyter.widget-view+json": {
       "model_id": "554bb0f6c6e74b82836787084cd8fac0",
       "version_major": 2,
       "version_minor": 0
      },
      "text/plain": [
       "Iteration T: 13:   0%|          | 0/10903 [00:00<?, ?it/s]"
      ]
     },
     "metadata": {},
     "output_type": "display_data"
    },
    {
     "data": {
      "application/vnd.jupyter.widget-view+json": {
       "model_id": "26c3397895c84499845b1d4f796d9420",
       "version_major": 2,
       "version_minor": 0
      },
      "text/plain": [
       "Iteration T: 14:   0%|          | 0/10903 [00:00<?, ?it/s]"
      ]
     },
     "metadata": {},
     "output_type": "display_data"
    },
    {
     "data": {
      "application/vnd.jupyter.widget-view+json": {
       "model_id": "a9d60ec2919f4ccb97565905493adaf1",
       "version_major": 2,
       "version_minor": 0
      },
      "text/plain": [
       "Iteration T: 15:   0%|          | 0/10903 [00:00<?, ?it/s]"
      ]
     },
     "metadata": {},
     "output_type": "display_data"
    },
    {
     "data": {
      "application/vnd.jupyter.widget-view+json": {
       "model_id": "9acf31c495034fe3bc5a2184e21d4e33",
       "version_major": 2,
       "version_minor": 0
      },
      "text/plain": [
       "Iteration T: 16:   0%|          | 0/10903 [00:00<?, ?it/s]"
      ]
     },
     "metadata": {},
     "output_type": "display_data"
    },
    {
     "data": {
      "application/vnd.jupyter.widget-view+json": {
       "model_id": "d007bc21b9f0418eab180df44e0705f9",
       "version_major": 2,
       "version_minor": 0
      },
      "text/plain": [
       "Iteration T: 17:   0%|          | 0/10903 [00:00<?, ?it/s]"
      ]
     },
     "metadata": {},
     "output_type": "display_data"
    },
    {
     "data": {
      "application/vnd.jupyter.widget-view+json": {
       "model_id": "660e1421b683402588c098db6a783b08",
       "version_major": 2,
       "version_minor": 0
      },
      "text/plain": [
       "Iteration T: 18:   0%|          | 0/10903 [00:00<?, ?it/s]"
      ]
     },
     "metadata": {},
     "output_type": "display_data"
    },
    {
     "data": {
      "application/vnd.jupyter.widget-view+json": {
       "model_id": "ceb90f934f04408da2562108da5457be",
       "version_major": 2,
       "version_minor": 0
      },
      "text/plain": [
       "Iteration T: 19:   0%|          | 0/10903 [00:00<?, ?it/s]"
      ]
     },
     "metadata": {},
     "output_type": "display_data"
    },
    {
     "data": {
      "application/vnd.jupyter.widget-view+json": {
       "model_id": "c1dc9e25d7f34e52a9f815d0392a5d20",
       "version_major": 2,
       "version_minor": 0
      },
      "text/plain": [
       "Iteration T: 20:   0%|          | 0/10903 [00:00<?, ?it/s]"
      ]
     },
     "metadata": {},
     "output_type": "display_data"
    },
    {
     "data": {
      "application/vnd.jupyter.widget-view+json": {
       "model_id": "4e692561e0424b5fadebc3238af19e09",
       "version_major": 2,
       "version_minor": 0
      },
      "text/plain": [
       "Iteration T: 21:   0%|          | 0/10903 [00:00<?, ?it/s]"
      ]
     },
     "metadata": {},
     "output_type": "display_data"
    },
    {
     "data": {
      "application/vnd.jupyter.widget-view+json": {
       "model_id": "0ebf98801e084324a146aab4804f3d3b",
       "version_major": 2,
       "version_minor": 0
      },
      "text/plain": [
       "Iteration T: 22:   0%|          | 0/10903 [00:00<?, ?it/s]"
      ]
     },
     "metadata": {},
     "output_type": "display_data"
    },
    {
     "data": {
      "application/vnd.jupyter.widget-view+json": {
       "model_id": "dbd9e004e3a4455d981bf55f805aac6d",
       "version_major": 2,
       "version_minor": 0
      },
      "text/plain": [
       "Iteration T: 23:   0%|          | 0/10903 [00:00<?, ?it/s]"
      ]
     },
     "metadata": {},
     "output_type": "display_data"
    },
    {
     "data": {
      "application/vnd.jupyter.widget-view+json": {
       "model_id": "2b8dee73e24a4eafa4f968328afa314f",
       "version_major": 2,
       "version_minor": 0
      },
      "text/plain": [
       "Iteration T: 24:   0%|          | 0/10903 [00:00<?, ?it/s]"
      ]
     },
     "metadata": {},
     "output_type": "display_data"
    },
    {
     "data": {
      "application/vnd.jupyter.widget-view+json": {
       "model_id": "b7924fb4cd914f7683b303452102e910",
       "version_major": 2,
       "version_minor": 0
      },
      "text/plain": [
       "Iteration T: 0:   0%|          | 0/10903 [00:00<?, ?it/s]"
      ]
     },
     "metadata": {},
     "output_type": "display_data"
    },
    {
     "data": {
      "application/vnd.jupyter.widget-view+json": {
       "model_id": "9370c971d0d74859a802d92fe5739766",
       "version_major": 2,
       "version_minor": 0
      },
      "text/plain": [
       "Iteration T: 1:   0%|          | 0/10903 [00:00<?, ?it/s]"
      ]
     },
     "metadata": {},
     "output_type": "display_data"
    },
    {
     "data": {
      "application/vnd.jupyter.widget-view+json": {
       "model_id": "4e15b52256284a489da24b451182a239",
       "version_major": 2,
       "version_minor": 0
      },
      "text/plain": [
       "Iteration T: 2:   0%|          | 0/10903 [00:00<?, ?it/s]"
      ]
     },
     "metadata": {},
     "output_type": "display_data"
    },
    {
     "data": {
      "application/vnd.jupyter.widget-view+json": {
       "model_id": "7c67a74157b1482eb7ecedc1ad324de8",
       "version_major": 2,
       "version_minor": 0
      },
      "text/plain": [
       "Iteration T: 3:   0%|          | 0/10903 [00:00<?, ?it/s]"
      ]
     },
     "metadata": {},
     "output_type": "display_data"
    },
    {
     "data": {
      "application/vnd.jupyter.widget-view+json": {
       "model_id": "713b0b1d33b84dd0b7f500961872fcd1",
       "version_major": 2,
       "version_minor": 0
      },
      "text/plain": [
       "Iteration T: 4:   0%|          | 0/10903 [00:00<?, ?it/s]"
      ]
     },
     "metadata": {},
     "output_type": "display_data"
    },
    {
     "data": {
      "application/vnd.jupyter.widget-view+json": {
       "model_id": "1ed4fe38cfbd435e95e273462e9439c9",
       "version_major": 2,
       "version_minor": 0
      },
      "text/plain": [
       "Iteration T: 5:   0%|          | 0/10903 [00:00<?, ?it/s]"
      ]
     },
     "metadata": {},
     "output_type": "display_data"
    },
    {
     "data": {
      "application/vnd.jupyter.widget-view+json": {
       "model_id": "cd28b119c8d248e89d859f32a037e23f",
       "version_major": 2,
       "version_minor": 0
      },
      "text/plain": [
       "Iteration T: 6:   0%|          | 0/10903 [00:00<?, ?it/s]"
      ]
     },
     "metadata": {},
     "output_type": "display_data"
    },
    {
     "data": {
      "application/vnd.jupyter.widget-view+json": {
       "model_id": "93da4efa8155497aaa11cec87802d684",
       "version_major": 2,
       "version_minor": 0
      },
      "text/plain": [
       "Iteration T: 7:   0%|          | 0/10903 [00:00<?, ?it/s]"
      ]
     },
     "metadata": {},
     "output_type": "display_data"
    },
    {
     "data": {
      "application/vnd.jupyter.widget-view+json": {
       "model_id": "629662dff76947fca2e7f6a850a40bcb",
       "version_major": 2,
       "version_minor": 0
      },
      "text/plain": [
       "Iteration T: 8:   0%|          | 0/10903 [00:00<?, ?it/s]"
      ]
     },
     "metadata": {},
     "output_type": "display_data"
    },
    {
     "data": {
      "application/vnd.jupyter.widget-view+json": {
       "model_id": "4ad36cbc6d3044c694398c6d2f6f583f",
       "version_major": 2,
       "version_minor": 0
      },
      "text/plain": [
       "Iteration T: 9:   0%|          | 0/10903 [00:00<?, ?it/s]"
      ]
     },
     "metadata": {},
     "output_type": "display_data"
    },
    {
     "data": {
      "application/vnd.jupyter.widget-view+json": {
       "model_id": "3866c7d2d7c0455291923ea8a73dbd70",
       "version_major": 2,
       "version_minor": 0
      },
      "text/plain": [
       "Iteration T: 10:   0%|          | 0/10903 [00:00<?, ?it/s]"
      ]
     },
     "metadata": {},
     "output_type": "display_data"
    },
    {
     "data": {
      "application/vnd.jupyter.widget-view+json": {
       "model_id": "328afae7a1c54cfc8066b378200a24c2",
       "version_major": 2,
       "version_minor": 0
      },
      "text/plain": [
       "Iteration T: 11:   0%|          | 0/10903 [00:00<?, ?it/s]"
      ]
     },
     "metadata": {},
     "output_type": "display_data"
    },
    {
     "data": {
      "application/vnd.jupyter.widget-view+json": {
       "model_id": "09af03ef56504a52b9086f7f055fc4fc",
       "version_major": 2,
       "version_minor": 0
      },
      "text/plain": [
       "Iteration T: 12:   0%|          | 0/10903 [00:00<?, ?it/s]"
      ]
     },
     "metadata": {},
     "output_type": "display_data"
    },
    {
     "data": {
      "application/vnd.jupyter.widget-view+json": {
       "model_id": "ffc60d1ecbf54f89b57d5f97aa46f2ce",
       "version_major": 2,
       "version_minor": 0
      },
      "text/plain": [
       "Iteration T: 13:   0%|          | 0/10903 [00:00<?, ?it/s]"
      ]
     },
     "metadata": {},
     "output_type": "display_data"
    },
    {
     "data": {
      "application/vnd.jupyter.widget-view+json": {
       "model_id": "3bddd2bd30e8468ba8f53b0c2da5b6a9",
       "version_major": 2,
       "version_minor": 0
      },
      "text/plain": [
       "Iteration T: 14:   0%|          | 0/10903 [00:00<?, ?it/s]"
      ]
     },
     "metadata": {},
     "output_type": "display_data"
    },
    {
     "data": {
      "application/vnd.jupyter.widget-view+json": {
       "model_id": "c87452991b524524aa839b872ddb57e1",
       "version_major": 2,
       "version_minor": 0
      },
      "text/plain": [
       "Iteration T: 15:   0%|          | 0/10903 [00:00<?, ?it/s]"
      ]
     },
     "metadata": {},
     "output_type": "display_data"
    },
    {
     "data": {
      "application/vnd.jupyter.widget-view+json": {
       "model_id": "1ba03b6d53474cfd913aa9d66206ad77",
       "version_major": 2,
       "version_minor": 0
      },
      "text/plain": [
       "Iteration T: 16:   0%|          | 0/10903 [00:00<?, ?it/s]"
      ]
     },
     "metadata": {},
     "output_type": "display_data"
    },
    {
     "data": {
      "application/vnd.jupyter.widget-view+json": {
       "model_id": "d0f888452a204eb683d60eefa0eb912d",
       "version_major": 2,
       "version_minor": 0
      },
      "text/plain": [
       "Iteration T: 17:   0%|          | 0/10903 [00:00<?, ?it/s]"
      ]
     },
     "metadata": {},
     "output_type": "display_data"
    },
    {
     "data": {
      "application/vnd.jupyter.widget-view+json": {
       "model_id": "78ba428687cb4542831c52c528ee1e31",
       "version_major": 2,
       "version_minor": 0
      },
      "text/plain": [
       "Iteration T: 18:   0%|          | 0/10903 [00:00<?, ?it/s]"
      ]
     },
     "metadata": {},
     "output_type": "display_data"
    },
    {
     "data": {
      "application/vnd.jupyter.widget-view+json": {
       "model_id": "03e43364386b48b8b9e8045c1538a6f1",
       "version_major": 2,
       "version_minor": 0
      },
      "text/plain": [
       "Iteration T: 19:   0%|          | 0/10903 [00:00<?, ?it/s]"
      ]
     },
     "metadata": {},
     "output_type": "display_data"
    },
    {
     "data": {
      "application/vnd.jupyter.widget-view+json": {
       "model_id": "7bb9445df491420fa8b3490c7c5687ce",
       "version_major": 2,
       "version_minor": 0
      },
      "text/plain": [
       "Iteration T: 20:   0%|          | 0/10903 [00:00<?, ?it/s]"
      ]
     },
     "metadata": {},
     "output_type": "display_data"
    },
    {
     "data": {
      "application/vnd.jupyter.widget-view+json": {
       "model_id": "0246975b195e4edc9be77a875a4e17ea",
       "version_major": 2,
       "version_minor": 0
      },
      "text/plain": [
       "Iteration T: 21:   0%|          | 0/10903 [00:00<?, ?it/s]"
      ]
     },
     "metadata": {},
     "output_type": "display_data"
    },
    {
     "data": {
      "application/vnd.jupyter.widget-view+json": {
       "model_id": "96b95996cc294dfc8334ebc7f72d94e0",
       "version_major": 2,
       "version_minor": 0
      },
      "text/plain": [
       "Iteration T: 22:   0%|          | 0/10903 [00:00<?, ?it/s]"
      ]
     },
     "metadata": {},
     "output_type": "display_data"
    },
    {
     "data": {
      "application/vnd.jupyter.widget-view+json": {
       "model_id": "55cdba3395dc4474a07a09aa4778a0d4",
       "version_major": 2,
       "version_minor": 0
      },
      "text/plain": [
       "Iteration T: 23:   0%|          | 0/10903 [00:00<?, ?it/s]"
      ]
     },
     "metadata": {},
     "output_type": "display_data"
    },
    {
     "data": {
      "application/vnd.jupyter.widget-view+json": {
       "model_id": "b448a5e9ab19496e8df114ceb8d58b21",
       "version_major": 2,
       "version_minor": 0
      },
      "text/plain": [
       "Iteration T: 24:   0%|          | 0/10903 [00:00<?, ?it/s]"
      ]
     },
     "metadata": {},
     "output_type": "display_data"
    },
    {
     "data": {
      "application/vnd.jupyter.widget-view+json": {
       "model_id": "4d930072120d41c6a84e668f32437f67",
       "version_major": 2,
       "version_minor": 0
      },
      "text/plain": [
       "Iteration T: 25:   0%|          | 0/10903 [00:00<?, ?it/s]"
      ]
     },
     "metadata": {},
     "output_type": "display_data"
    },
    {
     "data": {
      "application/vnd.jupyter.widget-view+json": {
       "model_id": "cd71e7d9aa4347c18a2eaabae31eb556",
       "version_major": 2,
       "version_minor": 0
      },
      "text/plain": [
       "Iteration T: 26:   0%|          | 0/10903 [00:00<?, ?it/s]"
      ]
     },
     "metadata": {},
     "output_type": "display_data"
    },
    {
     "data": {
      "application/vnd.jupyter.widget-view+json": {
       "model_id": "452efa37a8db43cb80b90324d6dfbaa2",
       "version_major": 2,
       "version_minor": 0
      },
      "text/plain": [
       "Iteration T: 27:   0%|          | 0/10903 [00:00<?, ?it/s]"
      ]
     },
     "metadata": {},
     "output_type": "display_data"
    },
    {
     "data": {
      "application/vnd.jupyter.widget-view+json": {
       "model_id": "f1381964079c4c70bbe978054ad8abef",
       "version_major": 2,
       "version_minor": 0
      },
      "text/plain": [
       "Iteration T: 28:   0%|          | 0/10903 [00:00<?, ?it/s]"
      ]
     },
     "metadata": {},
     "output_type": "display_data"
    },
    {
     "data": {
      "application/vnd.jupyter.widget-view+json": {
       "model_id": "8c9204bf5d36445baa1a4e0a8ec80dc2",
       "version_major": 2,
       "version_minor": 0
      },
      "text/plain": [
       "Iteration T: 29:   0%|          | 0/10903 [00:00<?, ?it/s]"
      ]
     },
     "metadata": {},
     "output_type": "display_data"
    },
    {
     "data": {
      "application/vnd.jupyter.widget-view+json": {
       "model_id": "0b24447dc16744f9b3d4b1961f0ccc8b",
       "version_major": 2,
       "version_minor": 0
      },
      "text/plain": [
       "Iteration T: 30:   0%|          | 0/10903 [00:00<?, ?it/s]"
      ]
     },
     "metadata": {},
     "output_type": "display_data"
    },
    {
     "data": {
      "application/vnd.jupyter.widget-view+json": {
       "model_id": "16427caa2a5c447f864ecae42db3d4bc",
       "version_major": 2,
       "version_minor": 0
      },
      "text/plain": [
       "Iteration T: 31:   0%|          | 0/10903 [00:00<?, ?it/s]"
      ]
     },
     "metadata": {},
     "output_type": "display_data"
    },
    {
     "data": {
      "application/vnd.jupyter.widget-view+json": {
       "model_id": "033a25a8dbd34cfea95170bde0978c17",
       "version_major": 2,
       "version_minor": 0
      },
      "text/plain": [
       "Iteration T: 32:   0%|          | 0/10903 [00:00<?, ?it/s]"
      ]
     },
     "metadata": {},
     "output_type": "display_data"
    },
    {
     "data": {
      "application/vnd.jupyter.widget-view+json": {
       "model_id": "de29793ef62a4b398d44ca728ce93db4",
       "version_major": 2,
       "version_minor": 0
      },
      "text/plain": [
       "Iteration T: 33:   0%|          | 0/10903 [00:00<?, ?it/s]"
      ]
     },
     "metadata": {},
     "output_type": "display_data"
    },
    {
     "data": {
      "application/vnd.jupyter.widget-view+json": {
       "model_id": "068ec08a930c4048abf0653ba17ee19e",
       "version_major": 2,
       "version_minor": 0
      },
      "text/plain": [
       "Iteration T: 34:   0%|          | 0/10903 [00:00<?, ?it/s]"
      ]
     },
     "metadata": {},
     "output_type": "display_data"
    },
    {
     "data": {
      "application/vnd.jupyter.widget-view+json": {
       "model_id": "6c27afaa7c8445ad89202e474b2fa76a",
       "version_major": 2,
       "version_minor": 0
      },
      "text/plain": [
       "Iteration T: 35:   0%|          | 0/10903 [00:00<?, ?it/s]"
      ]
     },
     "metadata": {},
     "output_type": "display_data"
    },
    {
     "data": {
      "application/vnd.jupyter.widget-view+json": {
       "model_id": "6d62123a0abd4fddb3b53fb3a0c1ab24",
       "version_major": 2,
       "version_minor": 0
      },
      "text/plain": [
       "Iteration T: 36:   0%|          | 0/10903 [00:00<?, ?it/s]"
      ]
     },
     "metadata": {},
     "output_type": "display_data"
    },
    {
     "data": {
      "application/vnd.jupyter.widget-view+json": {
       "model_id": "2cb4b2b8499045b0b480275be3ff56cb",
       "version_major": 2,
       "version_minor": 0
      },
      "text/plain": [
       "Iteration T: 37:   0%|          | 0/10903 [00:00<?, ?it/s]"
      ]
     },
     "metadata": {},
     "output_type": "display_data"
    },
    {
     "data": {
      "application/vnd.jupyter.widget-view+json": {
       "model_id": "996385adb8504379a893a8fbea8c0784",
       "version_major": 2,
       "version_minor": 0
      },
      "text/plain": [
       "Iteration T: 38:   0%|          | 0/10903 [00:00<?, ?it/s]"
      ]
     },
     "metadata": {},
     "output_type": "display_data"
    },
    {
     "data": {
      "application/vnd.jupyter.widget-view+json": {
       "model_id": "969574eabf884d1993826c326327189a",
       "version_major": 2,
       "version_minor": 0
      },
      "text/plain": [
       "Iteration T: 39:   0%|          | 0/10903 [00:00<?, ?it/s]"
      ]
     },
     "metadata": {},
     "output_type": "display_data"
    },
    {
     "data": {
      "application/vnd.jupyter.widget-view+json": {
       "model_id": "5590c6bb742f4c5ba28c7c220bda7b97",
       "version_major": 2,
       "version_minor": 0
      },
      "text/plain": [
       "Iteration T: 40:   0%|          | 0/10903 [00:00<?, ?it/s]"
      ]
     },
     "metadata": {},
     "output_type": "display_data"
    },
    {
     "data": {
      "application/vnd.jupyter.widget-view+json": {
       "model_id": "a3b048c025ee48e9a2bf6d79b257477d",
       "version_major": 2,
       "version_minor": 0
      },
      "text/plain": [
       "Iteration T: 41:   0%|          | 0/10903 [00:00<?, ?it/s]"
      ]
     },
     "metadata": {},
     "output_type": "display_data"
    },
    {
     "data": {
      "application/vnd.jupyter.widget-view+json": {
       "model_id": "218dfd90b6e74d9c8cc4afce30b13cc3",
       "version_major": 2,
       "version_minor": 0
      },
      "text/plain": [
       "Iteration T: 42:   0%|          | 0/10903 [00:00<?, ?it/s]"
      ]
     },
     "metadata": {},
     "output_type": "display_data"
    },
    {
     "data": {
      "application/vnd.jupyter.widget-view+json": {
       "model_id": "37b426f4813b447a8d29a5f71f50cbc8",
       "version_major": 2,
       "version_minor": 0
      },
      "text/plain": [
       "Iteration T: 43:   0%|          | 0/10903 [00:00<?, ?it/s]"
      ]
     },
     "metadata": {},
     "output_type": "display_data"
    },
    {
     "data": {
      "application/vnd.jupyter.widget-view+json": {
       "model_id": "b1bb08717222459da447697a34c6684a",
       "version_major": 2,
       "version_minor": 0
      },
      "text/plain": [
       "Iteration T: 44:   0%|          | 0/10903 [00:00<?, ?it/s]"
      ]
     },
     "metadata": {},
     "output_type": "display_data"
    },
    {
     "data": {
      "application/vnd.jupyter.widget-view+json": {
       "model_id": "517e45b81b8747bf9a41efd26b66740f",
       "version_major": 2,
       "version_minor": 0
      },
      "text/plain": [
       "Iteration T: 45:   0%|          | 0/10903 [00:00<?, ?it/s]"
      ]
     },
     "metadata": {},
     "output_type": "display_data"
    },
    {
     "data": {
      "application/vnd.jupyter.widget-view+json": {
       "model_id": "456a100879f944baa717ebda16c5b924",
       "version_major": 2,
       "version_minor": 0
      },
      "text/plain": [
       "Iteration T: 46:   0%|          | 0/10903 [00:00<?, ?it/s]"
      ]
     },
     "metadata": {},
     "output_type": "display_data"
    },
    {
     "data": {
      "application/vnd.jupyter.widget-view+json": {
       "model_id": "1fcb684197864621af7777c48ab40f68",
       "version_major": 2,
       "version_minor": 0
      },
      "text/plain": [
       "Iteration T: 47:   0%|          | 0/10903 [00:00<?, ?it/s]"
      ]
     },
     "metadata": {},
     "output_type": "display_data"
    },
    {
     "data": {
      "application/vnd.jupyter.widget-view+json": {
       "model_id": "3c7479c4a51d47579aa559c3f48e71bd",
       "version_major": 2,
       "version_minor": 0
      },
      "text/plain": [
       "Iteration T: 48:   0%|          | 0/10903 [00:00<?, ?it/s]"
      ]
     },
     "metadata": {},
     "output_type": "display_data"
    },
    {
     "data": {
      "application/vnd.jupyter.widget-view+json": {
       "model_id": "56f1dc05b9964a5a880981348d2b1120",
       "version_major": 2,
       "version_minor": 0
      },
      "text/plain": [
       "Iteration T: 49:   0%|          | 0/10903 [00:00<?, ?it/s]"
      ]
     },
     "metadata": {},
     "output_type": "display_data"
    },
    {
     "name": "stdout",
     "output_type": "stream",
     "text": [
      "avg perceptron valid: [(1, 0.907264722069345), (5, 0.9212988442487617), (10, 0.9204733076499725), (15, 0.9218492019812878), (25, 0.9168959823885525), (50, 0.9144193725921849)]\n",
      "best = 0.9218, T=15.0000\n"
     ]
    },
    {
     "data": {
      "application/vnd.jupyter.widget-view+json": {
       "model_id": "fbd26213f7f348f79f0cc14495000c08",
       "version_major": 2,
       "version_minor": 0
      },
      "text/plain": [
       "Iteration T: 0:   0%|          | 0/10903 [00:00<?, ?it/s]"
      ]
     },
     "metadata": {},
     "output_type": "display_data"
    },
    {
     "data": {
      "application/vnd.jupyter.widget-view+json": {
       "model_id": "b6eaa048654340edae9b0c3cf5417aae",
       "version_major": 2,
       "version_minor": 0
      },
      "text/plain": [
       "Iteration T: 0:   0%|          | 0/10903 [00:00<?, ?it/s]"
      ]
     },
     "metadata": {},
     "output_type": "display_data"
    },
    {
     "data": {
      "application/vnd.jupyter.widget-view+json": {
       "model_id": "e78f29655cf14bc5a23db5995859f22f",
       "version_major": 2,
       "version_minor": 0
      },
      "text/plain": [
       "Iteration T: 1:   0%|          | 0/10903 [00:00<?, ?it/s]"
      ]
     },
     "metadata": {},
     "output_type": "display_data"
    },
    {
     "data": {
      "application/vnd.jupyter.widget-view+json": {
       "model_id": "f6e426ce9b034bd5a8c5703adb0c8937",
       "version_major": 2,
       "version_minor": 0
      },
      "text/plain": [
       "Iteration T: 2:   0%|          | 0/10903 [00:00<?, ?it/s]"
      ]
     },
     "metadata": {},
     "output_type": "display_data"
    },
    {
     "data": {
      "application/vnd.jupyter.widget-view+json": {
       "model_id": "b2e2d1e186a74b4985678995eeffa2d7",
       "version_major": 2,
       "version_minor": 0
      },
      "text/plain": [
       "Iteration T: 3:   0%|          | 0/10903 [00:00<?, ?it/s]"
      ]
     },
     "metadata": {},
     "output_type": "display_data"
    },
    {
     "data": {
      "application/vnd.jupyter.widget-view+json": {
       "model_id": "845b24adf0c346148125c5a766e2aa98",
       "version_major": 2,
       "version_minor": 0
      },
      "text/plain": [
       "Iteration T: 4:   0%|          | 0/10903 [00:00<?, ?it/s]"
      ]
     },
     "metadata": {},
     "output_type": "display_data"
    },
    {
     "data": {
      "application/vnd.jupyter.widget-view+json": {
       "model_id": "6686a3021f7640639b981225905b349f",
       "version_major": 2,
       "version_minor": 0
      },
      "text/plain": [
       "Iteration T: 0:   0%|          | 0/10903 [00:00<?, ?it/s]"
      ]
     },
     "metadata": {},
     "output_type": "display_data"
    },
    {
     "data": {
      "application/vnd.jupyter.widget-view+json": {
       "model_id": "7100526f7ea4457199e91b230b2540be",
       "version_major": 2,
       "version_minor": 0
      },
      "text/plain": [
       "Iteration T: 1:   0%|          | 0/10903 [00:00<?, ?it/s]"
      ]
     },
     "metadata": {},
     "output_type": "display_data"
    },
    {
     "data": {
      "application/vnd.jupyter.widget-view+json": {
       "model_id": "f7a40e3962eb4df699944b9c2d68fb4d",
       "version_major": 2,
       "version_minor": 0
      },
      "text/plain": [
       "Iteration T: 2:   0%|          | 0/10903 [00:00<?, ?it/s]"
      ]
     },
     "metadata": {},
     "output_type": "display_data"
    },
    {
     "data": {
      "application/vnd.jupyter.widget-view+json": {
       "model_id": "f92068f5ba584b0c970fc2e367c6278b",
       "version_major": 2,
       "version_minor": 0
      },
      "text/plain": [
       "Iteration T: 3:   0%|          | 0/10903 [00:00<?, ?it/s]"
      ]
     },
     "metadata": {},
     "output_type": "display_data"
    },
    {
     "data": {
      "application/vnd.jupyter.widget-view+json": {
       "model_id": "e19e62764e034e9f9c4821901cde5dff",
       "version_major": 2,
       "version_minor": 0
      },
      "text/plain": [
       "Iteration T: 4:   0%|          | 0/10903 [00:00<?, ?it/s]"
      ]
     },
     "metadata": {},
     "output_type": "display_data"
    },
    {
     "data": {
      "application/vnd.jupyter.widget-view+json": {
       "model_id": "8d13f3781e9944ac9a115a505537c0fb",
       "version_major": 2,
       "version_minor": 0
      },
      "text/plain": [
       "Iteration T: 5:   0%|          | 0/10903 [00:00<?, ?it/s]"
      ]
     },
     "metadata": {},
     "output_type": "display_data"
    },
    {
     "data": {
      "application/vnd.jupyter.widget-view+json": {
       "model_id": "8f5b6bc41b88484b9d4bc98498c9c3e5",
       "version_major": 2,
       "version_minor": 0
      },
      "text/plain": [
       "Iteration T: 6:   0%|          | 0/10903 [00:00<?, ?it/s]"
      ]
     },
     "metadata": {},
     "output_type": "display_data"
    },
    {
     "data": {
      "application/vnd.jupyter.widget-view+json": {
       "model_id": "c2cf1735518b4e349dfeaf67415e3b96",
       "version_major": 2,
       "version_minor": 0
      },
      "text/plain": [
       "Iteration T: 7:   0%|          | 0/10903 [00:00<?, ?it/s]"
      ]
     },
     "metadata": {},
     "output_type": "display_data"
    },
    {
     "data": {
      "application/vnd.jupyter.widget-view+json": {
       "model_id": "214270a9d00445429315e9ca45b59cd8",
       "version_major": 2,
       "version_minor": 0
      },
      "text/plain": [
       "Iteration T: 8:   0%|          | 0/10903 [00:00<?, ?it/s]"
      ]
     },
     "metadata": {},
     "output_type": "display_data"
    },
    {
     "data": {
      "application/vnd.jupyter.widget-view+json": {
       "model_id": "b7228d4498e247fcb5dbdb78819ca890",
       "version_major": 2,
       "version_minor": 0
      },
      "text/plain": [
       "Iteration T: 9:   0%|          | 0/10903 [00:00<?, ?it/s]"
      ]
     },
     "metadata": {},
     "output_type": "display_data"
    },
    {
     "data": {
      "application/vnd.jupyter.widget-view+json": {
       "model_id": "9cbd44da99ce4d74978f652990f1c52f",
       "version_major": 2,
       "version_minor": 0
      },
      "text/plain": [
       "Iteration T: 0:   0%|          | 0/10903 [00:00<?, ?it/s]"
      ]
     },
     "metadata": {},
     "output_type": "display_data"
    },
    {
     "data": {
      "application/vnd.jupyter.widget-view+json": {
       "model_id": "9a37d94ab14d46d5a972c3fcf91736c0",
       "version_major": 2,
       "version_minor": 0
      },
      "text/plain": [
       "Iteration T: 1:   0%|          | 0/10903 [00:00<?, ?it/s]"
      ]
     },
     "metadata": {},
     "output_type": "display_data"
    },
    {
     "data": {
      "application/vnd.jupyter.widget-view+json": {
       "model_id": "ec985d09b918422c943d19c042cfbeff",
       "version_major": 2,
       "version_minor": 0
      },
      "text/plain": [
       "Iteration T: 2:   0%|          | 0/10903 [00:00<?, ?it/s]"
      ]
     },
     "metadata": {},
     "output_type": "display_data"
    },
    {
     "data": {
      "application/vnd.jupyter.widget-view+json": {
       "model_id": "c3c9a81d5565468ab2b636628ae37d7e",
       "version_major": 2,
       "version_minor": 0
      },
      "text/plain": [
       "Iteration T: 3:   0%|          | 0/10903 [00:00<?, ?it/s]"
      ]
     },
     "metadata": {},
     "output_type": "display_data"
    },
    {
     "data": {
      "application/vnd.jupyter.widget-view+json": {
       "model_id": "c58425bace394a9b9df2706d8c797a20",
       "version_major": 2,
       "version_minor": 0
      },
      "text/plain": [
       "Iteration T: 4:   0%|          | 0/10903 [00:00<?, ?it/s]"
      ]
     },
     "metadata": {},
     "output_type": "display_data"
    },
    {
     "data": {
      "application/vnd.jupyter.widget-view+json": {
       "model_id": "a93586ef90154f19b537b08aadf24988",
       "version_major": 2,
       "version_minor": 0
      },
      "text/plain": [
       "Iteration T: 5:   0%|          | 0/10903 [00:00<?, ?it/s]"
      ]
     },
     "metadata": {},
     "output_type": "display_data"
    },
    {
     "data": {
      "application/vnd.jupyter.widget-view+json": {
       "model_id": "fb67b503df7848f98f6398708100e6ae",
       "version_major": 2,
       "version_minor": 0
      },
      "text/plain": [
       "Iteration T: 6:   0%|          | 0/10903 [00:00<?, ?it/s]"
      ]
     },
     "metadata": {},
     "output_type": "display_data"
    },
    {
     "data": {
      "application/vnd.jupyter.widget-view+json": {
       "model_id": "12a13c38cc164eb5bd35c2f5c599d269",
       "version_major": 2,
       "version_minor": 0
      },
      "text/plain": [
       "Iteration T: 7:   0%|          | 0/10903 [00:00<?, ?it/s]"
      ]
     },
     "metadata": {},
     "output_type": "display_data"
    },
    {
     "data": {
      "application/vnd.jupyter.widget-view+json": {
       "model_id": "0485bf82ed0d426f820d3f2f8a1c7e28",
       "version_major": 2,
       "version_minor": 0
      },
      "text/plain": [
       "Iteration T: 8:   0%|          | 0/10903 [00:00<?, ?it/s]"
      ]
     },
     "metadata": {},
     "output_type": "display_data"
    },
    {
     "data": {
      "application/vnd.jupyter.widget-view+json": {
       "model_id": "1e3c8cd508084eefab318cead1e1083b",
       "version_major": 2,
       "version_minor": 0
      },
      "text/plain": [
       "Iteration T: 9:   0%|          | 0/10903 [00:00<?, ?it/s]"
      ]
     },
     "metadata": {},
     "output_type": "display_data"
    },
    {
     "data": {
      "application/vnd.jupyter.widget-view+json": {
       "model_id": "110ee5f89b7d4662942688ebb1df0ba7",
       "version_major": 2,
       "version_minor": 0
      },
      "text/plain": [
       "Iteration T: 10:   0%|          | 0/10903 [00:00<?, ?it/s]"
      ]
     },
     "metadata": {},
     "output_type": "display_data"
    },
    {
     "data": {
      "application/vnd.jupyter.widget-view+json": {
       "model_id": "b0d64d9751474eb286614683cb34d870",
       "version_major": 2,
       "version_minor": 0
      },
      "text/plain": [
       "Iteration T: 11:   0%|          | 0/10903 [00:00<?, ?it/s]"
      ]
     },
     "metadata": {},
     "output_type": "display_data"
    },
    {
     "data": {
      "application/vnd.jupyter.widget-view+json": {
       "model_id": "9d6e3f27e2824efda331e2e5f755d85b",
       "version_major": 2,
       "version_minor": 0
      },
      "text/plain": [
       "Iteration T: 12:   0%|          | 0/10903 [00:00<?, ?it/s]"
      ]
     },
     "metadata": {},
     "output_type": "display_data"
    },
    {
     "data": {
      "application/vnd.jupyter.widget-view+json": {
       "model_id": "9a42e27dd5f64742a7db56757fc4a61d",
       "version_major": 2,
       "version_minor": 0
      },
      "text/plain": [
       "Iteration T: 13:   0%|          | 0/10903 [00:00<?, ?it/s]"
      ]
     },
     "metadata": {},
     "output_type": "display_data"
    },
    {
     "data": {
      "application/vnd.jupyter.widget-view+json": {
       "model_id": "b795755dd81e4a1a9ab084d3bb16c75d",
       "version_major": 2,
       "version_minor": 0
      },
      "text/plain": [
       "Iteration T: 14:   0%|          | 0/10903 [00:00<?, ?it/s]"
      ]
     },
     "metadata": {},
     "output_type": "display_data"
    },
    {
     "data": {
      "application/vnd.jupyter.widget-view+json": {
       "model_id": "c669245ad6c147f9a47ff6c43c95ad10",
       "version_major": 2,
       "version_minor": 0
      },
      "text/plain": [
       "Iteration T: 0:   0%|          | 0/10903 [00:00<?, ?it/s]"
      ]
     },
     "metadata": {},
     "output_type": "display_data"
    },
    {
     "data": {
      "application/vnd.jupyter.widget-view+json": {
       "model_id": "7bd55238bde64def881f62006a11fd46",
       "version_major": 2,
       "version_minor": 0
      },
      "text/plain": [
       "Iteration T: 1:   0%|          | 0/10903 [00:00<?, ?it/s]"
      ]
     },
     "metadata": {},
     "output_type": "display_data"
    },
    {
     "data": {
      "application/vnd.jupyter.widget-view+json": {
       "model_id": "2f461c2709a64edea8d01c97f68c29b6",
       "version_major": 2,
       "version_minor": 0
      },
      "text/plain": [
       "Iteration T: 2:   0%|          | 0/10903 [00:00<?, ?it/s]"
      ]
     },
     "metadata": {},
     "output_type": "display_data"
    },
    {
     "data": {
      "application/vnd.jupyter.widget-view+json": {
       "model_id": "1df2222311a741c4b824b8e86c2060e3",
       "version_major": 2,
       "version_minor": 0
      },
      "text/plain": [
       "Iteration T: 3:   0%|          | 0/10903 [00:00<?, ?it/s]"
      ]
     },
     "metadata": {},
     "output_type": "display_data"
    },
    {
     "data": {
      "application/vnd.jupyter.widget-view+json": {
       "model_id": "8b5862a842d44d83867e748b118c75c9",
       "version_major": 2,
       "version_minor": 0
      },
      "text/plain": [
       "Iteration T: 4:   0%|          | 0/10903 [00:00<?, ?it/s]"
      ]
     },
     "metadata": {},
     "output_type": "display_data"
    },
    {
     "data": {
      "application/vnd.jupyter.widget-view+json": {
       "model_id": "f561fa22fcf24f8e9fe30ac7c73bafda",
       "version_major": 2,
       "version_minor": 0
      },
      "text/plain": [
       "Iteration T: 5:   0%|          | 0/10903 [00:00<?, ?it/s]"
      ]
     },
     "metadata": {},
     "output_type": "display_data"
    },
    {
     "data": {
      "application/vnd.jupyter.widget-view+json": {
       "model_id": "ed23478a802e42d9a3f5f636243095e1",
       "version_major": 2,
       "version_minor": 0
      },
      "text/plain": [
       "Iteration T: 6:   0%|          | 0/10903 [00:00<?, ?it/s]"
      ]
     },
     "metadata": {},
     "output_type": "display_data"
    },
    {
     "data": {
      "application/vnd.jupyter.widget-view+json": {
       "model_id": "34c1a3495ef242f38d1631a386918497",
       "version_major": 2,
       "version_minor": 0
      },
      "text/plain": [
       "Iteration T: 7:   0%|          | 0/10903 [00:00<?, ?it/s]"
      ]
     },
     "metadata": {},
     "output_type": "display_data"
    },
    {
     "data": {
      "application/vnd.jupyter.widget-view+json": {
       "model_id": "15e85c3c08b948499d06151cbac7f26a",
       "version_major": 2,
       "version_minor": 0
      },
      "text/plain": [
       "Iteration T: 8:   0%|          | 0/10903 [00:00<?, ?it/s]"
      ]
     },
     "metadata": {},
     "output_type": "display_data"
    },
    {
     "data": {
      "application/vnd.jupyter.widget-view+json": {
       "model_id": "f0cf2a7a8e314710863773ec69f00bf9",
       "version_major": 2,
       "version_minor": 0
      },
      "text/plain": [
       "Iteration T: 9:   0%|          | 0/10903 [00:00<?, ?it/s]"
      ]
     },
     "metadata": {},
     "output_type": "display_data"
    },
    {
     "data": {
      "application/vnd.jupyter.widget-view+json": {
       "model_id": "dd99944faa0d438db0403e2fed9ca7dd",
       "version_major": 2,
       "version_minor": 0
      },
      "text/plain": [
       "Iteration T: 10:   0%|          | 0/10903 [00:00<?, ?it/s]"
      ]
     },
     "metadata": {},
     "output_type": "display_data"
    },
    {
     "data": {
      "application/vnd.jupyter.widget-view+json": {
       "model_id": "ee9596c680414a32aa30549ae6c7fd02",
       "version_major": 2,
       "version_minor": 0
      },
      "text/plain": [
       "Iteration T: 11:   0%|          | 0/10903 [00:00<?, ?it/s]"
      ]
     },
     "metadata": {},
     "output_type": "display_data"
    },
    {
     "data": {
      "application/vnd.jupyter.widget-view+json": {
       "model_id": "7d1ec8f9f6c24e5c85020ff5117a8d2e",
       "version_major": 2,
       "version_minor": 0
      },
      "text/plain": [
       "Iteration T: 12:   0%|          | 0/10903 [00:00<?, ?it/s]"
      ]
     },
     "metadata": {},
     "output_type": "display_data"
    },
    {
     "data": {
      "application/vnd.jupyter.widget-view+json": {
       "model_id": "643fd7159f3c49c8833f7942ae1e984c",
       "version_major": 2,
       "version_minor": 0
      },
      "text/plain": [
       "Iteration T: 13:   0%|          | 0/10903 [00:00<?, ?it/s]"
      ]
     },
     "metadata": {},
     "output_type": "display_data"
    },
    {
     "data": {
      "application/vnd.jupyter.widget-view+json": {
       "model_id": "368976914e584cbdb145115e089cfb8a",
       "version_major": 2,
       "version_minor": 0
      },
      "text/plain": [
       "Iteration T: 14:   0%|          | 0/10903 [00:00<?, ?it/s]"
      ]
     },
     "metadata": {},
     "output_type": "display_data"
    },
    {
     "data": {
      "application/vnd.jupyter.widget-view+json": {
       "model_id": "d4688013dc844036a94957ba03cea8bc",
       "version_major": 2,
       "version_minor": 0
      },
      "text/plain": [
       "Iteration T: 15:   0%|          | 0/10903 [00:00<?, ?it/s]"
      ]
     },
     "metadata": {},
     "output_type": "display_data"
    },
    {
     "data": {
      "application/vnd.jupyter.widget-view+json": {
       "model_id": "a6b9a12614554b77b135a6d704b708c7",
       "version_major": 2,
       "version_minor": 0
      },
      "text/plain": [
       "Iteration T: 16:   0%|          | 0/10903 [00:00<?, ?it/s]"
      ]
     },
     "metadata": {},
     "output_type": "display_data"
    },
    {
     "data": {
      "application/vnd.jupyter.widget-view+json": {
       "model_id": "602f51eec89e468dbbd7139aad0602d0",
       "version_major": 2,
       "version_minor": 0
      },
      "text/plain": [
       "Iteration T: 17:   0%|          | 0/10903 [00:00<?, ?it/s]"
      ]
     },
     "metadata": {},
     "output_type": "display_data"
    },
    {
     "data": {
      "application/vnd.jupyter.widget-view+json": {
       "model_id": "4120affe10884822905a3de0d4f415a3",
       "version_major": 2,
       "version_minor": 0
      },
      "text/plain": [
       "Iteration T: 18:   0%|          | 0/10903 [00:00<?, ?it/s]"
      ]
     },
     "metadata": {},
     "output_type": "display_data"
    },
    {
     "data": {
      "application/vnd.jupyter.widget-view+json": {
       "model_id": "ede77de9eb6148559d4d0e1738847e49",
       "version_major": 2,
       "version_minor": 0
      },
      "text/plain": [
       "Iteration T: 19:   0%|          | 0/10903 [00:00<?, ?it/s]"
      ]
     },
     "metadata": {},
     "output_type": "display_data"
    },
    {
     "data": {
      "application/vnd.jupyter.widget-view+json": {
       "model_id": "6e58910cdebf42409f59923020dd1fb9",
       "version_major": 2,
       "version_minor": 0
      },
      "text/plain": [
       "Iteration T: 20:   0%|          | 0/10903 [00:00<?, ?it/s]"
      ]
     },
     "metadata": {},
     "output_type": "display_data"
    },
    {
     "data": {
      "application/vnd.jupyter.widget-view+json": {
       "model_id": "3366e535b2d44186bf12d003387b38f0",
       "version_major": 2,
       "version_minor": 0
      },
      "text/plain": [
       "Iteration T: 21:   0%|          | 0/10903 [00:00<?, ?it/s]"
      ]
     },
     "metadata": {},
     "output_type": "display_data"
    },
    {
     "data": {
      "application/vnd.jupyter.widget-view+json": {
       "model_id": "001ece2bb2124e9192c6ef3b34ed44f9",
       "version_major": 2,
       "version_minor": 0
      },
      "text/plain": [
       "Iteration T: 22:   0%|          | 0/10903 [00:00<?, ?it/s]"
      ]
     },
     "metadata": {},
     "output_type": "display_data"
    },
    {
     "data": {
      "application/vnd.jupyter.widget-view+json": {
       "model_id": "ce369d1e250e4e32b898f69a1cd7a4c5",
       "version_major": 2,
       "version_minor": 0
      },
      "text/plain": [
       "Iteration T: 23:   0%|          | 0/10903 [00:00<?, ?it/s]"
      ]
     },
     "metadata": {},
     "output_type": "display_data"
    },
    {
     "data": {
      "application/vnd.jupyter.widget-view+json": {
       "model_id": "82686e7f264c4c8ca25273de21107cd7",
       "version_major": 2,
       "version_minor": 0
      },
      "text/plain": [
       "Iteration T: 24:   0%|          | 0/10903 [00:00<?, ?it/s]"
      ]
     },
     "metadata": {},
     "output_type": "display_data"
    },
    {
     "data": {
      "application/vnd.jupyter.widget-view+json": {
       "model_id": "0f833d695fc44c64ac34887ebae547f3",
       "version_major": 2,
       "version_minor": 0
      },
      "text/plain": [
       "Iteration T: 0:   0%|          | 0/10903 [00:00<?, ?it/s]"
      ]
     },
     "metadata": {},
     "output_type": "display_data"
    },
    {
     "data": {
      "application/vnd.jupyter.widget-view+json": {
       "model_id": "ba3fb3158476424e993ea93ab9f8b11f",
       "version_major": 2,
       "version_minor": 0
      },
      "text/plain": [
       "Iteration T: 1:   0%|          | 0/10903 [00:00<?, ?it/s]"
      ]
     },
     "metadata": {},
     "output_type": "display_data"
    },
    {
     "data": {
      "application/vnd.jupyter.widget-view+json": {
       "model_id": "1b736dafadd540c7b164e40a46a823eb",
       "version_major": 2,
       "version_minor": 0
      },
      "text/plain": [
       "Iteration T: 2:   0%|          | 0/10903 [00:00<?, ?it/s]"
      ]
     },
     "metadata": {},
     "output_type": "display_data"
    },
    {
     "data": {
      "application/vnd.jupyter.widget-view+json": {
       "model_id": "c894e166b2e74e2ea41ec7003dba2599",
       "version_major": 2,
       "version_minor": 0
      },
      "text/plain": [
       "Iteration T: 3:   0%|          | 0/10903 [00:00<?, ?it/s]"
      ]
     },
     "metadata": {},
     "output_type": "display_data"
    },
    {
     "data": {
      "application/vnd.jupyter.widget-view+json": {
       "model_id": "8fdc0c56593548efa2465d79e5e014dc",
       "version_major": 2,
       "version_minor": 0
      },
      "text/plain": [
       "Iteration T: 4:   0%|          | 0/10903 [00:00<?, ?it/s]"
      ]
     },
     "metadata": {},
     "output_type": "display_data"
    },
    {
     "data": {
      "application/vnd.jupyter.widget-view+json": {
       "model_id": "ae60d93936fe40c688a887b2fd71d167",
       "version_major": 2,
       "version_minor": 0
      },
      "text/plain": [
       "Iteration T: 5:   0%|          | 0/10903 [00:00<?, ?it/s]"
      ]
     },
     "metadata": {},
     "output_type": "display_data"
    },
    {
     "data": {
      "application/vnd.jupyter.widget-view+json": {
       "model_id": "50eef842e4cc4dac8705549ecc372d9c",
       "version_major": 2,
       "version_minor": 0
      },
      "text/plain": [
       "Iteration T: 6:   0%|          | 0/10903 [00:00<?, ?it/s]"
      ]
     },
     "metadata": {},
     "output_type": "display_data"
    },
    {
     "data": {
      "application/vnd.jupyter.widget-view+json": {
       "model_id": "37cfa46807f34175b1e23a9ad741bff7",
       "version_major": 2,
       "version_minor": 0
      },
      "text/plain": [
       "Iteration T: 7:   0%|          | 0/10903 [00:00<?, ?it/s]"
      ]
     },
     "metadata": {},
     "output_type": "display_data"
    },
    {
     "data": {
      "application/vnd.jupyter.widget-view+json": {
       "model_id": "e2e45e615c334fe59503d6238eb2383d",
       "version_major": 2,
       "version_minor": 0
      },
      "text/plain": [
       "Iteration T: 8:   0%|          | 0/10903 [00:00<?, ?it/s]"
      ]
     },
     "metadata": {},
     "output_type": "display_data"
    },
    {
     "data": {
      "application/vnd.jupyter.widget-view+json": {
       "model_id": "466fab06d9a34538b4fe576368dd6086",
       "version_major": 2,
       "version_minor": 0
      },
      "text/plain": [
       "Iteration T: 9:   0%|          | 0/10903 [00:00<?, ?it/s]"
      ]
     },
     "metadata": {},
     "output_type": "display_data"
    },
    {
     "data": {
      "application/vnd.jupyter.widget-view+json": {
       "model_id": "c23fea96990e44668e462be09c4ac1f3",
       "version_major": 2,
       "version_minor": 0
      },
      "text/plain": [
       "Iteration T: 10:   0%|          | 0/10903 [00:00<?, ?it/s]"
      ]
     },
     "metadata": {},
     "output_type": "display_data"
    },
    {
     "data": {
      "application/vnd.jupyter.widget-view+json": {
       "model_id": "3be9ab3653f0419fb969d811511ae712",
       "version_major": 2,
       "version_minor": 0
      },
      "text/plain": [
       "Iteration T: 11:   0%|          | 0/10903 [00:00<?, ?it/s]"
      ]
     },
     "metadata": {},
     "output_type": "display_data"
    },
    {
     "data": {
      "application/vnd.jupyter.widget-view+json": {
       "model_id": "78756cced62640ffbd18304a33af8237",
       "version_major": 2,
       "version_minor": 0
      },
      "text/plain": [
       "Iteration T: 12:   0%|          | 0/10903 [00:00<?, ?it/s]"
      ]
     },
     "metadata": {},
     "output_type": "display_data"
    },
    {
     "data": {
      "application/vnd.jupyter.widget-view+json": {
       "model_id": "97ddb336fec94a8194d65039dcd93ac4",
       "version_major": 2,
       "version_minor": 0
      },
      "text/plain": [
       "Iteration T: 13:   0%|          | 0/10903 [00:00<?, ?it/s]"
      ]
     },
     "metadata": {},
     "output_type": "display_data"
    },
    {
     "data": {
      "application/vnd.jupyter.widget-view+json": {
       "model_id": "feda7ca94014494498d02cede14b37e2",
       "version_major": 2,
       "version_minor": 0
      },
      "text/plain": [
       "Iteration T: 14:   0%|          | 0/10903 [00:00<?, ?it/s]"
      ]
     },
     "metadata": {},
     "output_type": "display_data"
    },
    {
     "data": {
      "application/vnd.jupyter.widget-view+json": {
       "model_id": "ebc2f59aab40404482490f388bd3481c",
       "version_major": 2,
       "version_minor": 0
      },
      "text/plain": [
       "Iteration T: 15:   0%|          | 0/10903 [00:00<?, ?it/s]"
      ]
     },
     "metadata": {},
     "output_type": "display_data"
    },
    {
     "data": {
      "application/vnd.jupyter.widget-view+json": {
       "model_id": "ebc2108c684e4685a0098c5bc42372ae",
       "version_major": 2,
       "version_minor": 0
      },
      "text/plain": [
       "Iteration T: 16:   0%|          | 0/10903 [00:00<?, ?it/s]"
      ]
     },
     "metadata": {},
     "output_type": "display_data"
    },
    {
     "data": {
      "application/vnd.jupyter.widget-view+json": {
       "model_id": "6bad512633304e8bbec64cfa4b1aa3c4",
       "version_major": 2,
       "version_minor": 0
      },
      "text/plain": [
       "Iteration T: 17:   0%|          | 0/10903 [00:00<?, ?it/s]"
      ]
     },
     "metadata": {},
     "output_type": "display_data"
    },
    {
     "data": {
      "application/vnd.jupyter.widget-view+json": {
       "model_id": "bc31aa58437d4667aee35d4ae160531d",
       "version_major": 2,
       "version_minor": 0
      },
      "text/plain": [
       "Iteration T: 18:   0%|          | 0/10903 [00:00<?, ?it/s]"
      ]
     },
     "metadata": {},
     "output_type": "display_data"
    },
    {
     "data": {
      "application/vnd.jupyter.widget-view+json": {
       "model_id": "6b3d6892a7f44d5b8cacea12f89967d1",
       "version_major": 2,
       "version_minor": 0
      },
      "text/plain": [
       "Iteration T: 19:   0%|          | 0/10903 [00:00<?, ?it/s]"
      ]
     },
     "metadata": {},
     "output_type": "display_data"
    },
    {
     "data": {
      "application/vnd.jupyter.widget-view+json": {
       "model_id": "09ce0c19d1464557b0cadc6454aee15c",
       "version_major": 2,
       "version_minor": 0
      },
      "text/plain": [
       "Iteration T: 20:   0%|          | 0/10903 [00:00<?, ?it/s]"
      ]
     },
     "metadata": {},
     "output_type": "display_data"
    },
    {
     "data": {
      "application/vnd.jupyter.widget-view+json": {
       "model_id": "13eb9e89978b474783d0b81aecf0676b",
       "version_major": 2,
       "version_minor": 0
      },
      "text/plain": [
       "Iteration T: 21:   0%|          | 0/10903 [00:00<?, ?it/s]"
      ]
     },
     "metadata": {},
     "output_type": "display_data"
    },
    {
     "data": {
      "application/vnd.jupyter.widget-view+json": {
       "model_id": "93e168d51d1d4a0785967e9c08907012",
       "version_major": 2,
       "version_minor": 0
      },
      "text/plain": [
       "Iteration T: 22:   0%|          | 0/10903 [00:00<?, ?it/s]"
      ]
     },
     "metadata": {},
     "output_type": "display_data"
    },
    {
     "data": {
      "application/vnd.jupyter.widget-view+json": {
       "model_id": "90baf55627834aaca9a68f9f54696118",
       "version_major": 2,
       "version_minor": 0
      },
      "text/plain": [
       "Iteration T: 23:   0%|          | 0/10903 [00:00<?, ?it/s]"
      ]
     },
     "metadata": {},
     "output_type": "display_data"
    },
    {
     "data": {
      "application/vnd.jupyter.widget-view+json": {
       "model_id": "8506838a7ca74677bff245010f99d79b",
       "version_major": 2,
       "version_minor": 0
      },
      "text/plain": [
       "Iteration T: 24:   0%|          | 0/10903 [00:00<?, ?it/s]"
      ]
     },
     "metadata": {},
     "output_type": "display_data"
    },
    {
     "data": {
      "application/vnd.jupyter.widget-view+json": {
       "model_id": "a370b67d1ce34da3b9febb8f479703d5",
       "version_major": 2,
       "version_minor": 0
      },
      "text/plain": [
       "Iteration T: 25:   0%|          | 0/10903 [00:00<?, ?it/s]"
      ]
     },
     "metadata": {},
     "output_type": "display_data"
    },
    {
     "data": {
      "application/vnd.jupyter.widget-view+json": {
       "model_id": "cf6a53d634c4469295c8ca353a4644a0",
       "version_major": 2,
       "version_minor": 0
      },
      "text/plain": [
       "Iteration T: 26:   0%|          | 0/10903 [00:00<?, ?it/s]"
      ]
     },
     "metadata": {},
     "output_type": "display_data"
    },
    {
     "data": {
      "application/vnd.jupyter.widget-view+json": {
       "model_id": "ced4cef753494f1f9c7aa39b76f1dc64",
       "version_major": 2,
       "version_minor": 0
      },
      "text/plain": [
       "Iteration T: 27:   0%|          | 0/10903 [00:00<?, ?it/s]"
      ]
     },
     "metadata": {},
     "output_type": "display_data"
    },
    {
     "data": {
      "application/vnd.jupyter.widget-view+json": {
       "model_id": "5156901d213f460e9f4004c9d7a63c5c",
       "version_major": 2,
       "version_minor": 0
      },
      "text/plain": [
       "Iteration T: 28:   0%|          | 0/10903 [00:00<?, ?it/s]"
      ]
     },
     "metadata": {},
     "output_type": "display_data"
    },
    {
     "data": {
      "application/vnd.jupyter.widget-view+json": {
       "model_id": "b4bb69bcbe194550be1212b35b51c909",
       "version_major": 2,
       "version_minor": 0
      },
      "text/plain": [
       "Iteration T: 29:   0%|          | 0/10903 [00:00<?, ?it/s]"
      ]
     },
     "metadata": {},
     "output_type": "display_data"
    },
    {
     "data": {
      "application/vnd.jupyter.widget-view+json": {
       "model_id": "44c9f38077344c5fac0405f33f20a284",
       "version_major": 2,
       "version_minor": 0
      },
      "text/plain": [
       "Iteration T: 30:   0%|          | 0/10903 [00:00<?, ?it/s]"
      ]
     },
     "metadata": {},
     "output_type": "display_data"
    },
    {
     "data": {
      "application/vnd.jupyter.widget-view+json": {
       "model_id": "91dce6b91d4f4f13ad450d2b0ffd0b12",
       "version_major": 2,
       "version_minor": 0
      },
      "text/plain": [
       "Iteration T: 31:   0%|          | 0/10903 [00:00<?, ?it/s]"
      ]
     },
     "metadata": {},
     "output_type": "display_data"
    },
    {
     "data": {
      "application/vnd.jupyter.widget-view+json": {
       "model_id": "ed27bb9d5c094b3b8d1c9c5f722c35d4",
       "version_major": 2,
       "version_minor": 0
      },
      "text/plain": [
       "Iteration T: 32:   0%|          | 0/10903 [00:00<?, ?it/s]"
      ]
     },
     "metadata": {},
     "output_type": "display_data"
    },
    {
     "data": {
      "application/vnd.jupyter.widget-view+json": {
       "model_id": "e9b2a399b93c46858b98bcf6c98b4f20",
       "version_major": 2,
       "version_minor": 0
      },
      "text/plain": [
       "Iteration T: 33:   0%|          | 0/10903 [00:00<?, ?it/s]"
      ]
     },
     "metadata": {},
     "output_type": "display_data"
    },
    {
     "data": {
      "application/vnd.jupyter.widget-view+json": {
       "model_id": "593136dac8304bbbaca852244b3ddad1",
       "version_major": 2,
       "version_minor": 0
      },
      "text/plain": [
       "Iteration T: 34:   0%|          | 0/10903 [00:00<?, ?it/s]"
      ]
     },
     "metadata": {},
     "output_type": "display_data"
    },
    {
     "data": {
      "application/vnd.jupyter.widget-view+json": {
       "model_id": "d847788e5e844ff59079baf17178bf54",
       "version_major": 2,
       "version_minor": 0
      },
      "text/plain": [
       "Iteration T: 35:   0%|          | 0/10903 [00:00<?, ?it/s]"
      ]
     },
     "metadata": {},
     "output_type": "display_data"
    },
    {
     "data": {
      "application/vnd.jupyter.widget-view+json": {
       "model_id": "c135c11fbb774bffbb3116eb95782d36",
       "version_major": 2,
       "version_minor": 0
      },
      "text/plain": [
       "Iteration T: 36:   0%|          | 0/10903 [00:00<?, ?it/s]"
      ]
     },
     "metadata": {},
     "output_type": "display_data"
    },
    {
     "data": {
      "application/vnd.jupyter.widget-view+json": {
       "model_id": "2f165bf6d37a4705937c02c60d290714",
       "version_major": 2,
       "version_minor": 0
      },
      "text/plain": [
       "Iteration T: 37:   0%|          | 0/10903 [00:00<?, ?it/s]"
      ]
     },
     "metadata": {},
     "output_type": "display_data"
    },
    {
     "data": {
      "application/vnd.jupyter.widget-view+json": {
       "model_id": "55072adaac8e483ab5099e0e0cf4832a",
       "version_major": 2,
       "version_minor": 0
      },
      "text/plain": [
       "Iteration T: 38:   0%|          | 0/10903 [00:00<?, ?it/s]"
      ]
     },
     "metadata": {},
     "output_type": "display_data"
    },
    {
     "data": {
      "application/vnd.jupyter.widget-view+json": {
       "model_id": "90128977484a4ea4b212e3360b2d6ec2",
       "version_major": 2,
       "version_minor": 0
      },
      "text/plain": [
       "Iteration T: 39:   0%|          | 0/10903 [00:00<?, ?it/s]"
      ]
     },
     "metadata": {},
     "output_type": "display_data"
    },
    {
     "data": {
      "application/vnd.jupyter.widget-view+json": {
       "model_id": "ce691ab4997247e4976ab35349d63a58",
       "version_major": 2,
       "version_minor": 0
      },
      "text/plain": [
       "Iteration T: 40:   0%|          | 0/10903 [00:00<?, ?it/s]"
      ]
     },
     "metadata": {},
     "output_type": "display_data"
    },
    {
     "data": {
      "application/vnd.jupyter.widget-view+json": {
       "model_id": "d0a42bbe7f8140558e56ec71262c797f",
       "version_major": 2,
       "version_minor": 0
      },
      "text/plain": [
       "Iteration T: 41:   0%|          | 0/10903 [00:00<?, ?it/s]"
      ]
     },
     "metadata": {},
     "output_type": "display_data"
    },
    {
     "data": {
      "application/vnd.jupyter.widget-view+json": {
       "model_id": "fbe94475ac21498da6b47ee5d8d957f8",
       "version_major": 2,
       "version_minor": 0
      },
      "text/plain": [
       "Iteration T: 42:   0%|          | 0/10903 [00:00<?, ?it/s]"
      ]
     },
     "metadata": {},
     "output_type": "display_data"
    },
    {
     "data": {
      "application/vnd.jupyter.widget-view+json": {
       "model_id": "cc5990cacf1446e1a60998169c5c6abf",
       "version_major": 2,
       "version_minor": 0
      },
      "text/plain": [
       "Iteration T: 43:   0%|          | 0/10903 [00:00<?, ?it/s]"
      ]
     },
     "metadata": {},
     "output_type": "display_data"
    },
    {
     "data": {
      "application/vnd.jupyter.widget-view+json": {
       "model_id": "349c1999b35245128ed0ac3a5fd8a07e",
       "version_major": 2,
       "version_minor": 0
      },
      "text/plain": [
       "Iteration T: 44:   0%|          | 0/10903 [00:00<?, ?it/s]"
      ]
     },
     "metadata": {},
     "output_type": "display_data"
    },
    {
     "data": {
      "application/vnd.jupyter.widget-view+json": {
       "model_id": "96db64d20dbf409c8eac67d44af3541b",
       "version_major": 2,
       "version_minor": 0
      },
      "text/plain": [
       "Iteration T: 45:   0%|          | 0/10903 [00:00<?, ?it/s]"
      ]
     },
     "metadata": {},
     "output_type": "display_data"
    },
    {
     "data": {
      "application/vnd.jupyter.widget-view+json": {
       "model_id": "de8ef41b5a3b4adb95f062b78aa1526c",
       "version_major": 2,
       "version_minor": 0
      },
      "text/plain": [
       "Iteration T: 46:   0%|          | 0/10903 [00:00<?, ?it/s]"
      ]
     },
     "metadata": {},
     "output_type": "display_data"
    },
    {
     "data": {
      "application/vnd.jupyter.widget-view+json": {
       "model_id": "3f5691032ca149d5b927073e8999ca4a",
       "version_major": 2,
       "version_minor": 0
      },
      "text/plain": [
       "Iteration T: 47:   0%|          | 0/10903 [00:00<?, ?it/s]"
      ]
     },
     "metadata": {},
     "output_type": "display_data"
    },
    {
     "data": {
      "application/vnd.jupyter.widget-view+json": {
       "model_id": "6f431e0efacd41948ede2b2d70a7ba3d",
       "version_major": 2,
       "version_minor": 0
      },
      "text/plain": [
       "Iteration T: 48:   0%|          | 0/10903 [00:00<?, ?it/s]"
      ]
     },
     "metadata": {},
     "output_type": "display_data"
    },
    {
     "data": {
      "application/vnd.jupyter.widget-view+json": {
       "model_id": "1bb5a3baf20844748ef766f98474f784",
       "version_major": 2,
       "version_minor": 0
      },
      "text/plain": [
       "Iteration T: 49:   0%|          | 0/10903 [00:00<?, ?it/s]"
      ]
     },
     "metadata": {},
     "output_type": "display_data"
    },
    {
     "name": "stdout",
     "output_type": "stream",
     "text": [
      "Pegasos valid: tune T [(1, 0.8998348926802422), (5, 0.9003852504127683), (10, 0.8987341772151899), (15, 0.8940561364887176), (25, 0.9036873968079252), (50, 0.9058888277380297)]\n",
      "best = 0.9059, T=50.0000\n"
     ]
    },
    {
     "data": {
      "application/vnd.jupyter.widget-view+json": {
       "model_id": "ac35a62ca2e141789719cfdfb3b5ead6",
       "version_major": 2,
       "version_minor": 0
      },
      "text/plain": [
       "Iteration T: 0:   0%|          | 0/10903 [00:00<?, ?it/s]"
      ]
     },
     "metadata": {},
     "output_type": "display_data"
    },
    {
     "data": {
      "application/vnd.jupyter.widget-view+json": {
       "model_id": "e5bf8ff66ae2435aa41943c9744e9af9",
       "version_major": 2,
       "version_minor": 0
      },
      "text/plain": [
       "Iteration T: 1:   0%|          | 0/10903 [00:00<?, ?it/s]"
      ]
     },
     "metadata": {},
     "output_type": "display_data"
    },
    {
     "data": {
      "application/vnd.jupyter.widget-view+json": {
       "model_id": "e16aac81278f49b194b30b29e0372d2a",
       "version_major": 2,
       "version_minor": 0
      },
      "text/plain": [
       "Iteration T: 2:   0%|          | 0/10903 [00:00<?, ?it/s]"
      ]
     },
     "metadata": {},
     "output_type": "display_data"
    },
    {
     "data": {
      "application/vnd.jupyter.widget-view+json": {
       "model_id": "81944deb17fd402f8c64ca1785d47840",
       "version_major": 2,
       "version_minor": 0
      },
      "text/plain": [
       "Iteration T: 3:   0%|          | 0/10903 [00:00<?, ?it/s]"
      ]
     },
     "metadata": {},
     "output_type": "display_data"
    },
    {
     "data": {
      "application/vnd.jupyter.widget-view+json": {
       "model_id": "c464be19de6a4f4280120b80b1a02e62",
       "version_major": 2,
       "version_minor": 0
      },
      "text/plain": [
       "Iteration T: 4:   0%|          | 0/10903 [00:00<?, ?it/s]"
      ]
     },
     "metadata": {},
     "output_type": "display_data"
    },
    {
     "data": {
      "application/vnd.jupyter.widget-view+json": {
       "model_id": "f7b2ef2b03d44dda8b644e24e6068f24",
       "version_major": 2,
       "version_minor": 0
      },
      "text/plain": [
       "Iteration T: 5:   0%|          | 0/10903 [00:00<?, ?it/s]"
      ]
     },
     "metadata": {},
     "output_type": "display_data"
    },
    {
     "data": {
      "application/vnd.jupyter.widget-view+json": {
       "model_id": "d56c4720e39a424eaec2faf014ee8521",
       "version_major": 2,
       "version_minor": 0
      },
      "text/plain": [
       "Iteration T: 6:   0%|          | 0/10903 [00:00<?, ?it/s]"
      ]
     },
     "metadata": {},
     "output_type": "display_data"
    },
    {
     "data": {
      "application/vnd.jupyter.widget-view+json": {
       "model_id": "b04d0f6f248e4afab1c48c699e35ba0f",
       "version_major": 2,
       "version_minor": 0
      },
      "text/plain": [
       "Iteration T: 7:   0%|          | 0/10903 [00:00<?, ?it/s]"
      ]
     },
     "metadata": {},
     "output_type": "display_data"
    },
    {
     "data": {
      "application/vnd.jupyter.widget-view+json": {
       "model_id": "710ab82fc7734c1197f6a2dda6362d7a",
       "version_major": 2,
       "version_minor": 0
      },
      "text/plain": [
       "Iteration T: 8:   0%|          | 0/10903 [00:00<?, ?it/s]"
      ]
     },
     "metadata": {},
     "output_type": "display_data"
    },
    {
     "data": {
      "application/vnd.jupyter.widget-view+json": {
       "model_id": "8dd420eef8ca491090cf2c90b49e2619",
       "version_major": 2,
       "version_minor": 0
      },
      "text/plain": [
       "Iteration T: 9:   0%|          | 0/10903 [00:00<?, ?it/s]"
      ]
     },
     "metadata": {},
     "output_type": "display_data"
    },
    {
     "data": {
      "application/vnd.jupyter.widget-view+json": {
       "model_id": "18275b52ba2d47efbe3b9612b3fd927e",
       "version_major": 2,
       "version_minor": 0
      },
      "text/plain": [
       "Iteration T: 10:   0%|          | 0/10903 [00:00<?, ?it/s]"
      ]
     },
     "metadata": {},
     "output_type": "display_data"
    },
    {
     "data": {
      "application/vnd.jupyter.widget-view+json": {
       "model_id": "5231c5413fa441cebf2902eea41473f1",
       "version_major": 2,
       "version_minor": 0
      },
      "text/plain": [
       "Iteration T: 11:   0%|          | 0/10903 [00:00<?, ?it/s]"
      ]
     },
     "metadata": {},
     "output_type": "display_data"
    },
    {
     "data": {
      "application/vnd.jupyter.widget-view+json": {
       "model_id": "a7ed85e6f9374c90bafd151420518b08",
       "version_major": 2,
       "version_minor": 0
      },
      "text/plain": [
       "Iteration T: 12:   0%|          | 0/10903 [00:00<?, ?it/s]"
      ]
     },
     "metadata": {},
     "output_type": "display_data"
    },
    {
     "data": {
      "application/vnd.jupyter.widget-view+json": {
       "model_id": "33e0de78c09d4b769fb6553268bbc3fe",
       "version_major": 2,
       "version_minor": 0
      },
      "text/plain": [
       "Iteration T: 13:   0%|          | 0/10903 [00:00<?, ?it/s]"
      ]
     },
     "metadata": {},
     "output_type": "display_data"
    },
    {
     "data": {
      "application/vnd.jupyter.widget-view+json": {
       "model_id": "0c961e0beec4443b98d3325fab2b8aff",
       "version_major": 2,
       "version_minor": 0
      },
      "text/plain": [
       "Iteration T: 14:   0%|          | 0/10903 [00:00<?, ?it/s]"
      ]
     },
     "metadata": {},
     "output_type": "display_data"
    },
    {
     "data": {
      "application/vnd.jupyter.widget-view+json": {
       "model_id": "ff770af1705f411296eb921bcaeaeffc",
       "version_major": 2,
       "version_minor": 0
      },
      "text/plain": [
       "Iteration T: 15:   0%|          | 0/10903 [00:00<?, ?it/s]"
      ]
     },
     "metadata": {},
     "output_type": "display_data"
    },
    {
     "data": {
      "application/vnd.jupyter.widget-view+json": {
       "model_id": "46dcb1822fcb4ea6a3f1b0c6ceaf0887",
       "version_major": 2,
       "version_minor": 0
      },
      "text/plain": [
       "Iteration T: 16:   0%|          | 0/10903 [00:00<?, ?it/s]"
      ]
     },
     "metadata": {},
     "output_type": "display_data"
    },
    {
     "data": {
      "application/vnd.jupyter.widget-view+json": {
       "model_id": "bdfa8281742c4775830271c9cb835870",
       "version_major": 2,
       "version_minor": 0
      },
      "text/plain": [
       "Iteration T: 17:   0%|          | 0/10903 [00:00<?, ?it/s]"
      ]
     },
     "metadata": {},
     "output_type": "display_data"
    },
    {
     "data": {
      "application/vnd.jupyter.widget-view+json": {
       "model_id": "e346eb457a2445cbb68432e48a2f8bd8",
       "version_major": 2,
       "version_minor": 0
      },
      "text/plain": [
       "Iteration T: 18:   0%|          | 0/10903 [00:00<?, ?it/s]"
      ]
     },
     "metadata": {},
     "output_type": "display_data"
    },
    {
     "data": {
      "application/vnd.jupyter.widget-view+json": {
       "model_id": "1a946030e2984b97964066a4e3c1cfdf",
       "version_major": 2,
       "version_minor": 0
      },
      "text/plain": [
       "Iteration T: 19:   0%|          | 0/10903 [00:00<?, ?it/s]"
      ]
     },
     "metadata": {},
     "output_type": "display_data"
    },
    {
     "data": {
      "application/vnd.jupyter.widget-view+json": {
       "model_id": "81845bd073db43c39fc4de1b3803737e",
       "version_major": 2,
       "version_minor": 0
      },
      "text/plain": [
       "Iteration T: 20:   0%|          | 0/10903 [00:00<?, ?it/s]"
      ]
     },
     "metadata": {},
     "output_type": "display_data"
    },
    {
     "data": {
      "application/vnd.jupyter.widget-view+json": {
       "model_id": "62468f17c951401aa4dfb02c7e40f192",
       "version_major": 2,
       "version_minor": 0
      },
      "text/plain": [
       "Iteration T: 21:   0%|          | 0/10903 [00:00<?, ?it/s]"
      ]
     },
     "metadata": {},
     "output_type": "display_data"
    },
    {
     "data": {
      "application/vnd.jupyter.widget-view+json": {
       "model_id": "178d677622d84681b0d6971ca25f37af",
       "version_major": 2,
       "version_minor": 0
      },
      "text/plain": [
       "Iteration T: 22:   0%|          | 0/10903 [00:00<?, ?it/s]"
      ]
     },
     "metadata": {},
     "output_type": "display_data"
    },
    {
     "data": {
      "application/vnd.jupyter.widget-view+json": {
       "model_id": "733c24eabeca4a9a8a8b7cdb0cde58a6",
       "version_major": 2,
       "version_minor": 0
      },
      "text/plain": [
       "Iteration T: 23:   0%|          | 0/10903 [00:00<?, ?it/s]"
      ]
     },
     "metadata": {},
     "output_type": "display_data"
    },
    {
     "data": {
      "application/vnd.jupyter.widget-view+json": {
       "model_id": "6f3e40bc0dc5498d9773c408dacbcd3b",
       "version_major": 2,
       "version_minor": 0
      },
      "text/plain": [
       "Iteration T: 24:   0%|          | 0/10903 [00:00<?, ?it/s]"
      ]
     },
     "metadata": {},
     "output_type": "display_data"
    },
    {
     "data": {
      "application/vnd.jupyter.widget-view+json": {
       "model_id": "46f8f0d2afa645219e760a1a21d98723",
       "version_major": 2,
       "version_minor": 0
      },
      "text/plain": [
       "Iteration T: 25:   0%|          | 0/10903 [00:00<?, ?it/s]"
      ]
     },
     "metadata": {},
     "output_type": "display_data"
    },
    {
     "data": {
      "application/vnd.jupyter.widget-view+json": {
       "model_id": "b7bd7e05075249e7b2b79a9913d14709",
       "version_major": 2,
       "version_minor": 0
      },
      "text/plain": [
       "Iteration T: 26:   0%|          | 0/10903 [00:00<?, ?it/s]"
      ]
     },
     "metadata": {},
     "output_type": "display_data"
    },
    {
     "data": {
      "application/vnd.jupyter.widget-view+json": {
       "model_id": "b0be73550bed468e991f47ea0a9614b2",
       "version_major": 2,
       "version_minor": 0
      },
      "text/plain": [
       "Iteration T: 27:   0%|          | 0/10903 [00:00<?, ?it/s]"
      ]
     },
     "metadata": {},
     "output_type": "display_data"
    },
    {
     "data": {
      "application/vnd.jupyter.widget-view+json": {
       "model_id": "abb4f4dfd0414732b075c9d493a8dc38",
       "version_major": 2,
       "version_minor": 0
      },
      "text/plain": [
       "Iteration T: 28:   0%|          | 0/10903 [00:00<?, ?it/s]"
      ]
     },
     "metadata": {},
     "output_type": "display_data"
    },
    {
     "data": {
      "application/vnd.jupyter.widget-view+json": {
       "model_id": "769272d5c76a4717acd14a1a71748146",
       "version_major": 2,
       "version_minor": 0
      },
      "text/plain": [
       "Iteration T: 29:   0%|          | 0/10903 [00:00<?, ?it/s]"
      ]
     },
     "metadata": {},
     "output_type": "display_data"
    },
    {
     "data": {
      "application/vnd.jupyter.widget-view+json": {
       "model_id": "0b1481abe5844836873a6c12d379454f",
       "version_major": 2,
       "version_minor": 0
      },
      "text/plain": [
       "Iteration T: 30:   0%|          | 0/10903 [00:00<?, ?it/s]"
      ]
     },
     "metadata": {},
     "output_type": "display_data"
    },
    {
     "data": {
      "application/vnd.jupyter.widget-view+json": {
       "model_id": "617a41927fdc4717b6176a2a3cedb9fd",
       "version_major": 2,
       "version_minor": 0
      },
      "text/plain": [
       "Iteration T: 31:   0%|          | 0/10903 [00:00<?, ?it/s]"
      ]
     },
     "metadata": {},
     "output_type": "display_data"
    },
    {
     "data": {
      "application/vnd.jupyter.widget-view+json": {
       "model_id": "363a5cde728943a389a66d677acc1655",
       "version_major": 2,
       "version_minor": 0
      },
      "text/plain": [
       "Iteration T: 32:   0%|          | 0/10903 [00:00<?, ?it/s]"
      ]
     },
     "metadata": {},
     "output_type": "display_data"
    },
    {
     "data": {
      "application/vnd.jupyter.widget-view+json": {
       "model_id": "ad63fedea7db4b1a95f6941bbe32b05d",
       "version_major": 2,
       "version_minor": 0
      },
      "text/plain": [
       "Iteration T: 33:   0%|          | 0/10903 [00:00<?, ?it/s]"
      ]
     },
     "metadata": {},
     "output_type": "display_data"
    },
    {
     "data": {
      "application/vnd.jupyter.widget-view+json": {
       "model_id": "ad34eb23a6b6440ab160f1be165d5d25",
       "version_major": 2,
       "version_minor": 0
      },
      "text/plain": [
       "Iteration T: 34:   0%|          | 0/10903 [00:00<?, ?it/s]"
      ]
     },
     "metadata": {},
     "output_type": "display_data"
    },
    {
     "data": {
      "application/vnd.jupyter.widget-view+json": {
       "model_id": "3582e97a00a84ca0aa1b2a07628b4551",
       "version_major": 2,
       "version_minor": 0
      },
      "text/plain": [
       "Iteration T: 35:   0%|          | 0/10903 [00:00<?, ?it/s]"
      ]
     },
     "metadata": {},
     "output_type": "display_data"
    },
    {
     "data": {
      "application/vnd.jupyter.widget-view+json": {
       "model_id": "6977fc51f1c54eec9343ea40410d716d",
       "version_major": 2,
       "version_minor": 0
      },
      "text/plain": [
       "Iteration T: 36:   0%|          | 0/10903 [00:00<?, ?it/s]"
      ]
     },
     "metadata": {},
     "output_type": "display_data"
    },
    {
     "data": {
      "application/vnd.jupyter.widget-view+json": {
       "model_id": "e7bd4b481ffd40c5aca0d1603fc20fa9",
       "version_major": 2,
       "version_minor": 0
      },
      "text/plain": [
       "Iteration T: 37:   0%|          | 0/10903 [00:00<?, ?it/s]"
      ]
     },
     "metadata": {},
     "output_type": "display_data"
    },
    {
     "data": {
      "application/vnd.jupyter.widget-view+json": {
       "model_id": "566cf9237424448eafd8dbdd8e9584de",
       "version_major": 2,
       "version_minor": 0
      },
      "text/plain": [
       "Iteration T: 38:   0%|          | 0/10903 [00:00<?, ?it/s]"
      ]
     },
     "metadata": {},
     "output_type": "display_data"
    },
    {
     "data": {
      "application/vnd.jupyter.widget-view+json": {
       "model_id": "ffd297af249f427cafd99431f3364356",
       "version_major": 2,
       "version_minor": 0
      },
      "text/plain": [
       "Iteration T: 39:   0%|          | 0/10903 [00:00<?, ?it/s]"
      ]
     },
     "metadata": {},
     "output_type": "display_data"
    },
    {
     "data": {
      "application/vnd.jupyter.widget-view+json": {
       "model_id": "fd353b55aea34db396108e23b6a27635",
       "version_major": 2,
       "version_minor": 0
      },
      "text/plain": [
       "Iteration T: 40:   0%|          | 0/10903 [00:00<?, ?it/s]"
      ]
     },
     "metadata": {},
     "output_type": "display_data"
    },
    {
     "data": {
      "application/vnd.jupyter.widget-view+json": {
       "model_id": "7b2129bfc8a74af08c9d04358be19f4a",
       "version_major": 2,
       "version_minor": 0
      },
      "text/plain": [
       "Iteration T: 41:   0%|          | 0/10903 [00:00<?, ?it/s]"
      ]
     },
     "metadata": {},
     "output_type": "display_data"
    },
    {
     "data": {
      "application/vnd.jupyter.widget-view+json": {
       "model_id": "361dc5d101de4033b5a0f4d682492caf",
       "version_major": 2,
       "version_minor": 0
      },
      "text/plain": [
       "Iteration T: 42:   0%|          | 0/10903 [00:00<?, ?it/s]"
      ]
     },
     "metadata": {},
     "output_type": "display_data"
    },
    {
     "data": {
      "application/vnd.jupyter.widget-view+json": {
       "model_id": "f34ff8d4789f4fb28aa47d1641060c61",
       "version_major": 2,
       "version_minor": 0
      },
      "text/plain": [
       "Iteration T: 43:   0%|          | 0/10903 [00:00<?, ?it/s]"
      ]
     },
     "metadata": {},
     "output_type": "display_data"
    },
    {
     "data": {
      "application/vnd.jupyter.widget-view+json": {
       "model_id": "dc859c1b36a946f3abf7aac3a9fc8f02",
       "version_major": 2,
       "version_minor": 0
      },
      "text/plain": [
       "Iteration T: 44:   0%|          | 0/10903 [00:00<?, ?it/s]"
      ]
     },
     "metadata": {},
     "output_type": "display_data"
    },
    {
     "data": {
      "application/vnd.jupyter.widget-view+json": {
       "model_id": "ccd194fcde954dbeb24d141cef397790",
       "version_major": 2,
       "version_minor": 0
      },
      "text/plain": [
       "Iteration T: 45:   0%|          | 0/10903 [00:00<?, ?it/s]"
      ]
     },
     "metadata": {},
     "output_type": "display_data"
    },
    {
     "data": {
      "application/vnd.jupyter.widget-view+json": {
       "model_id": "11ca280f62c44a10a5dbfe6dc7a7b4b5",
       "version_major": 2,
       "version_minor": 0
      },
      "text/plain": [
       "Iteration T: 46:   0%|          | 0/10903 [00:00<?, ?it/s]"
      ]
     },
     "metadata": {},
     "output_type": "display_data"
    },
    {
     "data": {
      "application/vnd.jupyter.widget-view+json": {
       "model_id": "7697b4703aaa4caa8e3d25283bfe4814",
       "version_major": 2,
       "version_minor": 0
      },
      "text/plain": [
       "Iteration T: 47:   0%|          | 0/10903 [00:00<?, ?it/s]"
      ]
     },
     "metadata": {},
     "output_type": "display_data"
    },
    {
     "data": {
      "application/vnd.jupyter.widget-view+json": {
       "model_id": "8722e86431994e54a9e4f8ca0e06168d",
       "version_major": 2,
       "version_minor": 0
      },
      "text/plain": [
       "Iteration T: 48:   0%|          | 0/10903 [00:00<?, ?it/s]"
      ]
     },
     "metadata": {},
     "output_type": "display_data"
    },
    {
     "data": {
      "application/vnd.jupyter.widget-view+json": {
       "model_id": "a668c2e148654ad0a118b4b0fffe072a",
       "version_major": 2,
       "version_minor": 0
      },
      "text/plain": [
       "Iteration T: 49:   0%|          | 0/10903 [00:00<?, ?it/s]"
      ]
     },
     "metadata": {},
     "output_type": "display_data"
    },
    {
     "data": {
      "application/vnd.jupyter.widget-view+json": {
       "model_id": "92954ddcfeb0403a993835a645c65a29",
       "version_major": 2,
       "version_minor": 0
      },
      "text/plain": [
       "Iteration T: 0:   0%|          | 0/10903 [00:00<?, ?it/s]"
      ]
     },
     "metadata": {},
     "output_type": "display_data"
    },
    {
     "data": {
      "application/vnd.jupyter.widget-view+json": {
       "model_id": "271ecbb825a04b0aa9732dbeab4871c7",
       "version_major": 2,
       "version_minor": 0
      },
      "text/plain": [
       "Iteration T: 1:   0%|          | 0/10903 [00:00<?, ?it/s]"
      ]
     },
     "metadata": {},
     "output_type": "display_data"
    },
    {
     "data": {
      "application/vnd.jupyter.widget-view+json": {
       "model_id": "04b4d70036c74ca79d15d7d9979b0eb1",
       "version_major": 2,
       "version_minor": 0
      },
      "text/plain": [
       "Iteration T: 2:   0%|          | 0/10903 [00:00<?, ?it/s]"
      ]
     },
     "metadata": {},
     "output_type": "display_data"
    },
    {
     "data": {
      "application/vnd.jupyter.widget-view+json": {
       "model_id": "268550fe0c464975a65a67300ae989e8",
       "version_major": 2,
       "version_minor": 0
      },
      "text/plain": [
       "Iteration T: 3:   0%|          | 0/10903 [00:00<?, ?it/s]"
      ]
     },
     "metadata": {},
     "output_type": "display_data"
    },
    {
     "data": {
      "application/vnd.jupyter.widget-view+json": {
       "model_id": "e7c67414398d49aeafdab543b44cc84a",
       "version_major": 2,
       "version_minor": 0
      },
      "text/plain": [
       "Iteration T: 4:   0%|          | 0/10903 [00:00<?, ?it/s]"
      ]
     },
     "metadata": {},
     "output_type": "display_data"
    },
    {
     "data": {
      "application/vnd.jupyter.widget-view+json": {
       "model_id": "51d9ab27210c4b68906f014a51f230ed",
       "version_major": 2,
       "version_minor": 0
      },
      "text/plain": [
       "Iteration T: 5:   0%|          | 0/10903 [00:00<?, ?it/s]"
      ]
     },
     "metadata": {},
     "output_type": "display_data"
    },
    {
     "data": {
      "application/vnd.jupyter.widget-view+json": {
       "model_id": "2a5485e5f3d54bd4a5d3fc44fce6667e",
       "version_major": 2,
       "version_minor": 0
      },
      "text/plain": [
       "Iteration T: 6:   0%|          | 0/10903 [00:00<?, ?it/s]"
      ]
     },
     "metadata": {},
     "output_type": "display_data"
    },
    {
     "data": {
      "application/vnd.jupyter.widget-view+json": {
       "model_id": "e0785520c03f43a7a344c3f88e6f8f0b",
       "version_major": 2,
       "version_minor": 0
      },
      "text/plain": [
       "Iteration T: 7:   0%|          | 0/10903 [00:00<?, ?it/s]"
      ]
     },
     "metadata": {},
     "output_type": "display_data"
    },
    {
     "data": {
      "application/vnd.jupyter.widget-view+json": {
       "model_id": "1034c510c22d4590bb4640a07d75d02e",
       "version_major": 2,
       "version_minor": 0
      },
      "text/plain": [
       "Iteration T: 8:   0%|          | 0/10903 [00:00<?, ?it/s]"
      ]
     },
     "metadata": {},
     "output_type": "display_data"
    },
    {
     "data": {
      "application/vnd.jupyter.widget-view+json": {
       "model_id": "5af13e1f3bea4335b924dd981bf2d317",
       "version_major": 2,
       "version_minor": 0
      },
      "text/plain": [
       "Iteration T: 9:   0%|          | 0/10903 [00:00<?, ?it/s]"
      ]
     },
     "metadata": {},
     "output_type": "display_data"
    },
    {
     "data": {
      "application/vnd.jupyter.widget-view+json": {
       "model_id": "206def6336604706ba8c15d3b0fd8296",
       "version_major": 2,
       "version_minor": 0
      },
      "text/plain": [
       "Iteration T: 10:   0%|          | 0/10903 [00:00<?, ?it/s]"
      ]
     },
     "metadata": {},
     "output_type": "display_data"
    },
    {
     "data": {
      "application/vnd.jupyter.widget-view+json": {
       "model_id": "9f4fcac9ae6e42d297a50c4092140f4f",
       "version_major": 2,
       "version_minor": 0
      },
      "text/plain": [
       "Iteration T: 11:   0%|          | 0/10903 [00:00<?, ?it/s]"
      ]
     },
     "metadata": {},
     "output_type": "display_data"
    },
    {
     "data": {
      "application/vnd.jupyter.widget-view+json": {
       "model_id": "52c282ccd75a477a8c39e58482fccc80",
       "version_major": 2,
       "version_minor": 0
      },
      "text/plain": [
       "Iteration T: 12:   0%|          | 0/10903 [00:00<?, ?it/s]"
      ]
     },
     "metadata": {},
     "output_type": "display_data"
    },
    {
     "data": {
      "application/vnd.jupyter.widget-view+json": {
       "model_id": "75d079fddf1247628370fe2f29fe3860",
       "version_major": 2,
       "version_minor": 0
      },
      "text/plain": [
       "Iteration T: 13:   0%|          | 0/10903 [00:00<?, ?it/s]"
      ]
     },
     "metadata": {},
     "output_type": "display_data"
    },
    {
     "data": {
      "application/vnd.jupyter.widget-view+json": {
       "model_id": "f144ac9b6a344ee18c34d8feef33c3bf",
       "version_major": 2,
       "version_minor": 0
      },
      "text/plain": [
       "Iteration T: 14:   0%|          | 0/10903 [00:00<?, ?it/s]"
      ]
     },
     "metadata": {},
     "output_type": "display_data"
    },
    {
     "data": {
      "application/vnd.jupyter.widget-view+json": {
       "model_id": "8602835b72a94c06a3eac5b7f8a28aac",
       "version_major": 2,
       "version_minor": 0
      },
      "text/plain": [
       "Iteration T: 15:   0%|          | 0/10903 [00:00<?, ?it/s]"
      ]
     },
     "metadata": {},
     "output_type": "display_data"
    },
    {
     "data": {
      "application/vnd.jupyter.widget-view+json": {
       "model_id": "a3b214b7a4164b9784d5703b6595cfe6",
       "version_major": 2,
       "version_minor": 0
      },
      "text/plain": [
       "Iteration T: 16:   0%|          | 0/10903 [00:00<?, ?it/s]"
      ]
     },
     "metadata": {},
     "output_type": "display_data"
    },
    {
     "data": {
      "application/vnd.jupyter.widget-view+json": {
       "model_id": "1fa1038f50e64ac68fbaaf7a0194d694",
       "version_major": 2,
       "version_minor": 0
      },
      "text/plain": [
       "Iteration T: 17:   0%|          | 0/10903 [00:00<?, ?it/s]"
      ]
     },
     "metadata": {},
     "output_type": "display_data"
    },
    {
     "data": {
      "application/vnd.jupyter.widget-view+json": {
       "model_id": "92b872334822456b86c196ef6ab76332",
       "version_major": 2,
       "version_minor": 0
      },
      "text/plain": [
       "Iteration T: 18:   0%|          | 0/10903 [00:00<?, ?it/s]"
      ]
     },
     "metadata": {},
     "output_type": "display_data"
    },
    {
     "data": {
      "application/vnd.jupyter.widget-view+json": {
       "model_id": "ee61cadf598048479c81fef478a76989",
       "version_major": 2,
       "version_minor": 0
      },
      "text/plain": [
       "Iteration T: 19:   0%|          | 0/10903 [00:00<?, ?it/s]"
      ]
     },
     "metadata": {},
     "output_type": "display_data"
    },
    {
     "data": {
      "application/vnd.jupyter.widget-view+json": {
       "model_id": "d557e7bb47e64cb083e54526c322e9a0",
       "version_major": 2,
       "version_minor": 0
      },
      "text/plain": [
       "Iteration T: 20:   0%|          | 0/10903 [00:00<?, ?it/s]"
      ]
     },
     "metadata": {},
     "output_type": "display_data"
    },
    {
     "data": {
      "application/vnd.jupyter.widget-view+json": {
       "model_id": "0925f9dd2535493487095c3c0a73d463",
       "version_major": 2,
       "version_minor": 0
      },
      "text/plain": [
       "Iteration T: 21:   0%|          | 0/10903 [00:00<?, ?it/s]"
      ]
     },
     "metadata": {},
     "output_type": "display_data"
    },
    {
     "data": {
      "application/vnd.jupyter.widget-view+json": {
       "model_id": "e9d9f592345c46a99d1213eb15ad6441",
       "version_major": 2,
       "version_minor": 0
      },
      "text/plain": [
       "Iteration T: 22:   0%|          | 0/10903 [00:00<?, ?it/s]"
      ]
     },
     "metadata": {},
     "output_type": "display_data"
    },
    {
     "data": {
      "application/vnd.jupyter.widget-view+json": {
       "model_id": "99073e2ef44c4d43ba779f760da40ebf",
       "version_major": 2,
       "version_minor": 0
      },
      "text/plain": [
       "Iteration T: 23:   0%|          | 0/10903 [00:00<?, ?it/s]"
      ]
     },
     "metadata": {},
     "output_type": "display_data"
    },
    {
     "data": {
      "application/vnd.jupyter.widget-view+json": {
       "model_id": "09557cb2ec70431781fee2fb39bd7e2d",
       "version_major": 2,
       "version_minor": 0
      },
      "text/plain": [
       "Iteration T: 24:   0%|          | 0/10903 [00:00<?, ?it/s]"
      ]
     },
     "metadata": {},
     "output_type": "display_data"
    },
    {
     "data": {
      "application/vnd.jupyter.widget-view+json": {
       "model_id": "57a5b2c1912f4e3a9247d65d966f785a",
       "version_major": 2,
       "version_minor": 0
      },
      "text/plain": [
       "Iteration T: 25:   0%|          | 0/10903 [00:00<?, ?it/s]"
      ]
     },
     "metadata": {},
     "output_type": "display_data"
    },
    {
     "data": {
      "application/vnd.jupyter.widget-view+json": {
       "model_id": "2c6623e395fa48d6bdae33f81eef97e5",
       "version_major": 2,
       "version_minor": 0
      },
      "text/plain": [
       "Iteration T: 26:   0%|          | 0/10903 [00:00<?, ?it/s]"
      ]
     },
     "metadata": {},
     "output_type": "display_data"
    },
    {
     "data": {
      "application/vnd.jupyter.widget-view+json": {
       "model_id": "d02f4a9c046b450b9eb4f33deaa1adbb",
       "version_major": 2,
       "version_minor": 0
      },
      "text/plain": [
       "Iteration T: 27:   0%|          | 0/10903 [00:00<?, ?it/s]"
      ]
     },
     "metadata": {},
     "output_type": "display_data"
    },
    {
     "data": {
      "application/vnd.jupyter.widget-view+json": {
       "model_id": "a8586a0dae2541fd8166f2156003e84f",
       "version_major": 2,
       "version_minor": 0
      },
      "text/plain": [
       "Iteration T: 28:   0%|          | 0/10903 [00:00<?, ?it/s]"
      ]
     },
     "metadata": {},
     "output_type": "display_data"
    },
    {
     "data": {
      "application/vnd.jupyter.widget-view+json": {
       "model_id": "d318eedf5ef04cfba62f41fb833c177b",
       "version_major": 2,
       "version_minor": 0
      },
      "text/plain": [
       "Iteration T: 29:   0%|          | 0/10903 [00:00<?, ?it/s]"
      ]
     },
     "metadata": {},
     "output_type": "display_data"
    },
    {
     "data": {
      "application/vnd.jupyter.widget-view+json": {
       "model_id": "a1226cbf75c64688a14415da96fdfd7f",
       "version_major": 2,
       "version_minor": 0
      },
      "text/plain": [
       "Iteration T: 30:   0%|          | 0/10903 [00:00<?, ?it/s]"
      ]
     },
     "metadata": {},
     "output_type": "display_data"
    },
    {
     "data": {
      "application/vnd.jupyter.widget-view+json": {
       "model_id": "d8281946a16346d7b4f3472dbe91b13c",
       "version_major": 2,
       "version_minor": 0
      },
      "text/plain": [
       "Iteration T: 31:   0%|          | 0/10903 [00:00<?, ?it/s]"
      ]
     },
     "metadata": {},
     "output_type": "display_data"
    },
    {
     "data": {
      "application/vnd.jupyter.widget-view+json": {
       "model_id": "6f2a92bec3734f8b975c9f2a4bab3d89",
       "version_major": 2,
       "version_minor": 0
      },
      "text/plain": [
       "Iteration T: 32:   0%|          | 0/10903 [00:00<?, ?it/s]"
      ]
     },
     "metadata": {},
     "output_type": "display_data"
    },
    {
     "data": {
      "application/vnd.jupyter.widget-view+json": {
       "model_id": "827afd6413d6440fa52e046407d299e5",
       "version_major": 2,
       "version_minor": 0
      },
      "text/plain": [
       "Iteration T: 33:   0%|          | 0/10903 [00:00<?, ?it/s]"
      ]
     },
     "metadata": {},
     "output_type": "display_data"
    },
    {
     "data": {
      "application/vnd.jupyter.widget-view+json": {
       "model_id": "72e132830f5b449a934164fef0353284",
       "version_major": 2,
       "version_minor": 0
      },
      "text/plain": [
       "Iteration T: 34:   0%|          | 0/10903 [00:00<?, ?it/s]"
      ]
     },
     "metadata": {},
     "output_type": "display_data"
    },
    {
     "data": {
      "application/vnd.jupyter.widget-view+json": {
       "model_id": "583ca09c5f9544639f26a83a59efd537",
       "version_major": 2,
       "version_minor": 0
      },
      "text/plain": [
       "Iteration T: 35:   0%|          | 0/10903 [00:00<?, ?it/s]"
      ]
     },
     "metadata": {},
     "output_type": "display_data"
    },
    {
     "data": {
      "application/vnd.jupyter.widget-view+json": {
       "model_id": "35782c3c3efe49d3b9b9ceff256abeaf",
       "version_major": 2,
       "version_minor": 0
      },
      "text/plain": [
       "Iteration T: 36:   0%|          | 0/10903 [00:00<?, ?it/s]"
      ]
     },
     "metadata": {},
     "output_type": "display_data"
    },
    {
     "data": {
      "application/vnd.jupyter.widget-view+json": {
       "model_id": "ae06f72b58464b8db6af292e27205a86",
       "version_major": 2,
       "version_minor": 0
      },
      "text/plain": [
       "Iteration T: 37:   0%|          | 0/10903 [00:00<?, ?it/s]"
      ]
     },
     "metadata": {},
     "output_type": "display_data"
    },
    {
     "data": {
      "application/vnd.jupyter.widget-view+json": {
       "model_id": "85a49ffe2c404bba8d303e296e26266b",
       "version_major": 2,
       "version_minor": 0
      },
      "text/plain": [
       "Iteration T: 38:   0%|          | 0/10903 [00:00<?, ?it/s]"
      ]
     },
     "metadata": {},
     "output_type": "display_data"
    },
    {
     "data": {
      "application/vnd.jupyter.widget-view+json": {
       "model_id": "fe9e3a84f0474e7890579e0aeab13265",
       "version_major": 2,
       "version_minor": 0
      },
      "text/plain": [
       "Iteration T: 39:   0%|          | 0/10903 [00:00<?, ?it/s]"
      ]
     },
     "metadata": {},
     "output_type": "display_data"
    },
    {
     "data": {
      "application/vnd.jupyter.widget-view+json": {
       "model_id": "1d739c343b9e4a89988910ecefb83125",
       "version_major": 2,
       "version_minor": 0
      },
      "text/plain": [
       "Iteration T: 40:   0%|          | 0/10903 [00:00<?, ?it/s]"
      ]
     },
     "metadata": {},
     "output_type": "display_data"
    },
    {
     "data": {
      "application/vnd.jupyter.widget-view+json": {
       "model_id": "3830ee26c6ca48fcbe1824616987de06",
       "version_major": 2,
       "version_minor": 0
      },
      "text/plain": [
       "Iteration T: 41:   0%|          | 0/10903 [00:00<?, ?it/s]"
      ]
     },
     "metadata": {},
     "output_type": "display_data"
    },
    {
     "data": {
      "application/vnd.jupyter.widget-view+json": {
       "model_id": "7f2d74a8937c42dea3239bd8263a39d0",
       "version_major": 2,
       "version_minor": 0
      },
      "text/plain": [
       "Iteration T: 42:   0%|          | 0/10903 [00:00<?, ?it/s]"
      ]
     },
     "metadata": {},
     "output_type": "display_data"
    },
    {
     "data": {
      "application/vnd.jupyter.widget-view+json": {
       "model_id": "9f893b602fcf4117b94979d2d4dbdbf9",
       "version_major": 2,
       "version_minor": 0
      },
      "text/plain": [
       "Iteration T: 43:   0%|          | 0/10903 [00:00<?, ?it/s]"
      ]
     },
     "metadata": {},
     "output_type": "display_data"
    },
    {
     "data": {
      "application/vnd.jupyter.widget-view+json": {
       "model_id": "d2fb2050a7eb4ffc93ef2470fba6f692",
       "version_major": 2,
       "version_minor": 0
      },
      "text/plain": [
       "Iteration T: 44:   0%|          | 0/10903 [00:00<?, ?it/s]"
      ]
     },
     "metadata": {},
     "output_type": "display_data"
    },
    {
     "data": {
      "application/vnd.jupyter.widget-view+json": {
       "model_id": "683efabe005c41ae9c5660b168f2d12c",
       "version_major": 2,
       "version_minor": 0
      },
      "text/plain": [
       "Iteration T: 45:   0%|          | 0/10903 [00:00<?, ?it/s]"
      ]
     },
     "metadata": {},
     "output_type": "display_data"
    },
    {
     "data": {
      "application/vnd.jupyter.widget-view+json": {
       "model_id": "1e49800d68964a03840794335ba9644c",
       "version_major": 2,
       "version_minor": 0
      },
      "text/plain": [
       "Iteration T: 46:   0%|          | 0/10903 [00:00<?, ?it/s]"
      ]
     },
     "metadata": {},
     "output_type": "display_data"
    },
    {
     "data": {
      "application/vnd.jupyter.widget-view+json": {
       "model_id": "37bdac7d0ba143fb876d48c23fdb08c3",
       "version_major": 2,
       "version_minor": 0
      },
      "text/plain": [
       "Iteration T: 47:   0%|          | 0/10903 [00:00<?, ?it/s]"
      ]
     },
     "metadata": {},
     "output_type": "display_data"
    },
    {
     "data": {
      "application/vnd.jupyter.widget-view+json": {
       "model_id": "3cfea824fd694c33ae14fac24f19fa3b",
       "version_major": 2,
       "version_minor": 0
      },
      "text/plain": [
       "Iteration T: 48:   0%|          | 0/10903 [00:00<?, ?it/s]"
      ]
     },
     "metadata": {},
     "output_type": "display_data"
    },
    {
     "data": {
      "application/vnd.jupyter.widget-view+json": {
       "model_id": "296f687087914865875f2ed0ac339fc9",
       "version_major": 2,
       "version_minor": 0
      },
      "text/plain": [
       "Iteration T: 49:   0%|          | 0/10903 [00:00<?, ?it/s]"
      ]
     },
     "metadata": {},
     "output_type": "display_data"
    },
    {
     "data": {
      "application/vnd.jupyter.widget-view+json": {
       "model_id": "ae243e6b41974aeeb6fb47d048d5e00a",
       "version_major": 2,
       "version_minor": 0
      },
      "text/plain": [
       "Iteration T: 0:   0%|          | 0/10903 [00:00<?, ?it/s]"
      ]
     },
     "metadata": {},
     "output_type": "display_data"
    },
    {
     "data": {
      "application/vnd.jupyter.widget-view+json": {
       "model_id": "26896622a3d54807a4d2e9abc84b6b06",
       "version_major": 2,
       "version_minor": 0
      },
      "text/plain": [
       "Iteration T: 1:   0%|          | 0/10903 [00:00<?, ?it/s]"
      ]
     },
     "metadata": {},
     "output_type": "display_data"
    },
    {
     "data": {
      "application/vnd.jupyter.widget-view+json": {
       "model_id": "045bf332f3b54c23bf83dff01f5a60ce",
       "version_major": 2,
       "version_minor": 0
      },
      "text/plain": [
       "Iteration T: 2:   0%|          | 0/10903 [00:00<?, ?it/s]"
      ]
     },
     "metadata": {},
     "output_type": "display_data"
    },
    {
     "data": {
      "application/vnd.jupyter.widget-view+json": {
       "model_id": "3d3f97f58a304a67af277cb1fb15db03",
       "version_major": 2,
       "version_minor": 0
      },
      "text/plain": [
       "Iteration T: 3:   0%|          | 0/10903 [00:00<?, ?it/s]"
      ]
     },
     "metadata": {},
     "output_type": "display_data"
    },
    {
     "data": {
      "application/vnd.jupyter.widget-view+json": {
       "model_id": "fb121d41ee594716aaebce42aa11133b",
       "version_major": 2,
       "version_minor": 0
      },
      "text/plain": [
       "Iteration T: 4:   0%|          | 0/10903 [00:00<?, ?it/s]"
      ]
     },
     "metadata": {},
     "output_type": "display_data"
    },
    {
     "data": {
      "application/vnd.jupyter.widget-view+json": {
       "model_id": "ba399f8fc1e849afbb8c7f3c97988efe",
       "version_major": 2,
       "version_minor": 0
      },
      "text/plain": [
       "Iteration T: 5:   0%|          | 0/10903 [00:00<?, ?it/s]"
      ]
     },
     "metadata": {},
     "output_type": "display_data"
    },
    {
     "data": {
      "application/vnd.jupyter.widget-view+json": {
       "model_id": "664b89303dfb4d27a625904e9434f5b3",
       "version_major": 2,
       "version_minor": 0
      },
      "text/plain": [
       "Iteration T: 6:   0%|          | 0/10903 [00:00<?, ?it/s]"
      ]
     },
     "metadata": {},
     "output_type": "display_data"
    },
    {
     "data": {
      "application/vnd.jupyter.widget-view+json": {
       "model_id": "6e2385da889d493ebe7a0ba79b3be297",
       "version_major": 2,
       "version_minor": 0
      },
      "text/plain": [
       "Iteration T: 7:   0%|          | 0/10903 [00:00<?, ?it/s]"
      ]
     },
     "metadata": {},
     "output_type": "display_data"
    },
    {
     "data": {
      "application/vnd.jupyter.widget-view+json": {
       "model_id": "2e057fe0b3ac4ac1961eb9467aba0b84",
       "version_major": 2,
       "version_minor": 0
      },
      "text/plain": [
       "Iteration T: 8:   0%|          | 0/10903 [00:00<?, ?it/s]"
      ]
     },
     "metadata": {},
     "output_type": "display_data"
    },
    {
     "data": {
      "application/vnd.jupyter.widget-view+json": {
       "model_id": "e5237b8404ce456b9badd13725dc0eb6",
       "version_major": 2,
       "version_minor": 0
      },
      "text/plain": [
       "Iteration T: 9:   0%|          | 0/10903 [00:00<?, ?it/s]"
      ]
     },
     "metadata": {},
     "output_type": "display_data"
    },
    {
     "data": {
      "application/vnd.jupyter.widget-view+json": {
       "model_id": "f7cb8a02a8ff47e69443c1ca075b0db2",
       "version_major": 2,
       "version_minor": 0
      },
      "text/plain": [
       "Iteration T: 10:   0%|          | 0/10903 [00:00<?, ?it/s]"
      ]
     },
     "metadata": {},
     "output_type": "display_data"
    },
    {
     "data": {
      "application/vnd.jupyter.widget-view+json": {
       "model_id": "dec94cee5cb6426d930a71050a503267",
       "version_major": 2,
       "version_minor": 0
      },
      "text/plain": [
       "Iteration T: 11:   0%|          | 0/10903 [00:00<?, ?it/s]"
      ]
     },
     "metadata": {},
     "output_type": "display_data"
    },
    {
     "data": {
      "application/vnd.jupyter.widget-view+json": {
       "model_id": "9a21d8421fec464e89592a469f4df3c0",
       "version_major": 2,
       "version_minor": 0
      },
      "text/plain": [
       "Iteration T: 12:   0%|          | 0/10903 [00:00<?, ?it/s]"
      ]
     },
     "metadata": {},
     "output_type": "display_data"
    },
    {
     "data": {
      "application/vnd.jupyter.widget-view+json": {
       "model_id": "e62e96a39457420598217e7f5d6e00e2",
       "version_major": 2,
       "version_minor": 0
      },
      "text/plain": [
       "Iteration T: 13:   0%|          | 0/10903 [00:00<?, ?it/s]"
      ]
     },
     "metadata": {},
     "output_type": "display_data"
    },
    {
     "data": {
      "application/vnd.jupyter.widget-view+json": {
       "model_id": "87731e6c310946278b231aa7087c599f",
       "version_major": 2,
       "version_minor": 0
      },
      "text/plain": [
       "Iteration T: 14:   0%|          | 0/10903 [00:00<?, ?it/s]"
      ]
     },
     "metadata": {},
     "output_type": "display_data"
    },
    {
     "data": {
      "application/vnd.jupyter.widget-view+json": {
       "model_id": "96a921999ff24a3da9cf82cdf883bc40",
       "version_major": 2,
       "version_minor": 0
      },
      "text/plain": [
       "Iteration T: 15:   0%|          | 0/10903 [00:00<?, ?it/s]"
      ]
     },
     "metadata": {},
     "output_type": "display_data"
    },
    {
     "data": {
      "application/vnd.jupyter.widget-view+json": {
       "model_id": "13773465f53d4a7b8cd1bb6bc097fa89",
       "version_major": 2,
       "version_minor": 0
      },
      "text/plain": [
       "Iteration T: 16:   0%|          | 0/10903 [00:00<?, ?it/s]"
      ]
     },
     "metadata": {},
     "output_type": "display_data"
    },
    {
     "data": {
      "application/vnd.jupyter.widget-view+json": {
       "model_id": "360f574d52c44689a346d67cbff26320",
       "version_major": 2,
       "version_minor": 0
      },
      "text/plain": [
       "Iteration T: 17:   0%|          | 0/10903 [00:00<?, ?it/s]"
      ]
     },
     "metadata": {},
     "output_type": "display_data"
    },
    {
     "data": {
      "application/vnd.jupyter.widget-view+json": {
       "model_id": "976159c396cb443dbb9adbccdaa94069",
       "version_major": 2,
       "version_minor": 0
      },
      "text/plain": [
       "Iteration T: 18:   0%|          | 0/10903 [00:00<?, ?it/s]"
      ]
     },
     "metadata": {},
     "output_type": "display_data"
    },
    {
     "data": {
      "application/vnd.jupyter.widget-view+json": {
       "model_id": "4e74b8ba26ee4e70a4309b3d2367e0bf",
       "version_major": 2,
       "version_minor": 0
      },
      "text/plain": [
       "Iteration T: 19:   0%|          | 0/10903 [00:00<?, ?it/s]"
      ]
     },
     "metadata": {},
     "output_type": "display_data"
    },
    {
     "data": {
      "application/vnd.jupyter.widget-view+json": {
       "model_id": "4891c0ae983c48788acfe110d3275d8c",
       "version_major": 2,
       "version_minor": 0
      },
      "text/plain": [
       "Iteration T: 20:   0%|          | 0/10903 [00:00<?, ?it/s]"
      ]
     },
     "metadata": {},
     "output_type": "display_data"
    },
    {
     "data": {
      "application/vnd.jupyter.widget-view+json": {
       "model_id": "bfaac4ecf2ec414babd045aecf67b6e8",
       "version_major": 2,
       "version_minor": 0
      },
      "text/plain": [
       "Iteration T: 21:   0%|          | 0/10903 [00:00<?, ?it/s]"
      ]
     },
     "metadata": {},
     "output_type": "display_data"
    },
    {
     "data": {
      "application/vnd.jupyter.widget-view+json": {
       "model_id": "52d51cf21e5e4abcb1c5ba75e53941da",
       "version_major": 2,
       "version_minor": 0
      },
      "text/plain": [
       "Iteration T: 22:   0%|          | 0/10903 [00:00<?, ?it/s]"
      ]
     },
     "metadata": {},
     "output_type": "display_data"
    },
    {
     "data": {
      "application/vnd.jupyter.widget-view+json": {
       "model_id": "8341f2eccab04a4ead0eb29ee7f21257",
       "version_major": 2,
       "version_minor": 0
      },
      "text/plain": [
       "Iteration T: 23:   0%|          | 0/10903 [00:00<?, ?it/s]"
      ]
     },
     "metadata": {},
     "output_type": "display_data"
    },
    {
     "data": {
      "application/vnd.jupyter.widget-view+json": {
       "model_id": "1205df8afb3d4c599bf49ebb5150601b",
       "version_major": 2,
       "version_minor": 0
      },
      "text/plain": [
       "Iteration T: 24:   0%|          | 0/10903 [00:00<?, ?it/s]"
      ]
     },
     "metadata": {},
     "output_type": "display_data"
    },
    {
     "data": {
      "application/vnd.jupyter.widget-view+json": {
       "model_id": "a85ae8a8622a4f97a459de22cab4a241",
       "version_major": 2,
       "version_minor": 0
      },
      "text/plain": [
       "Iteration T: 25:   0%|          | 0/10903 [00:00<?, ?it/s]"
      ]
     },
     "metadata": {},
     "output_type": "display_data"
    },
    {
     "data": {
      "application/vnd.jupyter.widget-view+json": {
       "model_id": "a9d4c0e889754052ad5037dd5fa79730",
       "version_major": 2,
       "version_minor": 0
      },
      "text/plain": [
       "Iteration T: 26:   0%|          | 0/10903 [00:00<?, ?it/s]"
      ]
     },
     "metadata": {},
     "output_type": "display_data"
    },
    {
     "data": {
      "application/vnd.jupyter.widget-view+json": {
       "model_id": "3554336c22c844ce84c1533b7da4fba9",
       "version_major": 2,
       "version_minor": 0
      },
      "text/plain": [
       "Iteration T: 27:   0%|          | 0/10903 [00:00<?, ?it/s]"
      ]
     },
     "metadata": {},
     "output_type": "display_data"
    },
    {
     "data": {
      "application/vnd.jupyter.widget-view+json": {
       "model_id": "25e1091721fe42b38eee810d1379931d",
       "version_major": 2,
       "version_minor": 0
      },
      "text/plain": [
       "Iteration T: 28:   0%|          | 0/10903 [00:00<?, ?it/s]"
      ]
     },
     "metadata": {},
     "output_type": "display_data"
    },
    {
     "data": {
      "application/vnd.jupyter.widget-view+json": {
       "model_id": "8de45d8c006e4a4687d5bcaf144e1b92",
       "version_major": 2,
       "version_minor": 0
      },
      "text/plain": [
       "Iteration T: 29:   0%|          | 0/10903 [00:00<?, ?it/s]"
      ]
     },
     "metadata": {},
     "output_type": "display_data"
    },
    {
     "data": {
      "application/vnd.jupyter.widget-view+json": {
       "model_id": "a254e54f3fd1408bbfcc6d2f2d150e3e",
       "version_major": 2,
       "version_minor": 0
      },
      "text/plain": [
       "Iteration T: 30:   0%|          | 0/10903 [00:00<?, ?it/s]"
      ]
     },
     "metadata": {},
     "output_type": "display_data"
    },
    {
     "data": {
      "application/vnd.jupyter.widget-view+json": {
       "model_id": "ba2c85a4a465488182bd1387a9c604e5",
       "version_major": 2,
       "version_minor": 0
      },
      "text/plain": [
       "Iteration T: 31:   0%|          | 0/10903 [00:00<?, ?it/s]"
      ]
     },
     "metadata": {},
     "output_type": "display_data"
    },
    {
     "data": {
      "application/vnd.jupyter.widget-view+json": {
       "model_id": "db9bdaed65654053adca144a1e284b66",
       "version_major": 2,
       "version_minor": 0
      },
      "text/plain": [
       "Iteration T: 32:   0%|          | 0/10903 [00:00<?, ?it/s]"
      ]
     },
     "metadata": {},
     "output_type": "display_data"
    },
    {
     "data": {
      "application/vnd.jupyter.widget-view+json": {
       "model_id": "136165382f3249d193067b9f2aa26fe1",
       "version_major": 2,
       "version_minor": 0
      },
      "text/plain": [
       "Iteration T: 33:   0%|          | 0/10903 [00:00<?, ?it/s]"
      ]
     },
     "metadata": {},
     "output_type": "display_data"
    },
    {
     "data": {
      "application/vnd.jupyter.widget-view+json": {
       "model_id": "a8aec5d345aa45228519a22b2b91da67",
       "version_major": 2,
       "version_minor": 0
      },
      "text/plain": [
       "Iteration T: 34:   0%|          | 0/10903 [00:00<?, ?it/s]"
      ]
     },
     "metadata": {},
     "output_type": "display_data"
    },
    {
     "data": {
      "application/vnd.jupyter.widget-view+json": {
       "model_id": "4c4c89f9ab094065be0509af4eaed553",
       "version_major": 2,
       "version_minor": 0
      },
      "text/plain": [
       "Iteration T: 35:   0%|          | 0/10903 [00:00<?, ?it/s]"
      ]
     },
     "metadata": {},
     "output_type": "display_data"
    },
    {
     "data": {
      "application/vnd.jupyter.widget-view+json": {
       "model_id": "6769985155aa492cadb9ea5d45a1e9d2",
       "version_major": 2,
       "version_minor": 0
      },
      "text/plain": [
       "Iteration T: 36:   0%|          | 0/10903 [00:00<?, ?it/s]"
      ]
     },
     "metadata": {},
     "output_type": "display_data"
    },
    {
     "data": {
      "application/vnd.jupyter.widget-view+json": {
       "model_id": "01f5a7b5d92a440e938e72314023a536",
       "version_major": 2,
       "version_minor": 0
      },
      "text/plain": [
       "Iteration T: 37:   0%|          | 0/10903 [00:00<?, ?it/s]"
      ]
     },
     "metadata": {},
     "output_type": "display_data"
    },
    {
     "data": {
      "application/vnd.jupyter.widget-view+json": {
       "model_id": "90215469d98c4e8c8faaa1872630ac45",
       "version_major": 2,
       "version_minor": 0
      },
      "text/plain": [
       "Iteration T: 38:   0%|          | 0/10903 [00:00<?, ?it/s]"
      ]
     },
     "metadata": {},
     "output_type": "display_data"
    },
    {
     "data": {
      "application/vnd.jupyter.widget-view+json": {
       "model_id": "12818c1dab9942a8a1ad33045f003bbb",
       "version_major": 2,
       "version_minor": 0
      },
      "text/plain": [
       "Iteration T: 39:   0%|          | 0/10903 [00:00<?, ?it/s]"
      ]
     },
     "metadata": {},
     "output_type": "display_data"
    },
    {
     "data": {
      "application/vnd.jupyter.widget-view+json": {
       "model_id": "c3e51bbace1b43eeb7b3c37dff65e8d5",
       "version_major": 2,
       "version_minor": 0
      },
      "text/plain": [
       "Iteration T: 40:   0%|          | 0/10903 [00:00<?, ?it/s]"
      ]
     },
     "metadata": {},
     "output_type": "display_data"
    },
    {
     "data": {
      "application/vnd.jupyter.widget-view+json": {
       "model_id": "403fb3d972644bae81ddd5e0972df83e",
       "version_major": 2,
       "version_minor": 0
      },
      "text/plain": [
       "Iteration T: 41:   0%|          | 0/10903 [00:00<?, ?it/s]"
      ]
     },
     "metadata": {},
     "output_type": "display_data"
    },
    {
     "data": {
      "application/vnd.jupyter.widget-view+json": {
       "model_id": "7e98af4a17af4acb830a07567d040074",
       "version_major": 2,
       "version_minor": 0
      },
      "text/plain": [
       "Iteration T: 42:   0%|          | 0/10903 [00:00<?, ?it/s]"
      ]
     },
     "metadata": {},
     "output_type": "display_data"
    },
    {
     "data": {
      "application/vnd.jupyter.widget-view+json": {
       "model_id": "158e1342c74c42d78c676bea7f92f8f9",
       "version_major": 2,
       "version_minor": 0
      },
      "text/plain": [
       "Iteration T: 43:   0%|          | 0/10903 [00:00<?, ?it/s]"
      ]
     },
     "metadata": {},
     "output_type": "display_data"
    },
    {
     "data": {
      "application/vnd.jupyter.widget-view+json": {
       "model_id": "aebd1b6ccf7b46cfa95b3cdc74b9d238",
       "version_major": 2,
       "version_minor": 0
      },
      "text/plain": [
       "Iteration T: 44:   0%|          | 0/10903 [00:00<?, ?it/s]"
      ]
     },
     "metadata": {},
     "output_type": "display_data"
    },
    {
     "data": {
      "application/vnd.jupyter.widget-view+json": {
       "model_id": "2e6af6a2bd614b148af88addbff17041",
       "version_major": 2,
       "version_minor": 0
      },
      "text/plain": [
       "Iteration T: 45:   0%|          | 0/10903 [00:00<?, ?it/s]"
      ]
     },
     "metadata": {},
     "output_type": "display_data"
    },
    {
     "data": {
      "application/vnd.jupyter.widget-view+json": {
       "model_id": "1d03b13ef14e4324b3c8ec3410cba4e8",
       "version_major": 2,
       "version_minor": 0
      },
      "text/plain": [
       "Iteration T: 46:   0%|          | 0/10903 [00:00<?, ?it/s]"
      ]
     },
     "metadata": {},
     "output_type": "display_data"
    },
    {
     "data": {
      "application/vnd.jupyter.widget-view+json": {
       "model_id": "5f43f106697846ae971b43fefb7bbc27",
       "version_major": 2,
       "version_minor": 0
      },
      "text/plain": [
       "Iteration T: 47:   0%|          | 0/10903 [00:00<?, ?it/s]"
      ]
     },
     "metadata": {},
     "output_type": "display_data"
    },
    {
     "data": {
      "application/vnd.jupyter.widget-view+json": {
       "model_id": "d06a80fc8ba945b99a46cb97b2d3d713",
       "version_major": 2,
       "version_minor": 0
      },
      "text/plain": [
       "Iteration T: 48:   0%|          | 0/10903 [00:00<?, ?it/s]"
      ]
     },
     "metadata": {},
     "output_type": "display_data"
    },
    {
     "data": {
      "application/vnd.jupyter.widget-view+json": {
       "model_id": "f14660a571ab4e23bcf8e44624cb86de",
       "version_major": 2,
       "version_minor": 0
      },
      "text/plain": [
       "Iteration T: 49:   0%|          | 0/10903 [00:00<?, ?it/s]"
      ]
     },
     "metadata": {},
     "output_type": "display_data"
    },
    {
     "data": {
      "application/vnd.jupyter.widget-view+json": {
       "model_id": "5f28f396ad4c439fa8e5456e38447d61",
       "version_major": 2,
       "version_minor": 0
      },
      "text/plain": [
       "Iteration T: 0:   0%|          | 0/10903 [00:00<?, ?it/s]"
      ]
     },
     "metadata": {},
     "output_type": "display_data"
    },
    {
     "data": {
      "application/vnd.jupyter.widget-view+json": {
       "model_id": "07603eb3610348ae89c77513a2abff4a",
       "version_major": 2,
       "version_minor": 0
      },
      "text/plain": [
       "Iteration T: 1:   0%|          | 0/10903 [00:00<?, ?it/s]"
      ]
     },
     "metadata": {},
     "output_type": "display_data"
    },
    {
     "data": {
      "application/vnd.jupyter.widget-view+json": {
       "model_id": "8c4ad383957543a086b8b5ffe2f425ae",
       "version_major": 2,
       "version_minor": 0
      },
      "text/plain": [
       "Iteration T: 2:   0%|          | 0/10903 [00:00<?, ?it/s]"
      ]
     },
     "metadata": {},
     "output_type": "display_data"
    },
    {
     "data": {
      "application/vnd.jupyter.widget-view+json": {
       "model_id": "3186e1f8aa6f4626afaec404b411ee0a",
       "version_major": 2,
       "version_minor": 0
      },
      "text/plain": [
       "Iteration T: 3:   0%|          | 0/10903 [00:00<?, ?it/s]"
      ]
     },
     "metadata": {},
     "output_type": "display_data"
    },
    {
     "data": {
      "application/vnd.jupyter.widget-view+json": {
       "model_id": "a232d0fdd1f1418692e433f0e758f8e6",
       "version_major": 2,
       "version_minor": 0
      },
      "text/plain": [
       "Iteration T: 4:   0%|          | 0/10903 [00:00<?, ?it/s]"
      ]
     },
     "metadata": {},
     "output_type": "display_data"
    },
    {
     "data": {
      "application/vnd.jupyter.widget-view+json": {
       "model_id": "28ed951e90a646feb0b1d27f3d53583e",
       "version_major": 2,
       "version_minor": 0
      },
      "text/plain": [
       "Iteration T: 5:   0%|          | 0/10903 [00:00<?, ?it/s]"
      ]
     },
     "metadata": {},
     "output_type": "display_data"
    },
    {
     "data": {
      "application/vnd.jupyter.widget-view+json": {
       "model_id": "3b8e7eba7c624a5ea81c5b4068cb94fa",
       "version_major": 2,
       "version_minor": 0
      },
      "text/plain": [
       "Iteration T: 6:   0%|          | 0/10903 [00:00<?, ?it/s]"
      ]
     },
     "metadata": {},
     "output_type": "display_data"
    },
    {
     "data": {
      "application/vnd.jupyter.widget-view+json": {
       "model_id": "efd3c3afaa94488a8bb7872f48a40f10",
       "version_major": 2,
       "version_minor": 0
      },
      "text/plain": [
       "Iteration T: 7:   0%|          | 0/10903 [00:00<?, ?it/s]"
      ]
     },
     "metadata": {},
     "output_type": "display_data"
    },
    {
     "data": {
      "application/vnd.jupyter.widget-view+json": {
       "model_id": "3261739da3c442b69e6860fa018ebdae",
       "version_major": 2,
       "version_minor": 0
      },
      "text/plain": [
       "Iteration T: 8:   0%|          | 0/10903 [00:00<?, ?it/s]"
      ]
     },
     "metadata": {},
     "output_type": "display_data"
    },
    {
     "data": {
      "application/vnd.jupyter.widget-view+json": {
       "model_id": "3ec90efb45844304ab9bfd1c3a654978",
       "version_major": 2,
       "version_minor": 0
      },
      "text/plain": [
       "Iteration T: 9:   0%|          | 0/10903 [00:00<?, ?it/s]"
      ]
     },
     "metadata": {},
     "output_type": "display_data"
    },
    {
     "data": {
      "application/vnd.jupyter.widget-view+json": {
       "model_id": "184e268f6fd24b95aacc267d8c932df5",
       "version_major": 2,
       "version_minor": 0
      },
      "text/plain": [
       "Iteration T: 10:   0%|          | 0/10903 [00:00<?, ?it/s]"
      ]
     },
     "metadata": {},
     "output_type": "display_data"
    },
    {
     "data": {
      "application/vnd.jupyter.widget-view+json": {
       "model_id": "df2d524ce05d44baae0994eeb8ce52c6",
       "version_major": 2,
       "version_minor": 0
      },
      "text/plain": [
       "Iteration T: 11:   0%|          | 0/10903 [00:00<?, ?it/s]"
      ]
     },
     "metadata": {},
     "output_type": "display_data"
    },
    {
     "data": {
      "application/vnd.jupyter.widget-view+json": {
       "model_id": "76fcd3a09b644b0ebcdbbc0840fae6bf",
       "version_major": 2,
       "version_minor": 0
      },
      "text/plain": [
       "Iteration T: 12:   0%|          | 0/10903 [00:00<?, ?it/s]"
      ]
     },
     "metadata": {},
     "output_type": "display_data"
    },
    {
     "data": {
      "application/vnd.jupyter.widget-view+json": {
       "model_id": "3b946415bb6f40efbcc2f39142a093a1",
       "version_major": 2,
       "version_minor": 0
      },
      "text/plain": [
       "Iteration T: 13:   0%|          | 0/10903 [00:00<?, ?it/s]"
      ]
     },
     "metadata": {},
     "output_type": "display_data"
    },
    {
     "data": {
      "application/vnd.jupyter.widget-view+json": {
       "model_id": "51359dedae0242b7a93b5f7f47dd02bb",
       "version_major": 2,
       "version_minor": 0
      },
      "text/plain": [
       "Iteration T: 14:   0%|          | 0/10903 [00:00<?, ?it/s]"
      ]
     },
     "metadata": {},
     "output_type": "display_data"
    },
    {
     "data": {
      "application/vnd.jupyter.widget-view+json": {
       "model_id": "995cc8ca8ca04cbbaa3f1559bd47526d",
       "version_major": 2,
       "version_minor": 0
      },
      "text/plain": [
       "Iteration T: 15:   0%|          | 0/10903 [00:00<?, ?it/s]"
      ]
     },
     "metadata": {},
     "output_type": "display_data"
    },
    {
     "data": {
      "application/vnd.jupyter.widget-view+json": {
       "model_id": "f1f105ccb65446938fa9ebef82fc72f4",
       "version_major": 2,
       "version_minor": 0
      },
      "text/plain": [
       "Iteration T: 16:   0%|          | 0/10903 [00:00<?, ?it/s]"
      ]
     },
     "metadata": {},
     "output_type": "display_data"
    },
    {
     "data": {
      "application/vnd.jupyter.widget-view+json": {
       "model_id": "c449b4d0f8104b269030ffeab461111f",
       "version_major": 2,
       "version_minor": 0
      },
      "text/plain": [
       "Iteration T: 17:   0%|          | 0/10903 [00:00<?, ?it/s]"
      ]
     },
     "metadata": {},
     "output_type": "display_data"
    },
    {
     "data": {
      "application/vnd.jupyter.widget-view+json": {
       "model_id": "b397ed6ac1e8473fb4f11f03ca89e589",
       "version_major": 2,
       "version_minor": 0
      },
      "text/plain": [
       "Iteration T: 18:   0%|          | 0/10903 [00:00<?, ?it/s]"
      ]
     },
     "metadata": {},
     "output_type": "display_data"
    },
    {
     "data": {
      "application/vnd.jupyter.widget-view+json": {
       "model_id": "2b32d64143594387a8288a060e4ab3c1",
       "version_major": 2,
       "version_minor": 0
      },
      "text/plain": [
       "Iteration T: 19:   0%|          | 0/10903 [00:00<?, ?it/s]"
      ]
     },
     "metadata": {},
     "output_type": "display_data"
    },
    {
     "data": {
      "application/vnd.jupyter.widget-view+json": {
       "model_id": "1c1d2930866c487c93e97443b952f484",
       "version_major": 2,
       "version_minor": 0
      },
      "text/plain": [
       "Iteration T: 20:   0%|          | 0/10903 [00:00<?, ?it/s]"
      ]
     },
     "metadata": {},
     "output_type": "display_data"
    },
    {
     "data": {
      "application/vnd.jupyter.widget-view+json": {
       "model_id": "0c98a38748a34fdfae08560b3bad848e",
       "version_major": 2,
       "version_minor": 0
      },
      "text/plain": [
       "Iteration T: 21:   0%|          | 0/10903 [00:00<?, ?it/s]"
      ]
     },
     "metadata": {},
     "output_type": "display_data"
    },
    {
     "data": {
      "application/vnd.jupyter.widget-view+json": {
       "model_id": "1cbae6b7f0344789837b62af9cd5a73f",
       "version_major": 2,
       "version_minor": 0
      },
      "text/plain": [
       "Iteration T: 22:   0%|          | 0/10903 [00:00<?, ?it/s]"
      ]
     },
     "metadata": {},
     "output_type": "display_data"
    },
    {
     "data": {
      "application/vnd.jupyter.widget-view+json": {
       "model_id": "431834caa26c428083fa2e5be791eee6",
       "version_major": 2,
       "version_minor": 0
      },
      "text/plain": [
       "Iteration T: 23:   0%|          | 0/10903 [00:00<?, ?it/s]"
      ]
     },
     "metadata": {},
     "output_type": "display_data"
    },
    {
     "data": {
      "application/vnd.jupyter.widget-view+json": {
       "model_id": "6630181a3e904861b842a548c84fa464",
       "version_major": 2,
       "version_minor": 0
      },
      "text/plain": [
       "Iteration T: 24:   0%|          | 0/10903 [00:00<?, ?it/s]"
      ]
     },
     "metadata": {},
     "output_type": "display_data"
    },
    {
     "data": {
      "application/vnd.jupyter.widget-view+json": {
       "model_id": "9aa79cb9387742f4bc131c3321889ee0",
       "version_major": 2,
       "version_minor": 0
      },
      "text/plain": [
       "Iteration T: 25:   0%|          | 0/10903 [00:00<?, ?it/s]"
      ]
     },
     "metadata": {},
     "output_type": "display_data"
    },
    {
     "data": {
      "application/vnd.jupyter.widget-view+json": {
       "model_id": "56cc424813964d23b6c55b1e5e899545",
       "version_major": 2,
       "version_minor": 0
      },
      "text/plain": [
       "Iteration T: 26:   0%|          | 0/10903 [00:00<?, ?it/s]"
      ]
     },
     "metadata": {},
     "output_type": "display_data"
    },
    {
     "data": {
      "application/vnd.jupyter.widget-view+json": {
       "model_id": "1615c13e02ee48a2ad63d3ee440fa9e4",
       "version_major": 2,
       "version_minor": 0
      },
      "text/plain": [
       "Iteration T: 27:   0%|          | 0/10903 [00:00<?, ?it/s]"
      ]
     },
     "metadata": {},
     "output_type": "display_data"
    },
    {
     "data": {
      "application/vnd.jupyter.widget-view+json": {
       "model_id": "4a5a89f8587a4c538240d47a0c232883",
       "version_major": 2,
       "version_minor": 0
      },
      "text/plain": [
       "Iteration T: 28:   0%|          | 0/10903 [00:00<?, ?it/s]"
      ]
     },
     "metadata": {},
     "output_type": "display_data"
    },
    {
     "data": {
      "application/vnd.jupyter.widget-view+json": {
       "model_id": "22d27c54f743420884381ab4b5df7c7e",
       "version_major": 2,
       "version_minor": 0
      },
      "text/plain": [
       "Iteration T: 29:   0%|          | 0/10903 [00:00<?, ?it/s]"
      ]
     },
     "metadata": {},
     "output_type": "display_data"
    },
    {
     "data": {
      "application/vnd.jupyter.widget-view+json": {
       "model_id": "c78bde7d19b2438598574ddd8b9e0440",
       "version_major": 2,
       "version_minor": 0
      },
      "text/plain": [
       "Iteration T: 30:   0%|          | 0/10903 [00:00<?, ?it/s]"
      ]
     },
     "metadata": {},
     "output_type": "display_data"
    },
    {
     "data": {
      "application/vnd.jupyter.widget-view+json": {
       "model_id": "39b844f365d44ab6986fe1fd0582920a",
       "version_major": 2,
       "version_minor": 0
      },
      "text/plain": [
       "Iteration T: 31:   0%|          | 0/10903 [00:00<?, ?it/s]"
      ]
     },
     "metadata": {},
     "output_type": "display_data"
    },
    {
     "data": {
      "application/vnd.jupyter.widget-view+json": {
       "model_id": "cb855ab61a4d4cbab297f9fb4b950c68",
       "version_major": 2,
       "version_minor": 0
      },
      "text/plain": [
       "Iteration T: 32:   0%|          | 0/10903 [00:00<?, ?it/s]"
      ]
     },
     "metadata": {},
     "output_type": "display_data"
    },
    {
     "data": {
      "application/vnd.jupyter.widget-view+json": {
       "model_id": "a518cc4da2b64917a9dd8a687ee812c4",
       "version_major": 2,
       "version_minor": 0
      },
      "text/plain": [
       "Iteration T: 33:   0%|          | 0/10903 [00:00<?, ?it/s]"
      ]
     },
     "metadata": {},
     "output_type": "display_data"
    },
    {
     "data": {
      "application/vnd.jupyter.widget-view+json": {
       "model_id": "057a88ee5fb442ef9bd5d27f43ba281f",
       "version_major": 2,
       "version_minor": 0
      },
      "text/plain": [
       "Iteration T: 34:   0%|          | 0/10903 [00:00<?, ?it/s]"
      ]
     },
     "metadata": {},
     "output_type": "display_data"
    },
    {
     "data": {
      "application/vnd.jupyter.widget-view+json": {
       "model_id": "0a6dda1b76664c86879e63979fd853e4",
       "version_major": 2,
       "version_minor": 0
      },
      "text/plain": [
       "Iteration T: 35:   0%|          | 0/10903 [00:00<?, ?it/s]"
      ]
     },
     "metadata": {},
     "output_type": "display_data"
    },
    {
     "data": {
      "application/vnd.jupyter.widget-view+json": {
       "model_id": "272545aaf1a94fbe92ee57d1da1afc3b",
       "version_major": 2,
       "version_minor": 0
      },
      "text/plain": [
       "Iteration T: 36:   0%|          | 0/10903 [00:00<?, ?it/s]"
      ]
     },
     "metadata": {},
     "output_type": "display_data"
    },
    {
     "data": {
      "application/vnd.jupyter.widget-view+json": {
       "model_id": "09e28ca8d9154e88a2b3c869ff977a3c",
       "version_major": 2,
       "version_minor": 0
      },
      "text/plain": [
       "Iteration T: 37:   0%|          | 0/10903 [00:00<?, ?it/s]"
      ]
     },
     "metadata": {},
     "output_type": "display_data"
    },
    {
     "data": {
      "application/vnd.jupyter.widget-view+json": {
       "model_id": "f8768367775a4eb08522a12b25566dc5",
       "version_major": 2,
       "version_minor": 0
      },
      "text/plain": [
       "Iteration T: 38:   0%|          | 0/10903 [00:00<?, ?it/s]"
      ]
     },
     "metadata": {},
     "output_type": "display_data"
    },
    {
     "data": {
      "application/vnd.jupyter.widget-view+json": {
       "model_id": "4dadc53f9df142e3ae7d042224c1c374",
       "version_major": 2,
       "version_minor": 0
      },
      "text/plain": [
       "Iteration T: 39:   0%|          | 0/10903 [00:00<?, ?it/s]"
      ]
     },
     "metadata": {},
     "output_type": "display_data"
    },
    {
     "data": {
      "application/vnd.jupyter.widget-view+json": {
       "model_id": "9fe1f970aea4430f851ac68503588f79",
       "version_major": 2,
       "version_minor": 0
      },
      "text/plain": [
       "Iteration T: 40:   0%|          | 0/10903 [00:00<?, ?it/s]"
      ]
     },
     "metadata": {},
     "output_type": "display_data"
    },
    {
     "data": {
      "application/vnd.jupyter.widget-view+json": {
       "model_id": "539e986bbef343c195c48d102d881d5e",
       "version_major": 2,
       "version_minor": 0
      },
      "text/plain": [
       "Iteration T: 41:   0%|          | 0/10903 [00:00<?, ?it/s]"
      ]
     },
     "metadata": {},
     "output_type": "display_data"
    },
    {
     "data": {
      "application/vnd.jupyter.widget-view+json": {
       "model_id": "70bf3de143d84f0283f10589a222e4e1",
       "version_major": 2,
       "version_minor": 0
      },
      "text/plain": [
       "Iteration T: 42:   0%|          | 0/10903 [00:00<?, ?it/s]"
      ]
     },
     "metadata": {},
     "output_type": "display_data"
    },
    {
     "data": {
      "application/vnd.jupyter.widget-view+json": {
       "model_id": "7ae648a3e474459bab3677346739791f",
       "version_major": 2,
       "version_minor": 0
      },
      "text/plain": [
       "Iteration T: 43:   0%|          | 0/10903 [00:00<?, ?it/s]"
      ]
     },
     "metadata": {},
     "output_type": "display_data"
    },
    {
     "data": {
      "application/vnd.jupyter.widget-view+json": {
       "model_id": "ff1942fcc4b34226b2670f137fa69728",
       "version_major": 2,
       "version_minor": 0
      },
      "text/plain": [
       "Iteration T: 44:   0%|          | 0/10903 [00:00<?, ?it/s]"
      ]
     },
     "metadata": {},
     "output_type": "display_data"
    },
    {
     "data": {
      "application/vnd.jupyter.widget-view+json": {
       "model_id": "4b34a41b0ed04487bbe573bc99ac40c6",
       "version_major": 2,
       "version_minor": 0
      },
      "text/plain": [
       "Iteration T: 45:   0%|          | 0/10903 [00:00<?, ?it/s]"
      ]
     },
     "metadata": {},
     "output_type": "display_data"
    },
    {
     "data": {
      "application/vnd.jupyter.widget-view+json": {
       "model_id": "eea42c5b5b8e46fba8506e41510ae9b1",
       "version_major": 2,
       "version_minor": 0
      },
      "text/plain": [
       "Iteration T: 46:   0%|          | 0/10903 [00:00<?, ?it/s]"
      ]
     },
     "metadata": {},
     "output_type": "display_data"
    },
    {
     "data": {
      "application/vnd.jupyter.widget-view+json": {
       "model_id": "ff2b6ed62f5047ee9391ee69a712beb5",
       "version_major": 2,
       "version_minor": 0
      },
      "text/plain": [
       "Iteration T: 47:   0%|          | 0/10903 [00:00<?, ?it/s]"
      ]
     },
     "metadata": {},
     "output_type": "display_data"
    },
    {
     "data": {
      "application/vnd.jupyter.widget-view+json": {
       "model_id": "a925db39893544a3990b8abe57170fd9",
       "version_major": 2,
       "version_minor": 0
      },
      "text/plain": [
       "Iteration T: 48:   0%|          | 0/10903 [00:00<?, ?it/s]"
      ]
     },
     "metadata": {},
     "output_type": "display_data"
    },
    {
     "data": {
      "application/vnd.jupyter.widget-view+json": {
       "model_id": "6948daffc8784ab38920e6c5d1bf823e",
       "version_major": 2,
       "version_minor": 0
      },
      "text/plain": [
       "Iteration T: 49:   0%|          | 0/10903 [00:00<?, ?it/s]"
      ]
     },
     "metadata": {},
     "output_type": "display_data"
    },
    {
     "data": {
      "application/vnd.jupyter.widget-view+json": {
       "model_id": "6d85239fb26b4200974a4fec58e4cbe7",
       "version_major": 2,
       "version_minor": 0
      },
      "text/plain": [
       "Iteration T: 0:   0%|          | 0/10903 [00:00<?, ?it/s]"
      ]
     },
     "metadata": {},
     "output_type": "display_data"
    },
    {
     "data": {
      "application/vnd.jupyter.widget-view+json": {
       "model_id": "a5e95948c4de4becb60547fe5a8d1b6e",
       "version_major": 2,
       "version_minor": 0
      },
      "text/plain": [
       "Iteration T: 1:   0%|          | 0/10903 [00:00<?, ?it/s]"
      ]
     },
     "metadata": {},
     "output_type": "display_data"
    },
    {
     "data": {
      "application/vnd.jupyter.widget-view+json": {
       "model_id": "99822ccac1bb47789518367122bc64bc",
       "version_major": 2,
       "version_minor": 0
      },
      "text/plain": [
       "Iteration T: 2:   0%|          | 0/10903 [00:00<?, ?it/s]"
      ]
     },
     "metadata": {},
     "output_type": "display_data"
    },
    {
     "data": {
      "application/vnd.jupyter.widget-view+json": {
       "model_id": "3e113818b7a04c43a1940d3fe0d22bd0",
       "version_major": 2,
       "version_minor": 0
      },
      "text/plain": [
       "Iteration T: 3:   0%|          | 0/10903 [00:00<?, ?it/s]"
      ]
     },
     "metadata": {},
     "output_type": "display_data"
    },
    {
     "data": {
      "application/vnd.jupyter.widget-view+json": {
       "model_id": "d25266411ff0421cb7e4d54f390daa46",
       "version_major": 2,
       "version_minor": 0
      },
      "text/plain": [
       "Iteration T: 4:   0%|          | 0/10903 [00:00<?, ?it/s]"
      ]
     },
     "metadata": {},
     "output_type": "display_data"
    },
    {
     "data": {
      "application/vnd.jupyter.widget-view+json": {
       "model_id": "fa8219d28da14e5eb7d6a15b5cf5b260",
       "version_major": 2,
       "version_minor": 0
      },
      "text/plain": [
       "Iteration T: 5:   0%|          | 0/10903 [00:00<?, ?it/s]"
      ]
     },
     "metadata": {},
     "output_type": "display_data"
    },
    {
     "data": {
      "application/vnd.jupyter.widget-view+json": {
       "model_id": "899056609bcd4628be100ad0bcaf31d8",
       "version_major": 2,
       "version_minor": 0
      },
      "text/plain": [
       "Iteration T: 6:   0%|          | 0/10903 [00:00<?, ?it/s]"
      ]
     },
     "metadata": {},
     "output_type": "display_data"
    },
    {
     "data": {
      "application/vnd.jupyter.widget-view+json": {
       "model_id": "025e73d70c70494eaba841fb101f5f1c",
       "version_major": 2,
       "version_minor": 0
      },
      "text/plain": [
       "Iteration T: 7:   0%|          | 0/10903 [00:00<?, ?it/s]"
      ]
     },
     "metadata": {},
     "output_type": "display_data"
    },
    {
     "data": {
      "application/vnd.jupyter.widget-view+json": {
       "model_id": "3c0d9f7f82f84692888dcb3028065dac",
       "version_major": 2,
       "version_minor": 0
      },
      "text/plain": [
       "Iteration T: 8:   0%|          | 0/10903 [00:00<?, ?it/s]"
      ]
     },
     "metadata": {},
     "output_type": "display_data"
    },
    {
     "data": {
      "application/vnd.jupyter.widget-view+json": {
       "model_id": "a7be527f854c41bfad26f88ac4953b81",
       "version_major": 2,
       "version_minor": 0
      },
      "text/plain": [
       "Iteration T: 9:   0%|          | 0/10903 [00:00<?, ?it/s]"
      ]
     },
     "metadata": {},
     "output_type": "display_data"
    },
    {
     "data": {
      "application/vnd.jupyter.widget-view+json": {
       "model_id": "e280e48baadd40819c57b89804fcb327",
       "version_major": 2,
       "version_minor": 0
      },
      "text/plain": [
       "Iteration T: 10:   0%|          | 0/10903 [00:00<?, ?it/s]"
      ]
     },
     "metadata": {},
     "output_type": "display_data"
    },
    {
     "data": {
      "application/vnd.jupyter.widget-view+json": {
       "model_id": "7d65f46a5c3a4d17a18dd81d9f6a381d",
       "version_major": 2,
       "version_minor": 0
      },
      "text/plain": [
       "Iteration T: 11:   0%|          | 0/10903 [00:00<?, ?it/s]"
      ]
     },
     "metadata": {},
     "output_type": "display_data"
    },
    {
     "data": {
      "application/vnd.jupyter.widget-view+json": {
       "model_id": "477b32fa711542d8bab0a21082f817a1",
       "version_major": 2,
       "version_minor": 0
      },
      "text/plain": [
       "Iteration T: 12:   0%|          | 0/10903 [00:00<?, ?it/s]"
      ]
     },
     "metadata": {},
     "output_type": "display_data"
    },
    {
     "data": {
      "application/vnd.jupyter.widget-view+json": {
       "model_id": "bc248fbb9bff4c1e87edefd39d05dc63",
       "version_major": 2,
       "version_minor": 0
      },
      "text/plain": [
       "Iteration T: 13:   0%|          | 0/10903 [00:00<?, ?it/s]"
      ]
     },
     "metadata": {},
     "output_type": "display_data"
    },
    {
     "data": {
      "application/vnd.jupyter.widget-view+json": {
       "model_id": "9fc09f5c05eb44f99ae6aa38609ef11d",
       "version_major": 2,
       "version_minor": 0
      },
      "text/plain": [
       "Iteration T: 14:   0%|          | 0/10903 [00:00<?, ?it/s]"
      ]
     },
     "metadata": {},
     "output_type": "display_data"
    },
    {
     "data": {
      "application/vnd.jupyter.widget-view+json": {
       "model_id": "5d88104f0e5a4eea80268d5f2a799e33",
       "version_major": 2,
       "version_minor": 0
      },
      "text/plain": [
       "Iteration T: 15:   0%|          | 0/10903 [00:00<?, ?it/s]"
      ]
     },
     "metadata": {},
     "output_type": "display_data"
    },
    {
     "data": {
      "application/vnd.jupyter.widget-view+json": {
       "model_id": "1e25ba25a62b44b6a483e28d056dfd99",
       "version_major": 2,
       "version_minor": 0
      },
      "text/plain": [
       "Iteration T: 16:   0%|          | 0/10903 [00:00<?, ?it/s]"
      ]
     },
     "metadata": {},
     "output_type": "display_data"
    },
    {
     "data": {
      "application/vnd.jupyter.widget-view+json": {
       "model_id": "5f81bc396fdd48a695b235537ab8f489",
       "version_major": 2,
       "version_minor": 0
      },
      "text/plain": [
       "Iteration T: 17:   0%|          | 0/10903 [00:00<?, ?it/s]"
      ]
     },
     "metadata": {},
     "output_type": "display_data"
    },
    {
     "data": {
      "application/vnd.jupyter.widget-view+json": {
       "model_id": "23f262b7f9be4282a18d464b16808dcf",
       "version_major": 2,
       "version_minor": 0
      },
      "text/plain": [
       "Iteration T: 18:   0%|          | 0/10903 [00:00<?, ?it/s]"
      ]
     },
     "metadata": {},
     "output_type": "display_data"
    },
    {
     "data": {
      "application/vnd.jupyter.widget-view+json": {
       "model_id": "bb9d088ddf584d2d99a4b169a2364fa1",
       "version_major": 2,
       "version_minor": 0
      },
      "text/plain": [
       "Iteration T: 19:   0%|          | 0/10903 [00:00<?, ?it/s]"
      ]
     },
     "metadata": {},
     "output_type": "display_data"
    },
    {
     "data": {
      "application/vnd.jupyter.widget-view+json": {
       "model_id": "53814b2485dc42f4b784fe152c5a60c1",
       "version_major": 2,
       "version_minor": 0
      },
      "text/plain": [
       "Iteration T: 20:   0%|          | 0/10903 [00:00<?, ?it/s]"
      ]
     },
     "metadata": {},
     "output_type": "display_data"
    },
    {
     "data": {
      "application/vnd.jupyter.widget-view+json": {
       "model_id": "b0056e086ca44e1087e1b53b09998858",
       "version_major": 2,
       "version_minor": 0
      },
      "text/plain": [
       "Iteration T: 21:   0%|          | 0/10903 [00:00<?, ?it/s]"
      ]
     },
     "metadata": {},
     "output_type": "display_data"
    },
    {
     "data": {
      "application/vnd.jupyter.widget-view+json": {
       "model_id": "cd701f0ff0644842aeeb3de4cc8ca54f",
       "version_major": 2,
       "version_minor": 0
      },
      "text/plain": [
       "Iteration T: 22:   0%|          | 0/10903 [00:00<?, ?it/s]"
      ]
     },
     "metadata": {},
     "output_type": "display_data"
    },
    {
     "data": {
      "application/vnd.jupyter.widget-view+json": {
       "model_id": "d4bd25e89ef14e3aa5fe1eb61a785431",
       "version_major": 2,
       "version_minor": 0
      },
      "text/plain": [
       "Iteration T: 23:   0%|          | 0/10903 [00:00<?, ?it/s]"
      ]
     },
     "metadata": {},
     "output_type": "display_data"
    },
    {
     "data": {
      "application/vnd.jupyter.widget-view+json": {
       "model_id": "31c2a78588fe479d8d197894956039ce",
       "version_major": 2,
       "version_minor": 0
      },
      "text/plain": [
       "Iteration T: 24:   0%|          | 0/10903 [00:00<?, ?it/s]"
      ]
     },
     "metadata": {},
     "output_type": "display_data"
    },
    {
     "data": {
      "application/vnd.jupyter.widget-view+json": {
       "model_id": "216a284338dd46ff89bd87a08315d552",
       "version_major": 2,
       "version_minor": 0
      },
      "text/plain": [
       "Iteration T: 25:   0%|          | 0/10903 [00:00<?, ?it/s]"
      ]
     },
     "metadata": {},
     "output_type": "display_data"
    },
    {
     "data": {
      "application/vnd.jupyter.widget-view+json": {
       "model_id": "c12b3af18f0048acb3db88f3678d801b",
       "version_major": 2,
       "version_minor": 0
      },
      "text/plain": [
       "Iteration T: 26:   0%|          | 0/10903 [00:00<?, ?it/s]"
      ]
     },
     "metadata": {},
     "output_type": "display_data"
    },
    {
     "data": {
      "application/vnd.jupyter.widget-view+json": {
       "model_id": "b3009ea593e04951afae0036f5e9a0a7",
       "version_major": 2,
       "version_minor": 0
      },
      "text/plain": [
       "Iteration T: 27:   0%|          | 0/10903 [00:00<?, ?it/s]"
      ]
     },
     "metadata": {},
     "output_type": "display_data"
    },
    {
     "data": {
      "application/vnd.jupyter.widget-view+json": {
       "model_id": "86b7abbfcb2b4be1941f6f2022ea1cd1",
       "version_major": 2,
       "version_minor": 0
      },
      "text/plain": [
       "Iteration T: 28:   0%|          | 0/10903 [00:00<?, ?it/s]"
      ]
     },
     "metadata": {},
     "output_type": "display_data"
    },
    {
     "data": {
      "application/vnd.jupyter.widget-view+json": {
       "model_id": "c91bbc607d794586b51ff566ea5bdc17",
       "version_major": 2,
       "version_minor": 0
      },
      "text/plain": [
       "Iteration T: 29:   0%|          | 0/10903 [00:00<?, ?it/s]"
      ]
     },
     "metadata": {},
     "output_type": "display_data"
    },
    {
     "data": {
      "application/vnd.jupyter.widget-view+json": {
       "model_id": "be17800b70c3491bb3b0d30b2a7e0631",
       "version_major": 2,
       "version_minor": 0
      },
      "text/plain": [
       "Iteration T: 30:   0%|          | 0/10903 [00:00<?, ?it/s]"
      ]
     },
     "metadata": {},
     "output_type": "display_data"
    },
    {
     "data": {
      "application/vnd.jupyter.widget-view+json": {
       "model_id": "20882f71e2d448218978d7de6fbb8564",
       "version_major": 2,
       "version_minor": 0
      },
      "text/plain": [
       "Iteration T: 31:   0%|          | 0/10903 [00:00<?, ?it/s]"
      ]
     },
     "metadata": {},
     "output_type": "display_data"
    },
    {
     "data": {
      "application/vnd.jupyter.widget-view+json": {
       "model_id": "6691ac3e8d0f4146ac3a6b21af561b6f",
       "version_major": 2,
       "version_minor": 0
      },
      "text/plain": [
       "Iteration T: 32:   0%|          | 0/10903 [00:00<?, ?it/s]"
      ]
     },
     "metadata": {},
     "output_type": "display_data"
    },
    {
     "data": {
      "application/vnd.jupyter.widget-view+json": {
       "model_id": "650da785b89344b5b5ce0f1a89bb0c19",
       "version_major": 2,
       "version_minor": 0
      },
      "text/plain": [
       "Iteration T: 33:   0%|          | 0/10903 [00:00<?, ?it/s]"
      ]
     },
     "metadata": {},
     "output_type": "display_data"
    },
    {
     "data": {
      "application/vnd.jupyter.widget-view+json": {
       "model_id": "5f445fb048004f56a91cdb8b7b9d7124",
       "version_major": 2,
       "version_minor": 0
      },
      "text/plain": [
       "Iteration T: 34:   0%|          | 0/10903 [00:00<?, ?it/s]"
      ]
     },
     "metadata": {},
     "output_type": "display_data"
    },
    {
     "data": {
      "application/vnd.jupyter.widget-view+json": {
       "model_id": "a48eb608e17a43cea48408473df0a594",
       "version_major": 2,
       "version_minor": 0
      },
      "text/plain": [
       "Iteration T: 35:   0%|          | 0/10903 [00:00<?, ?it/s]"
      ]
     },
     "metadata": {},
     "output_type": "display_data"
    },
    {
     "data": {
      "application/vnd.jupyter.widget-view+json": {
       "model_id": "f6420f9ff1cb424ca22a94a4edd6150a",
       "version_major": 2,
       "version_minor": 0
      },
      "text/plain": [
       "Iteration T: 36:   0%|          | 0/10903 [00:00<?, ?it/s]"
      ]
     },
     "metadata": {},
     "output_type": "display_data"
    },
    {
     "data": {
      "application/vnd.jupyter.widget-view+json": {
       "model_id": "09b1cfed8a2c4060a969edda4141511a",
       "version_major": 2,
       "version_minor": 0
      },
      "text/plain": [
       "Iteration T: 37:   0%|          | 0/10903 [00:00<?, ?it/s]"
      ]
     },
     "metadata": {},
     "output_type": "display_data"
    },
    {
     "data": {
      "application/vnd.jupyter.widget-view+json": {
       "model_id": "479f5f72135845e0ac09df60ccf3ab81",
       "version_major": 2,
       "version_minor": 0
      },
      "text/plain": [
       "Iteration T: 38:   0%|          | 0/10903 [00:00<?, ?it/s]"
      ]
     },
     "metadata": {},
     "output_type": "display_data"
    },
    {
     "data": {
      "application/vnd.jupyter.widget-view+json": {
       "model_id": "aa61f9ab566b4ce2b6e2e12486421004",
       "version_major": 2,
       "version_minor": 0
      },
      "text/plain": [
       "Iteration T: 39:   0%|          | 0/10903 [00:00<?, ?it/s]"
      ]
     },
     "metadata": {},
     "output_type": "display_data"
    },
    {
     "data": {
      "application/vnd.jupyter.widget-view+json": {
       "model_id": "a30d7a23d8d74ce4893d8f7dd2d73e60",
       "version_major": 2,
       "version_minor": 0
      },
      "text/plain": [
       "Iteration T: 40:   0%|          | 0/10903 [00:00<?, ?it/s]"
      ]
     },
     "metadata": {},
     "output_type": "display_data"
    },
    {
     "data": {
      "application/vnd.jupyter.widget-view+json": {
       "model_id": "30df025988504cf8a76013d38927fb21",
       "version_major": 2,
       "version_minor": 0
      },
      "text/plain": [
       "Iteration T: 41:   0%|          | 0/10903 [00:00<?, ?it/s]"
      ]
     },
     "metadata": {},
     "output_type": "display_data"
    },
    {
     "data": {
      "application/vnd.jupyter.widget-view+json": {
       "model_id": "775ae632abb440e09f375535ac86a4aa",
       "version_major": 2,
       "version_minor": 0
      },
      "text/plain": [
       "Iteration T: 42:   0%|          | 0/10903 [00:00<?, ?it/s]"
      ]
     },
     "metadata": {},
     "output_type": "display_data"
    },
    {
     "data": {
      "application/vnd.jupyter.widget-view+json": {
       "model_id": "f73240c79baa4b818c062c50a5707cbc",
       "version_major": 2,
       "version_minor": 0
      },
      "text/plain": [
       "Iteration T: 43:   0%|          | 0/10903 [00:00<?, ?it/s]"
      ]
     },
     "metadata": {},
     "output_type": "display_data"
    },
    {
     "data": {
      "application/vnd.jupyter.widget-view+json": {
       "model_id": "a61ef9e0dd5f42bb81b825ca137826cc",
       "version_major": 2,
       "version_minor": 0
      },
      "text/plain": [
       "Iteration T: 44:   0%|          | 0/10903 [00:00<?, ?it/s]"
      ]
     },
     "metadata": {},
     "output_type": "display_data"
    },
    {
     "data": {
      "application/vnd.jupyter.widget-view+json": {
       "model_id": "805c2e019328492d9f418c88fa1d1805",
       "version_major": 2,
       "version_minor": 0
      },
      "text/plain": [
       "Iteration T: 45:   0%|          | 0/10903 [00:00<?, ?it/s]"
      ]
     },
     "metadata": {},
     "output_type": "display_data"
    },
    {
     "data": {
      "application/vnd.jupyter.widget-view+json": {
       "model_id": "b606c86a5eea4c4088e1482ca9b62a37",
       "version_major": 2,
       "version_minor": 0
      },
      "text/plain": [
       "Iteration T: 46:   0%|          | 0/10903 [00:00<?, ?it/s]"
      ]
     },
     "metadata": {},
     "output_type": "display_data"
    },
    {
     "data": {
      "application/vnd.jupyter.widget-view+json": {
       "model_id": "551a511087d947cd9040c00525d25fa1",
       "version_major": 2,
       "version_minor": 0
      },
      "text/plain": [
       "Iteration T: 47:   0%|          | 0/10903 [00:00<?, ?it/s]"
      ]
     },
     "metadata": {},
     "output_type": "display_data"
    },
    {
     "data": {
      "application/vnd.jupyter.widget-view+json": {
       "model_id": "37c21c895fa54dadbe3173533a8695e1",
       "version_major": 2,
       "version_minor": 0
      },
      "text/plain": [
       "Iteration T: 48:   0%|          | 0/10903 [00:00<?, ?it/s]"
      ]
     },
     "metadata": {},
     "output_type": "display_data"
    },
    {
     "data": {
      "application/vnd.jupyter.widget-view+json": {
       "model_id": "1074f30f90d24557afa34f9d25fc235c",
       "version_major": 2,
       "version_minor": 0
      },
      "text/plain": [
       "Iteration T: 49:   0%|          | 0/10903 [00:00<?, ?it/s]"
      ]
     },
     "metadata": {},
     "output_type": "display_data"
    },
    {
     "name": "stdout",
     "output_type": "stream",
     "text": [
      "Pegasos valid: tune L [(0.001, 0.9196477710511832), (0.01, 0.9053384700055036), (0.1, 0.8318657127132636), (1, 0.7157402311502477), (10, 0.7157402311502477)]\n",
      "best = 0.9196, L=0.0010\n"
     ]
    }
   ],
   "source": [
    "data = (X_train, Y_train, X_validate, Y_validate)\n",
    "\n",
    "# values of T and lambda to try\n",
    "Ts = [1, 5, 10, 15, 25, 50]\n",
    "Ls = [0.001, 0.01, 0.1, 1, 10]\n",
    "\n",
    "pct_tune_results = clf.tune_perceptron(Ts, *data)\n",
    "print('perceptron valid:', list(zip(Ts, pct_tune_results[1])))\n",
    "print('best = {:.4f}, T={:.4f}'.format(np.max(pct_tune_results[1]), Ts[np.argmax(pct_tune_results[1])]))\n",
    "\n",
    "avg_pct_tune_results = clf.tune_avg_perceptron(Ts, *data)\n",
    "print('avg perceptron valid:', list(zip(Ts, avg_pct_tune_results[1])))\n",
    "print('best = {:.4f}, T={:.4f}'.format(np.max(avg_pct_tune_results[1]), Ts[np.argmax(avg_pct_tune_results[1])]))\n",
    "\n",
    "# fix values for L and T while tuning Pegasos T and L, respective\n",
    "fix_L = 0.01\n",
    "peg_tune_results_T = clf.tune_pegasos_T(fix_L, Ts, *data)\n",
    "print('Pegasos valid: tune T', list(zip(Ts, peg_tune_results_T[1])))\n",
    "print('best = {:.4f}, T={:.4f}'.format(np.max(peg_tune_results_T[1]), Ts[np.argmax(peg_tune_results_T[1])]))\n",
    "\n",
    "fix_T = Ts[np.argmax(peg_tune_results_T[1])]\n",
    "peg_tune_results_L = clf.tune_pegasos_L(fix_T, Ls, *data)\n",
    "print('Pegasos valid: tune L', list(zip(Ls, peg_tune_results_L[1])))\n",
    "print('best = {:.4f}, L={:.4f}'.format(np.max(peg_tune_results_L[1]), Ls[np.argmax(peg_tune_results_L[1])]))\n"
   ]
  },
  {
   "cell_type": "code",
   "execution_count": 449,
   "id": "8fdf35a4",
   "metadata": {},
   "outputs": [
    {
     "data": {
      "image/png": "[encoded data removed]",
      "text/plain": [
       "<Figure size 432x288 with 1 Axes>"
      ]
     },
     "metadata": {
      "needs_background": "light"
     },
     "output_type": "display_data"
    },
    {
     "data": {
      "image/png": "[encoded data removed]",
      "text/plain": [
       "<Figure size 432x288 with 1 Axes>"
      ]
     },
     "metadata": {
      "needs_background": "light"
     },
     "output_type": "display_data"
    },
    {
     "data": {
      "image/png": "[encoded data removed]",
      "text/plain": [
       "<Figure size 432x288 with 1 Axes>"
      ]
     },
     "metadata": {
      "needs_background": "light"
     },
     "output_type": "display_data"
    },
    {
     "data": {
      "image/png": "[encoded data removed]",
      "text/plain": [
       "<Figure size 432x288 with 1 Axes>"
      ]
     },
     "metadata": {
      "needs_background": "light"
     },
     "output_type": "display_data"
    }
   ],
   "source": [
    "utils.plot_tune_results('Perceptron', 'T', Ts, *pct_tune_results)\n",
    "utils.plot_tune_results('Avg Perceptron', 'T', Ts, *avg_pct_tune_results)\n",
    "utils.plot_tune_results('Pegasos', 'T', Ts, *peg_tune_results_T)\n",
    "utils.plot_tune_results('Pegasos', 'L', Ls, *peg_tune_results_L)"
   ]
  },
  {
   "cell_type": "code",
   "execution_count": 453,
   "id": "31fb9d3b",
   "metadata": {},
   "outputs": [
    {
     "data": {
      "application/vnd.jupyter.widget-view+json": {
       "model_id": "2d24ef8c7cf9470e8102ca62f9df2895",
       "version_major": 2,
       "version_minor": 0
      },
      "text/plain": [
       "Iteration T: 0:   0%|          | 0/10903 [00:00<?, ?it/s]"
      ]
     },
     "metadata": {},
     "output_type": "display_data"
    },
    {
     "data": {
      "application/vnd.jupyter.widget-view+json": {
       "model_id": "803aa52a9d4e480795aec2615b2fc435",
       "version_major": 2,
       "version_minor": 0
      },
      "text/plain": [
       "Iteration T: 1:   0%|          | 0/10903 [00:00<?, ?it/s]"
      ]
     },
     "metadata": {},
     "output_type": "display_data"
    },
    {
     "data": {
      "application/vnd.jupyter.widget-view+json": {
       "model_id": "dc275f3e5cf244a1b63e6387b2aa30e1",
       "version_major": 2,
       "version_minor": 0
      },
      "text/plain": [
       "Iteration T: 2:   0%|          | 0/10903 [00:00<?, ?it/s]"
      ]
     },
     "metadata": {},
     "output_type": "display_data"
    },
    {
     "data": {
      "application/vnd.jupyter.widget-view+json": {
       "model_id": "78debc8a7f7142c7b6486877eed09d22",
       "version_major": 2,
       "version_minor": 0
      },
      "text/plain": [
       "Iteration T: 3:   0%|          | 0/10903 [00:00<?, ?it/s]"
      ]
     },
     "metadata": {},
     "output_type": "display_data"
    },
    {
     "data": {
      "application/vnd.jupyter.widget-view+json": {
       "model_id": "1faef227d3364f6686b9805711d6f69a",
       "version_major": 2,
       "version_minor": 0
      },
      "text/plain": [
       "Iteration T: 4:   0%|          | 0/10903 [00:00<?, ?it/s]"
      ]
     },
     "metadata": {},
     "output_type": "display_data"
    },
    {
     "data": {
      "application/vnd.jupyter.widget-view+json": {
       "model_id": "a9172a30dd1d4b029a1e5576d75d15e5",
       "version_major": 2,
       "version_minor": 0
      },
      "text/plain": [
       "Iteration T: 5:   0%|          | 0/10903 [00:00<?, ?it/s]"
      ]
     },
     "metadata": {},
     "output_type": "display_data"
    },
    {
     "data": {
      "application/vnd.jupyter.widget-view+json": {
       "model_id": "0c5ef6cb16c74ad5a5d96b9b0f1653c5",
       "version_major": 2,
       "version_minor": 0
      },
      "text/plain": [
       "Iteration T: 6:   0%|          | 0/10903 [00:00<?, ?it/s]"
      ]
     },
     "metadata": {},
     "output_type": "display_data"
    },
    {
     "data": {
      "application/vnd.jupyter.widget-view+json": {
       "model_id": "8c965411dfb84e5a9da4af1a33242d90",
       "version_major": 2,
       "version_minor": 0
      },
      "text/plain": [
       "Iteration T: 7:   0%|          | 0/10903 [00:00<?, ?it/s]"
      ]
     },
     "metadata": {},
     "output_type": "display_data"
    },
    {
     "data": {
      "application/vnd.jupyter.widget-view+json": {
       "model_id": "b6272bf4845a42c0b7b21e2b674d7fee",
       "version_major": 2,
       "version_minor": 0
      },
      "text/plain": [
       "Iteration T: 8:   0%|          | 0/10903 [00:00<?, ?it/s]"
      ]
     },
     "metadata": {},
     "output_type": "display_data"
    },
    {
     "data": {
      "application/vnd.jupyter.widget-view+json": {
       "model_id": "e683af2f191e409fae6455bba08d1607",
       "version_major": 2,
       "version_minor": 0
      },
      "text/plain": [
       "Iteration T: 9:   0%|          | 0/10903 [00:00<?, ?it/s]"
      ]
     },
     "metadata": {},
     "output_type": "display_data"
    },
    {
     "data": {
      "application/vnd.jupyter.widget-view+json": {
       "model_id": "c1f1a9425e414c8a89fb1992d0b0fb8b",
       "version_major": 2,
       "version_minor": 0
      },
      "text/plain": [
       "Iteration T: 10:   0%|          | 0/10903 [00:00<?, ?it/s]"
      ]
     },
     "metadata": {},
     "output_type": "display_data"
    },
    {
     "data": {
      "application/vnd.jupyter.widget-view+json": {
       "model_id": "570666e35bc94f288d7b7ef6a163fa46",
       "version_major": 2,
       "version_minor": 0
      },
      "text/plain": [
       "Iteration T: 11:   0%|          | 0/10903 [00:00<?, ?it/s]"
      ]
     },
     "metadata": {},
     "output_type": "display_data"
    },
    {
     "data": {
      "application/vnd.jupyter.widget-view+json": {
       "model_id": "4097c98a12ba435bb1407e89e25f627d",
       "version_major": 2,
       "version_minor": 0
      },
      "text/plain": [
       "Iteration T: 12:   0%|          | 0/10903 [00:00<?, ?it/s]"
      ]
     },
     "metadata": {},
     "output_type": "display_data"
    },
    {
     "data": {
      "application/vnd.jupyter.widget-view+json": {
       "model_id": "0bf01118595a4d7ebd5014de2a4a29d4",
       "version_major": 2,
       "version_minor": 0
      },
      "text/plain": [
       "Iteration T: 13:   0%|          | 0/10903 [00:00<?, ?it/s]"
      ]
     },
     "metadata": {},
     "output_type": "display_data"
    },
    {
     "data": {
      "application/vnd.jupyter.widget-view+json": {
       "model_id": "a48cbf0cd5734c05a08e6fa82e57e795",
       "version_major": 2,
       "version_minor": 0
      },
      "text/plain": [
       "Iteration T: 14:   0%|          | 0/10903 [00:00<?, ?it/s]"
      ]
     },
     "metadata": {},
     "output_type": "display_data"
    },
    {
     "name": "stdout",
     "output_type": "stream",
     "text": [
      "test bow accuracy: 0.9254470426409904\n",
      "Most Explanatory Word Features\n",
      "['impecable', 'modernas', 'sorprendió', 'enorme', 'inmejorable', 'genial', 'encantado', 'recién', 'larios', 'diseño']\n"
     ]
    },
    {
     "ename": "ValueError",
     "evalue": "WordCloud has not been calculated, call generate first.",
     "output_type": "error",
     "traceback": [
      "\u001b[1;31m---------------------------------------------------------------------------\u001b[0m",
      "\u001b[1;31mValueError\u001b[0m                                Traceback (most recent call last)",
      "\u001b[1;32mC:\\Users\\WILTON~1\\AppData\\Local\\Temp/ipykernel_16380/1976097483.py\u001b[0m in \u001b[0;36m<module>\u001b[1;34m\u001b[0m\n\u001b[0;32m     15\u001b[0m \u001b[1;32mfrom\u001b[0m \u001b[0mwordcloud\u001b[0m \u001b[1;32mimport\u001b[0m \u001b[0mWordCloud\u001b[0m\u001b[1;33m\u001b[0m\u001b[1;33m\u001b[0m\u001b[0m\n\u001b[0;32m     16\u001b[0m \u001b[0mwordcloud\u001b[0m \u001b[1;33m=\u001b[0m \u001b[0mWordCloud\u001b[0m\u001b[1;33m(\u001b[0m\u001b[0mbackground_color\u001b[0m\u001b[1;33m=\u001b[0m\u001b[1;34m\"white\"\u001b[0m\u001b[1;33m)\u001b[0m\u001b[1;33m\u001b[0m\u001b[1;33m\u001b[0m\u001b[0m\n\u001b[1;32m---> 17\u001b[1;33m \u001b[0mplt\u001b[0m\u001b[1;33m.\u001b[0m\u001b[0mimshow\u001b[0m\u001b[1;33m(\u001b[0m\u001b[0mwordcloud\u001b[0m\u001b[1;33m,\u001b[0m \u001b[0minterpolation\u001b[0m\u001b[1;33m=\u001b[0m\u001b[1;34m\"bilinear\"\u001b[0m\u001b[1;33m)\u001b[0m\u001b[1;33m\u001b[0m\u001b[1;33m\u001b[0m\u001b[0m\n\u001b[0m\u001b[0;32m     18\u001b[0m \u001b[0mplt\u001b[0m\u001b[1;33m.\u001b[0m\u001b[0maxis\u001b[0m\u001b[1;33m(\u001b[0m\u001b[1;34m\"off\"\u001b[0m\u001b[1;33m)\u001b[0m\u001b[1;33m\u001b[0m\u001b[1;33m\u001b[0m\u001b[0m\n\u001b[0;32m     19\u001b[0m \u001b[0mplt\u001b[0m\u001b[1;33m.\u001b[0m\u001b[0mshow\u001b[0m\u001b[1;33m(\u001b[0m\u001b[1;33m)\u001b[0m\u001b[1;33m\u001b[0m\u001b[1;33m\u001b[0m\u001b[0m\n",
      "\u001b[1;32md:\\apps\\python\\lib\\site-packages\\matplotlib\\pyplot.py\u001b[0m in \u001b[0;36mimshow\u001b[1;34m(X, cmap, norm, aspect, interpolation, alpha, vmin, vmax, origin, extent, filternorm, filterrad, resample, url, data, **kwargs)\u001b[0m\n\u001b[0;32m   2901\u001b[0m         \u001b[0mfilternorm\u001b[0m\u001b[1;33m=\u001b[0m\u001b[1;32mTrue\u001b[0m\u001b[1;33m,\u001b[0m \u001b[0mfilterrad\u001b[0m\u001b[1;33m=\u001b[0m\u001b[1;36m4.0\u001b[0m\u001b[1;33m,\u001b[0m \u001b[0mresample\u001b[0m\u001b[1;33m=\u001b[0m\u001b[1;32mNone\u001b[0m\u001b[1;33m,\u001b[0m \u001b[0murl\u001b[0m\u001b[1;33m=\u001b[0m\u001b[1;32mNone\u001b[0m\u001b[1;33m,\u001b[0m\u001b[1;33m\u001b[0m\u001b[1;33m\u001b[0m\u001b[0m\n\u001b[0;32m   2902\u001b[0m         data=None, **kwargs):\n\u001b[1;32m-> 2903\u001b[1;33m     __ret = gca().imshow(\n\u001b[0m\u001b[0;32m   2904\u001b[0m         \u001b[0mX\u001b[0m\u001b[1;33m,\u001b[0m \u001b[0mcmap\u001b[0m\u001b[1;33m=\u001b[0m\u001b[0mcmap\u001b[0m\u001b[1;33m,\u001b[0m \u001b[0mnorm\u001b[0m\u001b[1;33m=\u001b[0m\u001b[0mnorm\u001b[0m\u001b[1;33m,\u001b[0m \u001b[0maspect\u001b[0m\u001b[1;33m=\u001b[0m\u001b[0maspect\u001b[0m\u001b[1;33m,\u001b[0m\u001b[1;33m\u001b[0m\u001b[1;33m\u001b[0m\u001b[0m\n\u001b[0;32m   2905\u001b[0m         \u001b[0minterpolation\u001b[0m\u001b[1;33m=\u001b[0m\u001b[0minterpolation\u001b[0m\u001b[1;33m,\u001b[0m \u001b[0malpha\u001b[0m\u001b[1;33m=\u001b[0m\u001b[0malpha\u001b[0m\u001b[1;33m,\u001b[0m \u001b[0mvmin\u001b[0m\u001b[1;33m=\u001b[0m\u001b[0mvmin\u001b[0m\u001b[1;33m,\u001b[0m\u001b[1;33m\u001b[0m\u001b[1;33m\u001b[0m\u001b[0m\n",
      "\u001b[1;32md:\\apps\\python\\lib\\site-packages\\matplotlib\\__init__.py\u001b[0m in \u001b[0;36minner\u001b[1;34m(ax, data, *args, **kwargs)\u001b[0m\n\u001b[0;32m   1359\u001b[0m     \u001b[1;32mdef\u001b[0m \u001b[0minner\u001b[0m\u001b[1;33m(\u001b[0m\u001b[0max\u001b[0m\u001b[1;33m,\u001b[0m \u001b[1;33m*\u001b[0m\u001b[0margs\u001b[0m\u001b[1;33m,\u001b[0m \u001b[0mdata\u001b[0m\u001b[1;33m=\u001b[0m\u001b[1;32mNone\u001b[0m\u001b[1;33m,\u001b[0m \u001b[1;33m**\u001b[0m\u001b[0mkwargs\u001b[0m\u001b[1;33m)\u001b[0m\u001b[1;33m:\u001b[0m\u001b[1;33m\u001b[0m\u001b[1;33m\u001b[0m\u001b[0m\n\u001b[0;32m   1360\u001b[0m         \u001b[1;32mif\u001b[0m \u001b[0mdata\u001b[0m \u001b[1;32mis\u001b[0m \u001b[1;32mNone\u001b[0m\u001b[1;33m:\u001b[0m\u001b[1;33m\u001b[0m\u001b[1;33m\u001b[0m\u001b[0m\n\u001b[1;32m-> 1361\u001b[1;33m             \u001b[1;32mreturn\u001b[0m \u001b[0mfunc\u001b[0m\u001b[1;33m(\u001b[0m\u001b[0max\u001b[0m\u001b[1;33m,\u001b[0m \u001b[1;33m*\u001b[0m\u001b[0mmap\u001b[0m\u001b[1;33m(\u001b[0m\u001b[0msanitize_sequence\u001b[0m\u001b[1;33m,\u001b[0m \u001b[0margs\u001b[0m\u001b[1;33m)\u001b[0m\u001b[1;33m,\u001b[0m \u001b[1;33m**\u001b[0m\u001b[0mkwargs\u001b[0m\u001b[1;33m)\u001b[0m\u001b[1;33m\u001b[0m\u001b[1;33m\u001b[0m\u001b[0m\n\u001b[0m\u001b[0;32m   1362\u001b[0m \u001b[1;33m\u001b[0m\u001b[0m\n\u001b[0;32m   1363\u001b[0m         \u001b[0mbound\u001b[0m \u001b[1;33m=\u001b[0m \u001b[0mnew_sig\u001b[0m\u001b[1;33m.\u001b[0m\u001b[0mbind\u001b[0m\u001b[1;33m(\u001b[0m\u001b[0max\u001b[0m\u001b[1;33m,\u001b[0m \u001b[1;33m*\u001b[0m\u001b[0margs\u001b[0m\u001b[1;33m,\u001b[0m \u001b[1;33m**\u001b[0m\u001b[0mkwargs\u001b[0m\u001b[1;33m)\u001b[0m\u001b[1;33m\u001b[0m\u001b[1;33m\u001b[0m\u001b[0m\n",
      "\u001b[1;32md:\\apps\\python\\lib\\site-packages\\matplotlib\\axes\\_axes.py\u001b[0m in \u001b[0;36mimshow\u001b[1;34m(self, X, cmap, norm, aspect, interpolation, alpha, vmin, vmax, origin, extent, filternorm, filterrad, resample, url, **kwargs)\u001b[0m\n\u001b[0;32m   5607\u001b[0m                               resample=resample, **kwargs)\n\u001b[0;32m   5608\u001b[0m \u001b[1;33m\u001b[0m\u001b[0m\n\u001b[1;32m-> 5609\u001b[1;33m         \u001b[0mim\u001b[0m\u001b[1;33m.\u001b[0m\u001b[0mset_data\u001b[0m\u001b[1;33m(\u001b[0m\u001b[0mX\u001b[0m\u001b[1;33m)\u001b[0m\u001b[1;33m\u001b[0m\u001b[1;33m\u001b[0m\u001b[0m\n\u001b[0m\u001b[0;32m   5610\u001b[0m         \u001b[0mim\u001b[0m\u001b[1;33m.\u001b[0m\u001b[0mset_alpha\u001b[0m\u001b[1;33m(\u001b[0m\u001b[0malpha\u001b[0m\u001b[1;33m)\u001b[0m\u001b[1;33m\u001b[0m\u001b[1;33m\u001b[0m\u001b[0m\n\u001b[0;32m   5611\u001b[0m         \u001b[1;32mif\u001b[0m \u001b[0mim\u001b[0m\u001b[1;33m.\u001b[0m\u001b[0mget_clip_path\u001b[0m\u001b[1;33m(\u001b[0m\u001b[1;33m)\u001b[0m \u001b[1;32mis\u001b[0m \u001b[1;32mNone\u001b[0m\u001b[1;33m:\u001b[0m\u001b[1;33m\u001b[0m\u001b[1;33m\u001b[0m\u001b[0m\n",
      "\u001b[1;32md:\\apps\\python\\lib\\site-packages\\matplotlib\\image.py\u001b[0m in \u001b[0;36mset_data\u001b[1;34m(self, A)\u001b[0m\n\u001b[0;32m    694\u001b[0m         \u001b[1;32mif\u001b[0m \u001b[0misinstance\u001b[0m\u001b[1;33m(\u001b[0m\u001b[0mA\u001b[0m\u001b[1;33m,\u001b[0m \u001b[0mPIL\u001b[0m\u001b[1;33m.\u001b[0m\u001b[0mImage\u001b[0m\u001b[1;33m.\u001b[0m\u001b[0mImage\u001b[0m\u001b[1;33m)\u001b[0m\u001b[1;33m:\u001b[0m\u001b[1;33m\u001b[0m\u001b[1;33m\u001b[0m\u001b[0m\n\u001b[0;32m    695\u001b[0m             \u001b[0mA\u001b[0m \u001b[1;33m=\u001b[0m \u001b[0mpil_to_array\u001b[0m\u001b[1;33m(\u001b[0m\u001b[0mA\u001b[0m\u001b[1;33m)\u001b[0m  \u001b[1;31m# Needed e.g. to apply png palette.\u001b[0m\u001b[1;33m\u001b[0m\u001b[1;33m\u001b[0m\u001b[0m\n\u001b[1;32m--> 696\u001b[1;33m         \u001b[0mself\u001b[0m\u001b[1;33m.\u001b[0m\u001b[0m_A\u001b[0m \u001b[1;33m=\u001b[0m \u001b[0mcbook\u001b[0m\u001b[1;33m.\u001b[0m\u001b[0msafe_masked_invalid\u001b[0m\u001b[1;33m(\u001b[0m\u001b[0mA\u001b[0m\u001b[1;33m,\u001b[0m \u001b[0mcopy\u001b[0m\u001b[1;33m=\u001b[0m\u001b[1;32mTrue\u001b[0m\u001b[1;33m)\u001b[0m\u001b[1;33m\u001b[0m\u001b[1;33m\u001b[0m\u001b[0m\n\u001b[0m\u001b[0;32m    697\u001b[0m \u001b[1;33m\u001b[0m\u001b[0m\n\u001b[0;32m    698\u001b[0m         if (self._A.dtype != np.uint8 and\n",
      "\u001b[1;32md:\\apps\\python\\lib\\site-packages\\matplotlib\\cbook\\__init__.py\u001b[0m in \u001b[0;36msafe_masked_invalid\u001b[1;34m(x, copy)\u001b[0m\n\u001b[0;32m    734\u001b[0m \u001b[1;33m\u001b[0m\u001b[0m\n\u001b[0;32m    735\u001b[0m \u001b[1;32mdef\u001b[0m \u001b[0msafe_masked_invalid\u001b[0m\u001b[1;33m(\u001b[0m\u001b[0mx\u001b[0m\u001b[1;33m,\u001b[0m \u001b[0mcopy\u001b[0m\u001b[1;33m=\u001b[0m\u001b[1;32mFalse\u001b[0m\u001b[1;33m)\u001b[0m\u001b[1;33m:\u001b[0m\u001b[1;33m\u001b[0m\u001b[1;33m\u001b[0m\u001b[0m\n\u001b[1;32m--> 736\u001b[1;33m     \u001b[0mx\u001b[0m \u001b[1;33m=\u001b[0m \u001b[0mnp\u001b[0m\u001b[1;33m.\u001b[0m\u001b[0marray\u001b[0m\u001b[1;33m(\u001b[0m\u001b[0mx\u001b[0m\u001b[1;33m,\u001b[0m \u001b[0msubok\u001b[0m\u001b[1;33m=\u001b[0m\u001b[1;32mTrue\u001b[0m\u001b[1;33m,\u001b[0m \u001b[0mcopy\u001b[0m\u001b[1;33m=\u001b[0m\u001b[0mcopy\u001b[0m\u001b[1;33m)\u001b[0m\u001b[1;33m\u001b[0m\u001b[1;33m\u001b[0m\u001b[0m\n\u001b[0m\u001b[0;32m    737\u001b[0m     \u001b[1;32mif\u001b[0m \u001b[1;32mnot\u001b[0m \u001b[0mx\u001b[0m\u001b[1;33m.\u001b[0m\u001b[0mdtype\u001b[0m\u001b[1;33m.\u001b[0m\u001b[0misnative\u001b[0m\u001b[1;33m:\u001b[0m\u001b[1;33m\u001b[0m\u001b[1;33m\u001b[0m\u001b[0m\n\u001b[0;32m    738\u001b[0m         \u001b[1;31m# If we have already made a copy, do the byteswap in place, else make a\u001b[0m\u001b[1;33m\u001b[0m\u001b[1;33m\u001b[0m\u001b[1;33m\u001b[0m\u001b[0m\n",
      "\u001b[1;32md:\\apps\\python\\lib\\site-packages\\wordcloud\\wordcloud.py\u001b[0m in \u001b[0;36m__array__\u001b[1;34m(self)\u001b[0m\n\u001b[0;32m    738\u001b[0m             \u001b[0mWord\u001b[0m \u001b[0mcloud\u001b[0m \u001b[0mimage\u001b[0m \u001b[1;32mas\u001b[0m \u001b[0mnumpy\u001b[0m \u001b[0mmatrix\u001b[0m\u001b[1;33m.\u001b[0m\u001b[1;33m\u001b[0m\u001b[1;33m\u001b[0m\u001b[0m\n\u001b[0;32m    739\u001b[0m         \"\"\"\n\u001b[1;32m--> 740\u001b[1;33m         \u001b[1;32mreturn\u001b[0m \u001b[0mself\u001b[0m\u001b[1;33m.\u001b[0m\u001b[0mto_array\u001b[0m\u001b[1;33m(\u001b[0m\u001b[1;33m)\u001b[0m\u001b[1;33m\u001b[0m\u001b[1;33m\u001b[0m\u001b[0m\n\u001b[0m\u001b[0;32m    741\u001b[0m \u001b[1;33m\u001b[0m\u001b[0m\n\u001b[0;32m    742\u001b[0m     \u001b[1;32mdef\u001b[0m \u001b[0mto_html\u001b[0m\u001b[1;33m(\u001b[0m\u001b[0mself\u001b[0m\u001b[1;33m)\u001b[0m\u001b[1;33m:\u001b[0m\u001b[1;33m\u001b[0m\u001b[1;33m\u001b[0m\u001b[0m\n",
      "\u001b[1;32md:\\apps\\python\\lib\\site-packages\\wordcloud\\wordcloud.py\u001b[0m in \u001b[0;36mto_array\u001b[1;34m(self)\u001b[0m\n\u001b[0;32m    728\u001b[0m             \u001b[0mWord\u001b[0m \u001b[0mcloud\u001b[0m \u001b[0mimage\u001b[0m \u001b[1;32mas\u001b[0m \u001b[0mnumpy\u001b[0m \u001b[0mmatrix\u001b[0m\u001b[1;33m.\u001b[0m\u001b[1;33m\u001b[0m\u001b[1;33m\u001b[0m\u001b[0m\n\u001b[0;32m    729\u001b[0m         \"\"\"\n\u001b[1;32m--> 730\u001b[1;33m         \u001b[1;32mreturn\u001b[0m \u001b[0mnp\u001b[0m\u001b[1;33m.\u001b[0m\u001b[0marray\u001b[0m\u001b[1;33m(\u001b[0m\u001b[0mself\u001b[0m\u001b[1;33m.\u001b[0m\u001b[0mto_image\u001b[0m\u001b[1;33m(\u001b[0m\u001b[1;33m)\u001b[0m\u001b[1;33m)\u001b[0m\u001b[1;33m\u001b[0m\u001b[1;33m\u001b[0m\u001b[0m\n\u001b[0m\u001b[0;32m    731\u001b[0m \u001b[1;33m\u001b[0m\u001b[0m\n\u001b[0;32m    732\u001b[0m     \u001b[1;32mdef\u001b[0m \u001b[0m__array__\u001b[0m\u001b[1;33m(\u001b[0m\u001b[0mself\u001b[0m\u001b[1;33m)\u001b[0m\u001b[1;33m:\u001b[0m\u001b[1;33m\u001b[0m\u001b[1;33m\u001b[0m\u001b[0m\n",
      "\u001b[1;32md:\\apps\\python\\lib\\site-packages\\wordcloud\\wordcloud.py\u001b[0m in \u001b[0;36mto_image\u001b[1;34m(self)\u001b[0m\n\u001b[0;32m    639\u001b[0m \u001b[1;33m\u001b[0m\u001b[0m\n\u001b[0;32m    640\u001b[0m     \u001b[1;32mdef\u001b[0m \u001b[0mto_image\u001b[0m\u001b[1;33m(\u001b[0m\u001b[0mself\u001b[0m\u001b[1;33m)\u001b[0m\u001b[1;33m:\u001b[0m\u001b[1;33m\u001b[0m\u001b[1;33m\u001b[0m\u001b[0m\n\u001b[1;32m--> 641\u001b[1;33m         \u001b[0mself\u001b[0m\u001b[1;33m.\u001b[0m\u001b[0m_check_generated\u001b[0m\u001b[1;33m(\u001b[0m\u001b[1;33m)\u001b[0m\u001b[1;33m\u001b[0m\u001b[1;33m\u001b[0m\u001b[0m\n\u001b[0m\u001b[0;32m    642\u001b[0m         \u001b[1;32mif\u001b[0m \u001b[0mself\u001b[0m\u001b[1;33m.\u001b[0m\u001b[0mmask\u001b[0m \u001b[1;32mis\u001b[0m \u001b[1;32mnot\u001b[0m \u001b[1;32mNone\u001b[0m\u001b[1;33m:\u001b[0m\u001b[1;33m\u001b[0m\u001b[1;33m\u001b[0m\u001b[0m\n\u001b[0;32m    643\u001b[0m             \u001b[0mwidth\u001b[0m \u001b[1;33m=\u001b[0m \u001b[0mself\u001b[0m\u001b[1;33m.\u001b[0m\u001b[0mmask\u001b[0m\u001b[1;33m.\u001b[0m\u001b[0mshape\u001b[0m\u001b[1;33m[\u001b[0m\u001b[1;36m1\u001b[0m\u001b[1;33m]\u001b[0m\u001b[1;33m\u001b[0m\u001b[1;33m\u001b[0m\u001b[0m\n",
      "\u001b[1;32md:\\apps\\python\\lib\\site-packages\\wordcloud\\wordcloud.py\u001b[0m in \u001b[0;36m_check_generated\u001b[1;34m(self)\u001b[0m\n\u001b[0;32m    635\u001b[0m         \u001b[1;34m\"\"\"Check if ``layout_`` was computed, otherwise raise error.\"\"\"\u001b[0m\u001b[1;33m\u001b[0m\u001b[1;33m\u001b[0m\u001b[0m\n\u001b[0;32m    636\u001b[0m         \u001b[1;32mif\u001b[0m \u001b[1;32mnot\u001b[0m \u001b[0mhasattr\u001b[0m\u001b[1;33m(\u001b[0m\u001b[0mself\u001b[0m\u001b[1;33m,\u001b[0m \u001b[1;34m\"layout_\"\u001b[0m\u001b[1;33m)\u001b[0m\u001b[1;33m:\u001b[0m\u001b[1;33m\u001b[0m\u001b[1;33m\u001b[0m\u001b[0m\n\u001b[1;32m--> 637\u001b[1;33m             raise ValueError(\"WordCloud has not been calculated, call generate\"\n\u001b[0m\u001b[0;32m    638\u001b[0m                              \" first.\")\n\u001b[0;32m    639\u001b[0m \u001b[1;33m\u001b[0m\u001b[0m\n",
      "\u001b[1;31mValueError\u001b[0m: WordCloud has not been calculated, call generate first."
     ]
    },
    {
     "data": {
      "image/png": "[encoded data removed]",
      "text/plain": [
       "<Figure size 432x288 with 1 Axes>"
      ]
     },
     "metadata": {
      "needs_background": "light"
     },
     "output_type": "display_data"
    }
   ],
   "source": [
    "# Hyperparameters\n",
    "Tp = 15\n",
    "Lp = 0.01\n",
    "thetha_t, thetha_t_0 = clf.average_perceptron(X_train, Y_train, Tp)\n",
    "test_predicted_labels = clf.classify(X_test, thetha_t, thetha_t_0)\n",
    "test_accuracy = clf.accuracy(test_predicted_labels, Y_test)\n",
    "print(\"test bow accuracy: {}\".format(test_accuracy))\n",
    "\n",
    "best_theta = thetha_t\n",
    "wordlist   = [word for (idx, word) in sorted(zip(dictionary.values(), dictionary.keys()))]\n",
    "sorted_word_features = clf.most_explanatory_word(best_theta, wordlist)\n",
    "print(\"Most Explanatory Word Features\")\n",
    "print(sorted_word_features[:10])\n",
    "\n"
   ]
  },
  {
   "cell_type": "code",
   "execution_count": 461,
   "id": "2635dc68",
   "metadata": {},
   "outputs": [
    {
     "data": {
      "image/png": "[encoded data removed]",
      "text/plain": [
       "<Figure size 1080x720 with 1 Axes>"
      ]
     },
     "metadata": {
      "needs_background": "light"
     },
     "output_type": "display_data"
    }
   ],
   "source": [
    "from wordcloud import WordCloud\n",
    "\n",
    "unique = (\" \").join(sorted_word_features[:10])\n",
    "\n",
    "wordcloud = WordCloud(background_color=\"white\", width=1000, height=700).generate(unique)\n",
    "plt.figure(figsize=[15,10])\n",
    "plt.imshow(wordcloud, interpolation=\"bilinear\")\n",
    "plt.axis(\"off\")\n",
    "plt.show()"
   ]
  },
  {
   "cell_type": "code",
   "execution_count": null,
   "id": "f49657f9",
   "metadata": {},
   "outputs": [],
   "source": []
  }
 ],
 "metadata": {
  "kernelspec": {
   "display_name": "Python 3 (ipykernel)",
   "language": "python",
   "name": "python3"
  },
  "language_info": {
   "codemirror_mode": {
    "name": "ipython",
    "version": 3
   },
   "file_extension": ".py",
   "mimetype": "text/x-python",
   "name": "python",
   "nbconvert_exporter": "python",
   "pygments_lexer": "ipython3",
   "version": "3.8.5"
  }
 },
 "nbformat": 4,
 "nbformat_minor": 5
}
